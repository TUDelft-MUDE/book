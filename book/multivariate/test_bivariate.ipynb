{
 "cells": [
  {
   "cell_type": "markdown",
   "metadata": {},
   "source": [
    "# Test `bivariate`\n",
    "\n",
    "Copied and extended from Risk and Reliability Book in October, 2024."
   ]
  },
  {
   "cell_type": "code",
   "execution_count": null,
   "metadata": {
    "vscode": {
     "languageId": "plaintext"
    }
   },
   "outputs": [],
   "source": [
    "# thebe-remove-input-init\n",
    "import micropip\n",
    "await micropip.install(\"../packages/pyvinecopulib-0.6.5-cp311-cp311-emscripten_3_1_45_wasm32.whl\", keep_going=True)\n",
    "await micropip.install(\"bivariate\", keep_going=True)"
   ]
  },
  {
   "cell_type": "code",
   "execution_count": null,
   "metadata": {
    "vscode": {
     "languageId": "plaintext"
    }
   },
   "outputs": [],
   "source": [
    "import bivariate\n",
    "\n",
    "import pandas as pd\n",
    "import numpy as np\n",
    "import matplotlib.pyplot as plt\n",
    "import pyvinecopulib as cop\n",
    "import scipy.stats as st"
   ]
  },
  {
   "cell_type": "code",
   "execution_count": null,
   "metadata": {
    "vscode": {
     "languageId": "plaintext"
    }
   },
   "outputs": [],
   "source": [
    "# Define distributions\n",
    "s = 0.198\n",
    "loc = 0.000\n",
    "scale = 98.058\n",
    "Q_1 = st.lognorm(s=s, loc=loc, scale=scale)   # Random Variable Q_1, lognormal distribution\n",
    "Q_2 = st.lognorm(s=s, loc=loc, scale=scale)   # Random Variable Q_2, lognormal distribution\n",
    "\n",
    "# Generate random samples\n",
    "n = 10000 # Number of samples\n",
    "\n",
    "Q_1_samples = Q_1.rvs(size=n)    # Generate n samples from scipy instance Q_1, defined in cell above\n",
    "Q_2_samples = Q_2.rvs(size=n)    # Generate n samples from scipy instance Q_2, defined in cell above\n",
    "\n",
    "# Combine marginal sample lists into a combined list\n",
    "Q_combined_samples = np.array([Q_1_samples, Q_2_samples]).T\n",
    "\n",
    "# Create an instance of the Region_of_interest class, by assigning the combined samples as an attribute\n",
    "# This allows to perform operation, such as plotting\n",
    "Q_class_A = bivariate.class_copula.Region_of_interest(random_samples=Q_combined_samples)\n",
    "\n",
    "# Plot the emperical contours of the random samples\n",
    "Q_class_A.plot_emperical_contours(bandwidth=4)\n",
    "\n",
    "# Define reliability analysis function\n",
    "def maximum_discharge_function(X1,X2):\n",
    "    Q_max = 275.0\n",
    "    function = (X1 + X2 - Q_max >= 0)\n",
    "    return function\n",
    "  \n",
    "  # Assign the function to the class instance\n",
    "Q_class_A.function =  maximum_discharge_function\n",
    "\n",
    "# Run the function needed to check if the points are inside the region of interest\n",
    "Q_class_A.inside_function()\n",
    "\n",
    "# Plot the points inside the region of interest\n",
    "Q_class_A.plot_inside_function();"
   ]
  }
 ],
 "metadata": {
  "language_info": {
   "name": "python"
  }
 },
 "nbformat": 4,
 "nbformat_minor": 2
}
