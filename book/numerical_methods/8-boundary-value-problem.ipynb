{
 "cells": [
  {
   "cell_type": "markdown",
   "id": "6db96df8-eaed-43c3-baee-2ffd0ec9b1d8",
   "metadata": {},
   "source": [
    "# Boundary-value Problems: second-order ODE\n",
    "\n",
    "To solve a first order ODE, one constraint is needed (initial value problem,, IVP). In the case of a second order ODE, two constraints are needed. **If the constraints are defined at different locations of the domain, then you will be dealing with a Boundary-value problem (BVP)**. See the following examples:\n",
    "\n",
    "$$\n",
    "\\frac{dp}{dt} = -p^{3/2} + 5*p_{cst}(1-e^{-t}) \\text{ first order ODE -> IVP with 1 constraints }  p[0] = 1000 \n",
    "$$\n",
    "\n",
    "$$\n",
    "\\frac{d^2y}{dt^2} = \\frac{dy}{dt} -y + \\cos t =0 \\text{ second order ODE -> IVP with 2 constraints }  y[0] = 2 \\text{ and } \\left. \\frac{dy}{dt} \\right|_{t=0} = 5\n",
    "$$\n",
    "\n",
    "$$\n",
    "\\frac{d^2T}{dx^2}-\\alpha_1(T-T_s) =0 \\text{ second order ODE -> BVP with 2 constraints }  T[0] = 10 \\text{ and }T[-1] = 20\n",
    "$$\n",
    "\n",
    "Even for higher ODE orders, the number of constrains required corresponds to the order of the ODE. It is clear that a second order ODE can either be an IVP or a BVP. The former case is common when describing time derivatives and the latter case is common when describing space derivatives. From now on, we focus on BVP. \n",
    "\n",
    "## Boundary Conditions\n",
    "\n",
    "A second order ODE BVP of the type:\n",
    "\n",
    "$$\n",
    "\\frac{d^2y}{dx^2} = g(x,y,\\frac{dy}{dx})\n",
    "$$\n",
    "\n",
    "with a domain solution $a<=x<=b$ and boundary conditions (or constraints) defined at $a$ and $b$ typically has two types of boundary conditions: \n",
    "\n",
    " - Dirichlet boundary conditions \n",
    "$$\n",
    "y(x=a) = Y_a \\text{ and } y(x=b) = Y_b\n",
    "$$\n",
    " - Neumann boundary conditions\n",
    "$$\n",
    "\\left. \\frac{dy}{dx} \\right|_{x=a} = D_a \\text{ and } \\left. \\frac{dy}{dx} \\right|_{x=b} = D_b\n",
    "$$\n",
    "\n",
    "Of course, a combination of BC can also exist. \n",
    "\n",
    "Consider the following equation that describes the deformation $y$ of a beam with length $L$ clamped at $x=0$ and $x=L$:\n",
    "\n",
    "$$\n",
    "\\frac{d^4y}{dx^4}=\\alpha \\text{ load}(x) \n",
    "$$\n",
    "\n",
    "where $\\alpha$ represents the beams material characteristics.\n",
    "\n",
    "As it is and ODE of fourth order, it needs 4 BCs. The nature of the problem states that the **deformation** and the **slope of the deformation** at the ends is 0, thus, two Dirichlet and two Neumann BCs:  \n",
    "\n",
    "$$\n",
    "y(0)=0; \\left. \\frac{dy}{dx} \\right|_{x=0}=0;  y(L)=0; \\left. \\frac{dy}{dx} \\right|_{x=L}=0; \n",
    "$$\n",
    "\n",
    "## Solving a BVP using Finite Differences\n",
    "\n",
    "Just like in the initial value problem section, here the derivatives are approximated numerically following a desired method and order of accuracy. Now the domain going from $a$ to $b$ is discretized using a determined number of grid points $n$ and, thus, a number of subintervals $N$. There is always one more point than subintervals, $n=N+1$. This is the grid (see Figure below) and, if the spacing is regular, then the length of the subinterval is $\\Delta x = (b-a)/N$. \n",
    "\n",
    "<img src=\"figs/1d_grid.png\" width=450px></img>\n",
    "\n",
    "The Boundary Conditions are defined at the end points and the discretization is applied at **almost** every point. This depends on the numerical approximation. The following steps are followed to solve a BVP:\n",
    "\n",
    "1.- Discretization of the differential equation with a numerical approximation of choice\n",
    "\n",
    "2.- Parameter definition\n",
    "\n",
    "3.- Grid creation\n",
    "\n",
    "4.- Define Boundary conditions \n",
    "\n",
    "5.- Building a system of equations according to the discretization: $Ay=b$\n",
    "\n",
    "6.- Solving the system"
   ]
  },
  {
   "cell_type": "markdown",
   "id": "87cf17a8",
   "metadata": {},
   "source": [
    "Let's consider the following problem:"
   ]
  },
  {
   "cell_type": "code",
   "execution_count": 50,
   "id": "2b7fbc34",
   "metadata": {},
   "outputs": [
    {
     "name": "stdout",
     "output_type": "stream",
     "text": [
      "[473.         424.41170796 384.58419644 350.86229802 320.99788614\n",
      " 293.        ]\n"
     ]
    },
    {
     "data": {
      "text/plain": [
       "[<matplotlib.lines.Line2D at 0x2af3079dd00>]"
      ]
     },
     "execution_count": 50,
     "metadata": {},
     "output_type": "execute_result"
    },
    {
     "data": {
      "image/png": "[encoded data removed]",
      "text/plain": [
       "<Figure size 640x480 with 1 Axes>"
      ]
     },
     "metadata": {},
     "output_type": "display_data"
    }
   ],
   "source": [
    "import numpy as np \n",
    "import matplotlib.pyplot as plt\n",
    "\n",
    "\n",
    "hc = 40\n",
    "P = 0.016\n",
    "k = 240\n",
    "Ac = 1.6e-5\n",
    "h=0.02\n",
    "Ts = 293\n",
    "beta = hc*P/(k*Ac)\n",
    "matrix_element = -(2+h**2*beta)\n",
    "b_element = -h**2*beta*Ts\n",
    "\n",
    "# grid creation\n",
    "x = np.arange(0,0.1+h,h)\n",
    "T = np.zeros(x.shape)\n",
    "\n",
    "# boundary conditions\n",
    "T[0] = 473\n",
    "T[-1] = 293\n",
    "\n",
    "# Building matrix A\n",
    "A = np.zeros((len(x)-2,len(x)-2))\n",
    "np.fill_diagonal(A, matrix_element)\n",
    "A[np.arange(3), np.arange(1, 4)] = 1  # Upper diagonal\n",
    "A[np.arange(1, 4), np.arange(3)] = 1  # Lower diagonal\n",
    "\n",
    "b = np.array([ b_element - T[0] , b_element, b_element,  b_element - T[-1]])\n",
    "\n",
    "\n",
    "A_inv = np.linalg.inv(A)\n",
    "T[1:-1] = A_inv @ b\n",
    "\n",
    "print(T)\n",
    "plt.plot(x,T,'*')"
   ]
  },
  {
   "cell_type": "code",
   "execution_count": 49,
   "id": "ddee9518",
   "metadata": {},
   "outputs": [
    {
     "name": "stdout",
     "output_type": "stream",
     "text": [
      "[473.         419.39498433 377.78996865 344.61128527 317.08526646\n",
      " 293.        ]\n"
     ]
    },
    {
     "data": {
      "text/plain": [
       "[<matplotlib.lines.Line2D at 0x2af2f71cb30>]"
      ]
     },
     "execution_count": 49,
     "metadata": {},
     "output_type": "execute_result"
    },
    {
     "data": {
      "image/png": "[encoded data removed]",
      "text/plain": [
       "<Figure size 640x480 with 1 Axes>"
      ]
     },
     "metadata": {},
     "output_type": "display_data"
    }
   ],
   "source": [
    "import numpy as np \n",
    "import matplotlib.pyplot as plt\n",
    "\n",
    "\n",
    "hc = 40\n",
    "P = 0.016\n",
    "k = 240\n",
    "Ac = 1.6e-5\n",
    "h=0.02\n",
    "Ts = 293\n",
    "x = np.arange(0,0.1+h,h)\n",
    "beta = hc*P/(k*Ac)\n",
    "matrix_element = 1-beta*h**2\n",
    "b_element = -beta*Ts*h**2\n",
    "\n",
    "T = np.zeros(x.shape)\n",
    "T[0] = 473\n",
    "T[-1] = 293\n",
    "\n",
    "A = np.zeros((len(x)-2,len(x)-2))\n",
    "\n",
    "np.fill_diagonal(A, -2)\n",
    "A[np.arange(3), np.arange(1, 4)] = 1  # Upper diagonal\n",
    "A[np.arange(1, 4), np.arange(3)] = matrix_element  # Lower diagonal\n",
    "\n",
    "\n",
    "b = np.array([ b_element - matrix_element * T[0] , b_element, b_element,  b_element - T[-1]])\n",
    "#print(A,'\\n\\n\\n',b,'\\n\\n\\n')\n",
    "#print(A\\b')\n",
    "\n",
    "A_inv = np.linalg.inv(A)\n",
    "\n",
    "# Step 2: Multiply the inverse of A by vector b\n",
    "#T[1:-1] = np.dot(A_inv, b)\n",
    "T[1:-1] = A_inv @ b\n",
    "#T[1:-1] = np.linalg.solve(A,b)\n",
    "\n",
    "print(T)\n",
    "\n",
    "plt.plot(x,T,'*')"
   ]
  }
 ],
 "metadata": {
  "kernelspec": {
   "display_name": "Python 3 (ipykernel)",
   "language": "python",
   "name": "python3"
  },
  "language_info": {
   "codemirror_mode": {
    "name": "ipython",
    "version": 3
   },
   "file_extension": ".py",
   "mimetype": "text/x-python",
   "name": "python",
   "nbconvert_exporter": "python",
   "pygments_lexer": "ipython3",
   "version": "3.12.4"
  }
 },
 "nbformat": 4,
 "nbformat_minor": 5
}
