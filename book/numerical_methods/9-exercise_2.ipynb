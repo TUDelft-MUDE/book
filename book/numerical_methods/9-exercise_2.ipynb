{
 "cells": [
  {
   "cell_type": "markdown",
   "metadata": {},
   "source": [
    "# An Exercise for a Summary?\n",
    "\n",
    "After having gone through the Taylor series, forward and backward Euler, ODE solvers, iterative root finding methods and the stability of implicit and explicit systems, let’s take a look at a simple problem to bring these concepts into practice, all at once. This section shows you what a numerical code for solving differential equations looks like. The code itself is scalable for solving the most complicated differential equations in engineering such as the stress-strain equations, the Navier-Stokes equations and the Maxwell equations. \n",
    "\n",
    "Please go through this section while trying to write down everything on a piece of paper (to check how well you have understood the above-mentioned concepts). \n",
    "\n",
    "Consider the non-linear ODE\n",
    "\n",
    "$$\\dot{y}=\\sin y^3 + \\sin t, \\hspace{10px} y(0)=1$$\n",
    "\n",
    "Let’s solve by extracting terms from the Taylor series expansions to obtain the following:\n",
    "\n",
    "$$\\begin{split}\n",
    "\\begin{gather}\n",
    "\\text{Forward Euler: } y_{n+1}=y_n+\\Delta t(\\sin y_n^3 + \\sin t_n)\\\\\n",
    "\\text{Backward Euler: } y_{n+1}=y_n+\\Delta t(\\sin y_{n+1}^3 + \\sin t_{n+1})\n",
    "\\end{gather}\n",
    "\\end{split}\n",
    "$$\n",
    "\n",
    "Now, rewrite the above expressions in their residual forms to define a function $f$ such that the $f(y) = 0$, where $y$ is the root we are trying to find. \n",
    "\n",
    "$$\n",
    "\\begin{split}\n",
    "\\begin{gather}\n",
    "\\text{Forward Euler: } f(y_{n+1})=y_{n+1}-y_n-\\Delta t(\\sin y_{n}^3 + \\sin t_{n})\\\\\n",
    "\\text{Backward Euler: } f(y_{n+1})=y_{n+1}-y_n-\\Delta t(\\sin y_{n+1}^3 + \\sin t_{n+1})\n",
    "\\end{gather}\n",
    "\\end{split}\n",
    "$$\n",
    "\n",
    "Next, we’ll solve these equations. The Forward Euler equation is explicit and can be solved in steps. The Backward Euler equation is implicit and can be solved with the Newton-Raphson method. \n",
    "\n",
    "$$y_{n+1,k+1}=y_{n+1,k}-\\frac{f(y_{n+1,k})}{f'(y_{n+1,k})}$$\n",
    "\n",
    "and perform enough iterations $k$ till we satisfy:\n",
    "\n",
    "$|f(y_{n+1})|<\\epsilon = 10^{-6}$ (or whatever you choose). The plots below have been generated using a Python code. Move the slider to change the value of the discrete time step, $\\Delta tue, to understand its influence on the accuracy and stability. \n"
   ]
  },
  {
   "cell_type": "markdown",
   "metadata": {},
   "source": [
    "\n",
    "**FOR JUSTIN:** Here is the code to solve both the Forward and Backward Euler approximations of the non-linear ODE in question, with the latter being solved with Newton-Raphson. We can make this interactive with a slider for the variable$(\\Delta $), followed by the questions (again in black at the end of the cod)e"
   ]
  },
  {
   "cell_type": "markdown",
   "metadata": {},
   "source": [
    "Problem statement:\n",
    "$$y' = sin(y**3) + sin(t)$$\n",
    "$$y(0) = 1$$\n",
    "\n",
    "Forward Euler: $$y_n+1 = y_n + dt*f(y_n)$$\n",
    "Backward Euler: $$y_n+1 = y_n + dt*f(y_n+1)$$"
   ]
  },
  {
   "cell_type": "code",
   "execution_count": null,
   "metadata": {
    "tags": [
     "thebe-remove-input-init"
    ]
   },
   "outputs": [],
   "source": [
    "import numpy as np\n",
    "from math import e, cos, sin, ceil\n",
    "import matplotlib.pyplot as plt\n",
    "from ipywidgets import widgets, interact"
   ]
  },
  {
   "cell_type": "code",
   "execution_count": null,
   "metadata": {
    "tags": [
     "thebe-remove-input-init"
    ]
   },
   "outputs": [],
   "source": [
    "\n",
    "def f(y, t):\n",
    "    return sin(y**3) + sin(t)\n",
    "\n",
    "def df_dy(y, t):\n",
    "    return 3*y**2*cos(y**3)\n",
    "\n",
    "def plot(dt):\n",
    "    fig, ax = plt.subplots(1, 1)\n",
    "    font = {'family': 'serif',\n",
    "        'color':  'darkred',\n",
    "        'weight': 'normal',\n",
    "        'size': 14,\n",
    "        }\n",
    "    ax.set_title('Nonlinear ODE with dt = ' + str(dt), fontdict=font)\n",
    "    \n",
    "    # Define parameters\n",
    "    tot_time = 10\n",
    "    num_steps = ceil(tot_time / dt)\n",
    "    exact_steps = min(50000, 100 * num_steps)\n",
    "    time_vec = np.linspace(0, tot_time, num_steps+1)\n",
    "    time_vec_exact = np.linspace(0, tot_time, exact_steps+1)\n",
    "\n",
    "    # Allocate memory:\n",
    "    sol_forward = np.zeros((num_steps+1,))\n",
    "    sol_backward = np.zeros((num_steps+1,))\n",
    "    \n",
    "    sol_forward[0] = 1\n",
    "    sol_backward[0] = 1\n",
    "    \n",
    "    # Perform time-integration\n",
    "    for ii in range(1, num_steps+1):   \n",
    "        # Forward Euler:\n",
    "        sol_forward[ii] = sol_forward[ii - 1] + dt * f(sol_forward[ii - 1], time_vec[ii - 1])\n",
    "\n",
    "         # Backward Euler:\n",
    "        sol_backward[ii] = sol_backward[ii - 1] # initial guess\n",
    "        for n in range(200):\n",
    "            rhs = sol_backward[ii] - sol_backward[ii-1] - dt * f(sol_backward[ii], time_vec[ii])\n",
    "            if np.abs(rhs) < 1e-8:\n",
    "                break\n",
    "            sol_backward[ii] -=  rhs / (1 - dt * df_dy(sol_backward[ii], time_vec[ii]))\n",
    "        \n",
    "        if n >= 199:\n",
    "            ax.set_title('Nonlinear ODE with dt = ' + str(dt) + ', did not converge', fontdict=font)     \n",
    "    \n",
    "    line = ax.plot(time_vec, sol_forward, 'r', time_vec, sol_backward, 'g--')    \n",
    "    ax.set_xlabel('t', fontdict=font)\n",
    "    ax.set_ylabel('y', fontdict=font)\n",
    "    ax.legend(('forward','backward'))\n",
    "    ax.grid()\n",
    "    fig.canvas.draw()\n",
    "    plt.show()"
   ]
  },
  {
   "cell_type": "code",
   "execution_count": null,
   "metadata": {
    "tags": [
     "thebe-init",
     "auto-execute-page"
    ]
   },
   "outputs": [],
   "source": [
    "interact(plot, dt = widgets.FloatSlider(min=0.01, max=0.5, value=0.03, step=0.01, description=\"time-step\",readout_format='.2f'));\n"
   ]
  },
  {
   "cell_type": "markdown",
   "metadata": {},
   "source": [
    "Adjust the slider to a time-step of $0.01$, how do the backward and forward Euler methods compare with each other? And why? Assume this solution is the ‘exact’ one. \n",
    "\n",
    "Gradually increase the time-step to$ 0.$1,$ 0.$2 and$ 0.$3. What happens to the forward Euler method? How does it affect its accuracy? How does the backward Euler method remain consistent\n",
    "?\n",
    "Increase the time-step t$o 0$.5. Do the methods remain accurate? Does stability guarantee accuracy? \n"
   ]
  },
  {
   "cell_type": "markdown",
   "metadata": {},
   "source": []
  }
 ],
 "metadata": {
  "language_info": {
   "name": "python"
  },
  "orig_nbformat": 4
 },
 "nbformat": 4,
 "nbformat_minor": 2
}
