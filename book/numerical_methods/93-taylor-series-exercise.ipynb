{
 "cells": [
  {
   "cell_type": "markdown",
   "metadata": {},
   "source": [
    "# Exercises on Taylor expansion\n",
    "\n",
    "This page shows some exercises on calculation Taylor expansion. If you reload this page, you'll get new values.\n"
   ]
  },
  {
   "cell_type": "code",
   "execution_count": 74,
   "metadata": {
    "tags": [
     "thebe-remove-input-init"
    ]
   },
   "outputs": [],
   "source": [
    "import sympy as sp\n",
    "import numpy as np\n",
    "from sympy import pi, latex\n",
    "from sympy.printing.mathml import mathml\n",
    "\n",
    "import operator\n",
    "import ipywidgets as widgets\n",
    "from IPython.display import display, Latex, display_jpeg, Math, Markdown\n",
    "sp.init_printing(use_latex=True)\n",
    "\n",
    "check_equation = lambda eq1, eq2: sp.simplify(eq1 - eq2) == 0\n",
    "\n",
    "def check_answer(variable_name, expected, comparison=operator.eq):\n",
    "    output = widgets.Output()\n",
    "    correct_output = widgets.Output()\n",
    "    button = widgets.Button(description=\"Check answer\")\n",
    "    show_correct_button = widgets.Button(description=\"Show correct answer\")\n",
    "\n",
    "    def _inner_check(button):\n",
    "        with output:\n",
    "            if comparison(globals()[variable_name], expected):\n",
    "                output.outputs = [{'name': 'stdout', 'text': 'Correct!',\n",
    "                                   'output_type': 'stream'}]\n",
    "                correct_output.clear_output()  # Clear the correct answer display if they got it right\n",
    "            else:\n",
    "                output.outputs = [{'name': 'stdout', 'text': 'Incorrect!',\n",
    "                                   'output_type': 'stream'}]\n",
    "    \n",
    "    def _show_correct_answer(button):\n",
    "        with correct_output:\n",
    "            correct_output.clear_output()  # Clear previous outputs\n",
    "            latex(Math(display(f\"The correct answer is: {expected}\")))\n",
    "            \n",
    "    \n",
    "    button.on_click(_inner_check)\n",
    "    show_correct_button.on_click(_show_correct_answer)\n",
    "    \n",
    "    display(button, output, show_correct_button, correct_output)\n",
    "\n",
    "\n",
    "\n"
   ]
  },
  {
   "cell_type": "markdown",
   "metadata": {},
   "source": [
    "\n",
    "## Exercise 1\n",
    "\n",
    "Calculate the taylor series expension of:\n"
   ]
  },
  {
   "cell_type": "code",
   "execution_count": 75,
   "metadata": {
    "scrolled": true,
    "tags": [
     "thebe-remove-input-init"
    ]
   },
   "outputs": [
    {
     "data": {
      "image/png": "[encoded data removed]",
      "text/latex": [
       "$\\displaystyle 2 x^{2} + 9 x$"
      ],
      "text/plain": [
       "   2      \n",
       "2⋅x  + 9⋅x"
      ]
     },
     "metadata": {},
     "output_type": "display_data"
    }
   ],
   "source": [
    "x, y = sp.symbols('x, y')\n",
    "a_1 = sp.Integer(np.random.randint(2,6))\n",
    "b_1 = sp.Integer(np.random.randint(-10,10))\n",
    "c_1 = sp.Integer(np.random.randint(-5,5))\n",
    "eq1_original = a_1 * x**2 + b_1*x\n",
    "eq1_correct = sp.series(eq1_original,x,c_1)\n",
    "eq1_answer = 0\n",
    "display(eq1_original)\n",
    "#display(eq1_correct)"
   ]
  },
  {
   "cell_type": "markdown",
   "metadata": {},
   "source": [
    "around:"
   ]
  },
  {
   "cell_type": "code",
   "execution_count": 76,
   "metadata": {
    "tags": [
     "thebe-remove-input-init"
    ]
   },
   "outputs": [
    {
     "data": {
      "image/png": "[encoded data removed]",
      "text/latex": [
       "$\\displaystyle x = 1$"
      ],
      "text/plain": [
       "x = 1"
      ]
     },
     "metadata": {},
     "output_type": "display_data"
    }
   ],
   "source": [
    "display(sp.Eq(x,c_1))"
   ]
  },
  {
   "cell_type": "markdown",
   "metadata": {},
   "source": [
    "Fill in your answer and run the cell before clicking 'Check answer'. "
   ]
  },
  {
   "cell_type": "code",
   "execution_count": 77,
   "metadata": {
    "tags": [
     "auto-execute-page",
     "disable-download-page"
    ]
   },
   "outputs": [],
   "source": [
    "eq1_answer = -18*x+4*(x+2)*2-16"
   ]
  },
  {
   "cell_type": "code",
   "execution_count": 78,
   "metadata": {
    "tags": [
     "thebe-remove-input-init"
    ]
   },
   "outputs": [
    {
     "data": {
      "application/vnd.jupyter.widget-view+json": {
       "model_id": "2fc6e00962b94b928b63b931910c57c0",
       "version_major": 2,
       "version_minor": 0
      },
      "text/plain": [
       "Button(description='Check answer', style=ButtonStyle())"
      ]
     },
     "metadata": {},
     "output_type": "display_data"
    },
    {
     "data": {
      "application/vnd.jupyter.widget-view+json": {
       "model_id": "19082053a42e40ce8e03ea7cb4820232",
       "version_major": 2,
       "version_minor": 0
      },
      "text/plain": [
       "Output()"
      ]
     },
     "metadata": {},
     "output_type": "display_data"
    },
    {
     "data": {
      "application/vnd.jupyter.widget-view+json": {
       "model_id": "1cb3f604bfe647ea9527ab979cfb9cbd",
       "version_major": 2,
       "version_minor": 0
      },
      "text/plain": [
       "Button(description='Show correct answer', style=ButtonStyle())"
      ]
     },
     "metadata": {},
     "output_type": "display_data"
    },
    {
     "data": {
      "application/vnd.jupyter.widget-view+json": {
       "model_id": "27c06b56e9ff48d0b80b22480402df39",
       "version_major": 2,
       "version_minor": 0
      },
      "text/plain": [
       "Output()"
      ]
     },
     "metadata": {},
     "output_type": "display_data"
    }
   ],
   "source": [
    "check_answer(\"eq1_answer\",eq1_correct, check_equation)\n"
   ]
  },
  {
   "cell_type": "markdown",
   "metadata": {},
   "source": [
    "## Exercise 2\n",
    "\n",
    "Calculate the taylor series expension of:\n"
   ]
  },
  {
   "cell_type": "code",
   "execution_count": 79,
   "metadata": {
    "tags": [
     "thebe-remove-input-init"
    ]
   },
   "outputs": [
    {
     "data": {
      "image/png": "[encoded data removed]",
      "text/latex": [
       "$\\displaystyle \\tan{\\left(x \\right)}$"
      ],
      "text/plain": [
       "tan(x)"
      ]
     },
     "metadata": {},
     "output_type": "display_data"
    }
   ],
   "source": [
    "a_2 = sp.Integer(np.random.randint(1,7))\n",
    "c_2 = sp.Integer(np.random.randint(-5,5))\n",
    "eq2_original = a_2*sp.tan(x)\n",
    "display(eq2_original)\n",
    "eq2_correct = sp.series(eq2_original,x,c_2*sp.pi,3).removeO()\n",
    "#display(eq2_correct)\n",
    "eq2_answer = 0"
   ]
  },
  {
   "cell_type": "markdown",
   "metadata": {},
   "source": [
    "around:"
   ]
  },
  {
   "cell_type": "code",
   "execution_count": 80,
   "metadata": {
    "tags": [
     "thebe-remove-input-init"
    ]
   },
   "outputs": [
    {
     "data": {
      "image/png": "[encoded data removed]",
      "text/latex": [
       "$\\displaystyle x = - \\pi$"
      ],
      "text/plain": [
       "x = -π"
      ]
     },
     "metadata": {},
     "output_type": "display_data"
    }
   ],
   "source": [
    "display(sp.Eq(x,c_2*sp.pi))"
   ]
  },
  {
   "cell_type": "markdown",
   "metadata": {},
   "source": [
    "discard any $O(x^3)$ terms.\n",
    "\n",
    "Fill in your answer and run the cell before clicking 'Check answer'. Furthermore, use `pi` for $\\pi$:"
   ]
  },
  {
   "cell_type": "code",
   "execution_count": 81,
   "metadata": {},
   "outputs": [],
   "source": [
    "eq2_answer = x-3*pi \n"
   ]
  },
  {
   "cell_type": "code",
   "execution_count": 82,
   "metadata": {
    "tags": [
     "thebe-remove-input-init"
    ]
   },
   "outputs": [
    {
     "data": {
      "application/vnd.jupyter.widget-view+json": {
       "model_id": "3347390018974f1daaafc76899f43fd4",
       "version_major": 2,
       "version_minor": 0
      },
      "text/plain": [
       "Button(description='Check answer', style=ButtonStyle())"
      ]
     },
     "metadata": {},
     "output_type": "display_data"
    },
    {
     "data": {
      "application/vnd.jupyter.widget-view+json": {
       "model_id": "c8cb4317051f4121a601a5d7edda8ae6",
       "version_major": 2,
       "version_minor": 0
      },
      "text/plain": [
       "Output()"
      ]
     },
     "metadata": {},
     "output_type": "display_data"
    },
    {
     "data": {
      "application/vnd.jupyter.widget-view+json": {
       "model_id": "068fb39d7ab0442aadbed4b75dcd0ba8",
       "version_major": 2,
       "version_minor": 0
      },
      "text/plain": [
       "Button(description='Show correct answer', style=ButtonStyle())"
      ]
     },
     "metadata": {},
     "output_type": "display_data"
    },
    {
     "data": {
      "application/vnd.jupyter.widget-view+json": {
       "model_id": "95ecf3ed09764c5598a5730ce71103b1",
       "version_major": 2,
       "version_minor": 0
      },
      "text/plain": [
       "Output()"
      ]
     },
     "metadata": {},
     "output_type": "display_data"
    }
   ],
   "source": [
    "check_answer(\"eq2_answer\",eq2_correct, check_equation)"
   ]
  },
  {
   "cell_type": "markdown",
   "metadata": {},
   "source": [
    "## Exercise 3\n",
    "\n",
    "Calculate the taylor series expension of:\n"
   ]
  },
  {
   "cell_type": "code",
   "execution_count": 83,
   "metadata": {
    "tags": [
     "thebe-remove-input-init"
    ]
   },
   "outputs": [
    {
     "data": {
      "image/png": "[encoded data removed]",
      "text/latex": [
       "$\\displaystyle \\frac{6}{1 - x}$"
      ],
      "text/plain": [
       "  6  \n",
       "─────\n",
       "1 - x"
      ]
     },
     "metadata": {},
     "output_type": "display_data"
    }
   ],
   "source": [
    "a_3 = sp.Integer(np.random.randint(1,10))\n",
    "c_3 = sp.Integer(np.random.randint(-1,1))\n",
    "eq3_original = a_3 / (1 - x)\n",
    "display(eq3_original)\n",
    "eq3_correct = sp.series(eq3_original,x,c_3,3).removeO()\n",
    "#display(eq3_correct)\n",
    "eq3_answer = 0"
   ]
  },
  {
   "cell_type": "markdown",
   "metadata": {},
   "source": [
    "around:"
   ]
  },
  {
   "cell_type": "code",
   "execution_count": 71,
   "metadata": {
    "tags": [
     "thebe-remove-input-init"
    ]
   },
   "outputs": [
    {
     "data": {
      "image/png": "[encoded data removed]",
      "text/latex": [
       "$\\displaystyle x = -1$"
      ],
      "text/plain": [
       "x = -1"
      ]
     },
     "metadata": {},
     "output_type": "display_data"
    }
   ],
   "source": [
    "display(sp.Eq(x,c_3))"
   ]
  },
  {
   "cell_type": "markdown",
   "metadata": {},
   "source": [
    "discard any $O(x^3)$ terms.\n",
    "\n",
    "Fill in your answer and run the cell before clicking 'Check answer':"
   ]
  },
  {
   "cell_type": "code",
   "execution_count": 72,
   "metadata": {},
   "outputs": [],
   "source": [
    "eq3_answer = 7"
   ]
  },
  {
   "cell_type": "code",
   "execution_count": 73,
   "metadata": {
    "tags": [
     "thebe-remove-input-init"
    ]
   },
   "outputs": [
    {
     "data": {
      "application/vnd.jupyter.widget-view+json": {
       "model_id": "d410019d99854f1298d2f759e9521bb9",
       "version_major": 2,
       "version_minor": 0
      },
      "text/plain": [
       "Button(description='Check answer', style=ButtonStyle())"
      ]
     },
     "metadata": {},
     "output_type": "display_data"
    },
    {
     "data": {
      "application/vnd.jupyter.widget-view+json": {
       "model_id": "663af9e767314201a2539d818661bfc9",
       "version_major": 2,
       "version_minor": 0
      },
      "text/plain": [
       "Output()"
      ]
     },
     "metadata": {},
     "output_type": "display_data"
    },
    {
     "data": {
      "application/vnd.jupyter.widget-view+json": {
       "model_id": "00150a87a0f34a5792952487e3d2bee8",
       "version_major": 2,
       "version_minor": 0
      },
      "text/plain": [
       "Button(description='Show correct answer', style=ButtonStyle())"
      ]
     },
     "metadata": {},
     "output_type": "display_data"
    },
    {
     "data": {
      "application/vnd.jupyter.widget-view+json": {
       "model_id": "cff82c8bb4964cbeb9ddf29dafc68034",
       "version_major": 2,
       "version_minor": 0
      },
      "text/plain": [
       "Output()"
      ]
     },
     "metadata": {},
     "output_type": "display_data"
    }
   ],
   "source": [
    "check_answer(\"eq3_answer\",eq3_correct, check_equation)"
   ]
  },
  {
   "cell_type": "code",
   "execution_count": null,
   "metadata": {},
   "outputs": [],
   "source": []
  }
 ],
 "metadata": {
  "kernelspec": {
   "display_name": "Python 3 (ipykernel)",
   "language": "python",
   "name": "python3"
  },
  "language_info": {
   "codemirror_mode": {
    "name": "ipython",
    "version": 3
   },
   "file_extension": ".py",
   "mimetype": "text/x-python",
   "name": "python",
   "nbconvert_exporter": "python",
   "pygments_lexer": "ipython3",
   "version": "3.12.4"
  }
 },
 "nbformat": 4,
 "nbformat_minor": 2
}
