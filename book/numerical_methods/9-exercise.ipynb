{
 "cells": [
  {
   "cell_type": "markdown",
   "id": "e8a46fb1-109e-4dc1-a64f-8279c351790a",
   "metadata": {},
   "source": [
    "# An Exercise for a Summary?\n",
    "\n",
    "After having gone through the Taylor series, forward and backward Euler, ODE solvers, iterative root finding methods and the stability of implicit and explicit systems, let’s take a look at a simple problem to bring these concepts into practice, all at once. This section shows you what a numerical code for solving differential equations looks like. The code itself is scalable for solving the most complicated differential equations in engineering such as the stress-strain equations, the Navier-Stokes equations and the Maxwell equations. \n",
    "\n",
    "Please go through this section while trying to write down everything on a piece of paper (to check how well you have understood the above-mentioned concepts). \n",
    "\n",
    "Consider the non-linear ODE\n",
    "\n",
    "$$\\dot{y}=\\sin y^3 + \\sin t, \\hspace{10px} y(0)=1$$\n",
    "\n",
    "Let’s solve by extracting terms from the Taylor series expansions to obtain the following:\n",
    "\n",
    "$$\\begin{split}\n",
    "\\begin{gather}\n",
    "\\text{Forward Euler: } y_{n+1}=y_n+\\Delta t(\\sin y_n^3 + \\sin t_n)\\\\\n",
    "\\text{Backward Euler: } y_{n+1}=y_n+\\Delta t(\\sin y_{n+1}^3 + \\sin t_{n+1})\n",
    "\\end{gather}\n",
    "\\end{split}\n",
    "$$\n",
    "\n",
    "Now, rewrite the above expressions in their residual forms to define a function $f$ such that the $f(y) = 0$, where $y$ is the root we are trying to find. \n",
    "\n",
    "$$\n",
    "\\begin{split}\n",
    "\\begin{gather}\n",
    "\\text{Forward Euler: } f(y_{n+1})=y_{n+1}-y_n-\\Delta t(\\sin y_{n}^3 + \\sin t_{n})\\\\\n",
    "\\text{Backward Euler: } f(y_{n+1})=y_{n+1}-y_n-\\Delta t(\\sin y_{n+1}^3 + \\sin t_{n+1})\n",
    "\\end{gather}\n",
    "\\end{split}\n",
    "$$\n",
    "\n",
    "Next, we’ll solve these equations. The Forward Euler equation is explicit and can be solved in steps. The Backward Euler equation is implicit and can be solved with the Newton-Raphson method. \n",
    "\n",
    "$$y_{n+1,k+1}=y_{n+1,k}-\\frac{f(y_{n+1,k})}{f'(y_{n+1,k})}$$\n",
    "\n",
    "and perform enough iterations $k$ till we satisfy:\n",
    "\n",
    "$|f(y_{n+1})|<\\epsilon = 10^{-6}$ (or whatever you choose). The plots below have been generated using a Python code. Move the slider to change the value of the discrete time step, $\\Delta tue, to understand its influence on the accuracy and stability. \n"
   ]
  },
  {
   "cell_type": "markdown",
   "id": "0e2bb46c-5a5e-424a-8ab8-72c2b29eb140",
   "metadata": {},
   "source": [
    "\n",
    "**Possible Interactive Element** MMMMM\n",
    "\n",
    "Here is the code to solve both the Forward and Backward Euler approximations of the non-linear ODE in question, with the latter being solved with Newton-Raphson. We can make this interactive with a slider for the variable $\\mathrm{d}t$, followed by the questions (again in black at the end of the code)"
   ]
  },
  {
   "cell_type": "markdown",
   "id": "4e613b7c-6ffd-4b60-b655-8d71b9871fc5",
   "metadata": {},
   "source": [
    "Problem statement:\n",
    "$$y' = sin(y**3) + sin(t)$$\n",
    "$$y(0) = 1$$\n",
    "\n",
    "Forward Euler: $$y_n+1 = y_n + dt*f(y_n)$$\n",
    "Backward Euler: $$y_n+1 = y_n + dt*f(y_n+1)$$"
   ]
  },
  {
   "cell_type": "code",
   "execution_count": 9,
   "id": "5067ecc7-8617-49da-92c5-0cc32f9aa252",
   "metadata": {},
   "outputs": [],
   "source": [
    "import numpy as np\n",
    "from math import e, cos, sin, ceil\n",
    "import matplotlib.pyplot as plt"
   ]
  },
  {
   "cell_type": "code",
   "execution_count": 10,
   "id": "1c9058ce-3914-4931-aa93-20cbf8737787",
   "metadata": {},
   "outputs": [
    {
     "data": {
      "text/plain": [
       "<Figure size 1200x400 with 0 Axes>"
      ]
     },
     "metadata": {},
     "output_type": "display_data"
    },
    {
     "data": {
      "image/png": "[encoded data removed]",
      "text/plain": [
       "<Figure size 400x320 with 1 Axes>"
      ]
     },
     "metadata": {},
     "output_type": "display_data"
    }
   ],
   "source": [
    "\n",
    "def f(y, t):\n",
    "    return sin(y**3) + sin(t)\n",
    "\n",
    "def df_dy(y, t):\n",
    "    return 3*y**2*cos(y**3)\n",
    "\n",
    "\n",
    "# Define parameters:\n",
    "dt = 0.3\n",
    "tot_time = 10\n",
    "num_steps = ceil(tot_time / dt)\n",
    "exact_steps = min(50000, 100 * num_steps)\n",
    "time_vec = np.linspace(0, tot_time, num_steps+1)\n",
    "time_vec_exact = np.linspace(0, tot_time, exact_steps+1)\n",
    "\n",
    "# Allocate memory:\n",
    "sol_forward = np.zeros((num_steps+1,))\n",
    "sol_backward = np.zeros((num_steps+1,))\n",
    "\n",
    "sol_forward[0] = 1\n",
    "sol_backward[0] = 1\n",
    "\n",
    "# Perform time-integration\n",
    "for ii in range(1, num_steps+1):    \n",
    "    \n",
    "    # Forward Euler:\n",
    "    sol_forward[ii] = sol_forward[ii - 1] + dt * f(sol_forward[ii - 1], time_vec[ii - 1])\n",
    "\n",
    "    # Backward Euler:\n",
    "    sol_backward[ii] = sol_backward[ii - 1] # initial guess\n",
    "    for n in range(200):\n",
    "        \n",
    "        rhs = sol_backward[ii] - sol_backward[ii-1] - dt * f(sol_backward[ii], time_vec[ii])\n",
    "        if np.abs(rhs) < 1e-8:\n",
    "            break\n",
    "        \n",
    "        sol_backward[ii] -=  rhs / (1 - dt * df_dy(sol_backward[ii], time_vec[ii]))\n",
    "    \n",
    "    if n >= 199:\n",
    "        print('Not converged!')\n",
    "    \n",
    "\n",
    "\n",
    "# plot with various axes scales\n",
    "plt.figure(num=None, figsize=(15, 5), dpi=80, facecolor='w', edgecolor='k')\n",
    "\n",
    "font = {'family': 'serif',\n",
    "        'color':  'darkred',\n",
    "        'weight': 'normal',\n",
    "        'size': 14,\n",
    "        }\n",
    "\n",
    "# Forward Euler\n",
    "plt.figure(num=None, figsize=(5, 4), dpi=80, facecolor='w', edgecolor='k')\n",
    "plt.plot(time_vec, sol_forward, 'r', time_vec, sol_backward, 'g--')\n",
    "plt.title('Nonlinear ODE with dt = ' + str(dt), fontdict=font)\n",
    "plt.xlabel('t', fontdict=font)\n",
    "plt.ylabel('y', fontdict=font)\n",
    "plt.gca().legend(('forward','backward'))\n",
    "plt.grid()\n",
    "plt.show()\n"
   ]
  },
  {
   "cell_type": "markdown",
   "id": "b91faf28-52ec-4bca-94e3-4ee903a4edd8",
   "metadata": {},
   "source": [
    "**MMMMM**\n",
    "\n",
    "Adjust the slider to a time-step of $0.01$, how do the backward and forward Euler methods compare with each other? And why? Assume this solution is the ‘exact’ one. \n",
    "\n",
    "Gradually increase the time-step to $0.1$, $0.2$ and  $0.3$. What happens to the forward Euler method? How does it affect its accuracy? How does the backward Euler method remain consistent?\n",
    "\n",
    "Increase the time-step to $0.5$. Do the methods remain accurate? Does stability guarantee accuracy? "
   ]
  }
 ],
 "metadata": {
  "kernelspec": {
   "display_name": "Python 3 (ipykernel)",
   "language": "python",
   "name": "python3"
  },
  "language_info": {
   "codemirror_mode": {
    "name": "ipython",
    "version": 3
   },
   "file_extension": ".py",
   "mimetype": "text/x-python",
   "name": "python",
   "nbconvert_exporter": "python",
   "pygments_lexer": "ipython3",
   "version": "3.11.5"
  }
 },
 "nbformat": 4,
 "nbformat_minor": 5
}
