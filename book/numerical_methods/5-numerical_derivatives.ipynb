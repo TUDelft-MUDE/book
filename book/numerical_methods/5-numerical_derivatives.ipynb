{
 "cells": [
  {
   "cell_type": "markdown",
   "id": "29f096af-14f9-428b-9326-2f702024d46f",
   "metadata": {},
   "source": [
    "# Numerical differentiation\n",
    "\n",
    "```{note}\n",
    "**Important things to retain from this block:**\n",
    "\n",
    "Be able to combine different Taylor series expansions to get different derivative approximations: Forward Euler, Backward Euler, Central Difference, and an approximations for the second derivative\n",
    "```\n",
    "\n",
    "So far, you learned about the [Taylor series](taylorseries) that approximates a function using a sum of its derivatives. In this part, we will use the same expression but instead of estimating the function, we will use the known values of the function to estimate the derivatives. In doing so, we can convert the derivatives in a differential (partial) equation to algebraic expressions, which can then be solved more easily than a differential equation.\n",
    "\n",
    "Consider the Taylor series expansion for a continuous and infinitely differentiable function $f(x)$ at $x$ with an infinitesimally small increment $h$ (positive), in both directions along the $x$-axis.\n",
    "\n",
    "$$\n",
    "\\begin{align*}\n",
    "f(x+h)&=f(x)+hf'(x)+\\dfrac{h^2}{2}f''(x)+\\dfrac{h^3}{6}f^{(3)}(x) + \\mathcal{O}(h^4) \\Rightarrow f'(x) \\approx \\dfrac{f(x+h)-f(x)}{h} \\\\\n",
    "f(x-h)&=f(x)-hf'(x)+\\dfrac{h^2}{2}f''(x)-\\dfrac{h^3}{6}f^{(3)}(x) + \\mathcal{O}(h^4) \\Rightarrow f'(x) \\approx \\dfrac{f(x)-f(x-h)}{h}\n",
    "\\end{align*}\n",
    "$$\n",
    "\n",
    "In the formulae shown above, the upper one is the Forward Euler scheme and the lower one is the Backward Euler scheme. In both cases, the first derivative has been approximated using the known values of the function at points $x$, $x-h$, and $x+h$.\n",
    "\n",
    "Let’s take a step further and combine the two Taylor series expansions to get the Central Difference approximation of the first derivative. Do you notice the difference?\n",
    "\n",
    "$$f'(x) \\approx \\frac{f(x+h)-f(x-h)}{2h}$$\n",
    "\n",
    "And yet another step further, add the two Taylor series expansions, to get an approximation for the second derivative as a combination of three known values of the function $f$.\n",
    "\n",
    "$$f''(x) \\approx \\frac{f(x+h)-2f(x)+f(x-h)}{h^2}$$\n",
    "\n",
    "You would have noticed that the approximations require dropping off a lot of terms (infinite to be exact) from the Taylor series expansion, which is only an exact representation of the function when it contains those infinite terms. This drop-off will lead to a truncation error.\n"
   ]
  },
  {
   "cell_type": "markdown",
   "id": "dd45957f-9a30-4d19-96d4-d5431454e0eb",
   "metadata": {},
   "source": [
    "## Truncation error\n",
    "\n",
    "**Backward Euler**\n",
    "\n",
    "Let’s first go back to the equations for the Backward Euler scheme to estimate the error that accompanies the scheme.\n",
    "\n",
    "$$ f(x-h)=f(x)-hf'(x)+\\dfrac{h^2}{2}f''(x)-\\dfrac{h^3}{6}f^{(3)}(x) + \\mathcal{O}(h^4)$$\n",
    "\n",
    "$$f'(x) = \\frac{f(x)-f(x-h)}{h}+\\dfrac{h}{2}f''(x)-\\dfrac{h^2}{6}f^{(3)}(x) + \\mathcal{O}(h^3)$$\n",
    "\n",
    "One can use the above equations to write:\n",
    "\n",
    "$$\\left|f'(x)-\\frac{f(x)-f(x-h)}{h}\\right|\\leq\\frac{h}{2}|f''(x)|$$\n",
    "\n",
    "Using the above procedure, one obtains the following definitions of the truncation errors related to the previously-described approximations.\n",
    "\n",
    "**Forward Euler**\n",
    "\n",
    "$$\\left|f'(x)-\\frac{f(x+h)-f(x)}{h}\\right|\\leq\\frac{h}{2}|f''(x)|$$\n",
    "\n",
    "**Central Difference**\n",
    "\n",
    "$$\\left|f'(x)-\\frac{f(x+h)-f(x-h)}{2h}\\right|\\leq\\frac{h^2}{6}|f^{(3)}(x)|$$\n",
    "\n",
    "**Second-derivative approximation**\n",
    "\n",
    "$$\\left|f''(x)-\\frac{f(x+h)-2f(x)+f(x-h)}{h^2}\\right|\\leq\\frac{h^2}{12}|f^{(4)}(x)|$$\n",
    "\n",
    "## Order of accuracy\n",
    "\n",
    "Take a look at the truncation errors described above, and you will notice that they are all functions of the discrete spatial step, $h$. Given both sides of the equations comprise an 'absolute value (positive)',the error increases monotonically with the step, $h$. However, you would have also noticed that $h$ may have an exponent that is not unity. This exponent is called the method’s order of accuracy.\n",
    "\n",
    "One can now summarize that the Backward and Forward Euler methods are first-order accurate, while the central difference scheme and the approximation of the second derivative are second-order accurate. But what does the order of accuracy actually mean?\n",
    "\n",
    "\n",
    "It defines 'the rate' at which the truncation error goes towards zero with a reduction in the step size, $h$. The truncation error of a higher-order method converges faster to zero. "
   ]
  },
  {
   "cell_type": "markdown",
   "id": "9c3329b2",
   "metadata": {},
   "source": []
  }
 ],
 "metadata": {
  "kernelspec": {
   "display_name": "Python 3 (ipykernel)",
   "language": "python",
   "name": "python3"
  },
  "language_info": {
   "codemirror_mode": {
    "name": "ipython",
    "version": 3
   },
   "file_extension": ".py",
   "mimetype": "text/x-python",
   "name": "python",
   "nbconvert_exporter": "python",
   "pygments_lexer": "ipython3",
   "version": "3.11.5"
  }
 },
 "nbformat": 4,
 "nbformat_minor": 5
}
