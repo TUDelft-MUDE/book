{
 "cells": [
  {
   "cell_type": "code",
   "execution_count": 1,
   "metadata": {
    "tags": [
     "thebe-remove-input-init"
    ]
   },
   "outputs": [],
   "source": [
    "import sympy as sp\n",
    "import numpy as np\n",
    "from sympy import pi\n",
    "\n",
    "import operator\n",
    "import ipywidgets as widgets\n",
    "from IPython.display import display\n",
    "\n",
    "check_equation = lambda eq1, eq2: sp.simplify(eq1-eq2) == 0\n",
    "\n",
    "def check_answer(variable_name, expected, comparison = operator.eq):\n",
    "    output = widgets.Output()\n",
    "    button = widgets.Button(description=\"Check answer\")\n",
    "    def _inner_check(button):\n",
    "        with output:\n",
    "            if comparison(globals()[variable_name], expected):\n",
    "                output.outputs = [{'name': 'stdout', 'text': 'Correct!',\n",
    "                                   'output_type': 'stream'}]\n",
    "            else:\n",
    "                output.outputs = [{'name': 'stdout', 'text': 'Incorrect!',\n",
    "                                   'output_type': 'stream'}]\n",
    "    button.on_click(_inner_check)\n",
    "    display(button, output)"
   ]
  },
  {
   "cell_type": "markdown",
   "metadata": {},
   "source": [
    "# Exercises on Taylor expansion\n",
    "\n",
    "This page shows some exercises on calculation Taylor expansion. If you reload this page, you'll get new values.\n",
    "\n",
    "## Exercise 1\n",
    "\n",
    "Calculate the taylor series expension of:\n"
   ]
  },
  {
   "cell_type": "code",
   "execution_count": 2,
   "metadata": {
    "tags": [
     "thebe-remove-input-init"
    ]
   },
   "outputs": [
    {
     "data": {
      "text/latex": [
       "$\\displaystyle 3 x^{2} - x$"
      ],
      "text/plain": [
       "3*x**2 - x"
      ]
     },
     "metadata": {},
     "output_type": "display_data"
    }
   ],
   "source": [
    "x, y = sp.symbols('x, y')\n",
    "a_1 = sp.Integer(np.random.randint(2,6))\n",
    "b_1 = sp.Integer(np.random.randint(-10,10))\n",
    "c_1 = sp.Integer(np.random.randint(-5,5))\n",
    "eq1_original = a_1 * x**2 + b_1*x\n",
    "display(eq1_original)\n",
    "eq1_correct = sp.series(eq1_original,x,c_1)\n",
    "eq1_answer = 0"
   ]
  },
  {
   "cell_type": "markdown",
   "metadata": {},
   "source": [
    "around:"
   ]
  },
  {
   "cell_type": "code",
   "execution_count": 3,
   "metadata": {
    "tags": [
     "thebe-remove-input-init"
    ]
   },
   "outputs": [
    {
     "data": {
      "text/latex": [
       "$\\displaystyle x = 4$"
      ],
      "text/plain": [
       "Eq(x, 4)"
      ]
     },
     "metadata": {},
     "output_type": "display_data"
    }
   ],
   "source": [
    "display(sp.Eq(x,c_1))"
   ]
  },
  {
   "cell_type": "markdown",
   "metadata": {},
   "source": [
    "Fill in your answer and run the cell before clicking 'Check answer'. "
   ]
  },
  {
   "cell_type": "code",
   "execution_count": null,
   "metadata": {
    "tags": [
     "auto-execute-page",
     "disable-download-page"
    ]
   },
   "outputs": [],
   "source": [
    "eq1_answer = "
   ]
  },
  {
   "cell_type": "code",
   "execution_count": 4,
   "metadata": {
    "tags": [
     "thebe-remove-input-init"
    ]
   },
   "outputs": [
    {
     "data": {
      "application/vnd.jupyter.widget-view+json": {
       "model_id": "2d95c732731c43dcb6d6064399646d01",
       "version_major": 2,
       "version_minor": 0
      },
      "text/plain": [
       "Button(description='Check answer', style=ButtonStyle())"
      ]
     },
     "metadata": {},
     "output_type": "display_data"
    },
    {
     "data": {
      "application/vnd.jupyter.widget-view+json": {
       "model_id": "91f893fd0e364904b0cdbd60262ec6ee",
       "version_major": 2,
       "version_minor": 0
      },
      "text/plain": [
       "Output()"
      ]
     },
     "metadata": {},
     "output_type": "display_data"
    }
   ],
   "source": [
    "check_answer(\"eq1_answer\",eq1_correct, check_equation)"
   ]
  },
  {
   "cell_type": "markdown",
   "metadata": {},
   "source": [
    "## Exercise 2\n",
    "\n",
    "Calculate the taylor series expension of:\n"
   ]
  },
  {
   "cell_type": "code",
   "execution_count": 5,
   "metadata": {
    "tags": [
     "thebe-remove-input-init"
    ]
   },
   "outputs": [
    {
     "data": {
      "text/latex": [
       "$\\displaystyle 3 \\tan{\\left(x \\right)}$"
      ],
      "text/plain": [
       "3*tan(x)"
      ]
     },
     "metadata": {},
     "output_type": "display_data"
    }
   ],
   "source": [
    "a_2 = sp.Integer(np.random.randint(1,7))\n",
    "c_2 = sp.Integer(np.random.randint(-5,5))\n",
    "eq2_original = a_2*sp.tan(x)\n",
    "display(eq2_original)\n",
    "eq2_correct = sp.series(eq2_original,x,c_2*sp.pi,3).removeO()\n",
    "#display(eq2_correct)\n",
    "eq2_answer = 0"
   ]
  },
  {
   "cell_type": "markdown",
   "metadata": {},
   "source": [
    "around:"
   ]
  },
  {
   "cell_type": "code",
   "execution_count": 6,
   "metadata": {
    "tags": [
     "thebe-remove-input-init"
    ]
   },
   "outputs": [
    {
     "data": {
      "text/latex": [
       "$\\displaystyle x = 4 \\pi$"
      ],
      "text/plain": [
       "Eq(x, 4*pi)"
      ]
     },
     "metadata": {},
     "output_type": "display_data"
    }
   ],
   "source": [
    "display(sp.Eq(x,c_2*sp.pi))"
   ]
  },
  {
   "cell_type": "markdown",
   "metadata": {},
   "source": [
    "discard any $O(x^3)$ terms.\n",
    "\n",
    "Fill in your answer and run the cell before clicking 'Check answer'. Furthermore, use `pi` for $\\pi$:"
   ]
  },
  {
   "cell_type": "code",
   "execution_count": null,
   "metadata": {},
   "outputs": [],
   "source": [
    "eq2_answer = "
   ]
  },
  {
   "cell_type": "code",
   "execution_count": 7,
   "metadata": {
    "tags": [
     "thebe-remove-input-init"
    ]
   },
   "outputs": [
    {
     "data": {
      "application/vnd.jupyter.widget-view+json": {
       "model_id": "ab05daf64fff47b29a9d0e18abcb4be8",
       "version_major": 2,
       "version_minor": 0
      },
      "text/plain": [
       "Button(description='Check answer', style=ButtonStyle())"
      ]
     },
     "metadata": {},
     "output_type": "display_data"
    },
    {
     "data": {
      "application/vnd.jupyter.widget-view+json": {
       "model_id": "e9a22a7be4ea4669923065cfbfe5b13f",
       "version_major": 2,
       "version_minor": 0
      },
      "text/plain": [
       "Output()"
      ]
     },
     "metadata": {},
     "output_type": "display_data"
    }
   ],
   "source": [
    "check_answer(\"eq2_answer\",eq2_correct, check_equation)"
   ]
  },
  {
   "cell_type": "markdown",
   "metadata": {},
   "source": [
    "## Exercise 3\n",
    "\n",
    "Calculate the taylor series expension of:\n"
   ]
  },
  {
   "cell_type": "code",
   "execution_count": 8,
   "metadata": {
    "tags": [
     "thebe-remove-input-init"
    ]
   },
   "outputs": [
    {
     "data": {
      "text/latex": [
       "$\\displaystyle \\frac{5}{1 - x}$"
      ],
      "text/plain": [
       "5/(1 - x)"
      ]
     },
     "metadata": {},
     "output_type": "display_data"
    }
   ],
   "source": [
    "a_3 = sp.Integer(np.random.randint(1,10))\n",
    "c_3 = sp.Integer(np.random.randint(-1,1))\n",
    "eq3_original = a_3 / (1 - x)\n",
    "display(eq3_original)\n",
    "eq3_correct = sp.series(eq3_original,x,c_3,3).removeO()\n",
    "#display(eq3_correct)\n",
    "eq3_answer = 0"
   ]
  },
  {
   "cell_type": "markdown",
   "metadata": {},
   "source": [
    "around:"
   ]
  },
  {
   "cell_type": "code",
   "execution_count": 9,
   "metadata": {
    "tags": [
     "thebe-remove-input-init"
    ]
   },
   "outputs": [
    {
     "data": {
      "text/latex": [
       "$\\displaystyle x = 0$"
      ],
      "text/plain": [
       "Eq(x, 0)"
      ]
     },
     "metadata": {},
     "output_type": "display_data"
    }
   ],
   "source": [
    "display(sp.Eq(x,c_3))"
   ]
  },
  {
   "cell_type": "markdown",
   "metadata": {},
   "source": [
    "discard any $O(x^3)$ terms.\n",
    "\n",
    "Fill in your answer and run the cell before clicking 'Check answer':"
   ]
  },
  {
   "cell_type": "code",
   "execution_count": null,
   "metadata": {},
   "outputs": [],
   "source": [
    "eq3_answer = 8 + 8*x+7 * x**2"
   ]
  },
  {
   "cell_type": "code",
   "execution_count": 10,
   "metadata": {
    "tags": [
     "thebe-remove-input-init"
    ]
   },
   "outputs": [
    {
     "data": {
      "application/vnd.jupyter.widget-view+json": {
       "model_id": "5336f20cfed34b16b29790890476f82a",
       "version_major": 2,
       "version_minor": 0
      },
      "text/plain": [
       "Button(description='Check answer', style=ButtonStyle())"
      ]
     },
     "metadata": {},
     "output_type": "display_data"
    },
    {
     "data": {
      "application/vnd.jupyter.widget-view+json": {
       "model_id": "ae6640fe150b4a369e81dc4e3eeba6c2",
       "version_major": 2,
       "version_minor": 0
      },
      "text/plain": [
       "Output()"
      ]
     },
     "metadata": {},
     "output_type": "display_data"
    }
   ],
   "source": [
    "check_answer(\"eq3_answer\",eq3_correct, check_equation)"
   ]
  }
 ],
 "metadata": {
  "kernelspec": {
   "display_name": "mude",
   "language": "python",
   "name": "python3"
  },
  "language_info": {
   "codemirror_mode": {
    "name": "ipython",
    "version": 3
   },
   "file_extension": ".py",
   "mimetype": "text/x-python",
   "name": "python",
   "nbconvert_exporter": "python",
   "pygments_lexer": "ipython3",
   "version": "3.11.4"
  }
 },
 "nbformat": 4,
 "nbformat_minor": 2
}
