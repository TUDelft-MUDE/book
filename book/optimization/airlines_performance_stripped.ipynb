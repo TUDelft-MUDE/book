{
 "cells": [
  {
   "cell_type": "markdown",
   "metadata": {
    "collapsed": true,
    "pycharm": {
     "name": "#%% md\n"
    }
   },
   "source": [
    "# Performance for airlines problem\n",
    "As we saw earlier, when we ask Gurobi to solve a model without specifying the algorithm, it selects what it thinks is the best algorithm to solve each specific problem. Alternatively, we can tell Gurobi to use a specific algorithm to solve the model. In order to do this, we can change the value of the method parameter within the model. The value of this parameter is set to -1 by default, which calls the concurrent optimizer discussed before. For linear programming problems with continuous decision variables, other possible solution algorithms (available with Gurobi) are: primal simplex, dual simplex and barrier algorithm (which is a specific type of interior point method), with method values of 0, 1 and 2 respectively. let’s see how it works in action.\n",
    "\n",
    "In order to experiment with different algorithms on different problem sizes, we need to organize the code in functions. We explain this step by step below."
   ]
  },
  {
   "cell_type": "markdown",
   "metadata": {
    "pycharm": {
     "name": "#%% md\n"
    }
   },
   "source": [
    "We'll investigate the same problem as discussed in [airlines](https://mude.citg.tudelft.nl/book/optimization/airlines.html).\n",
    "\n",
    "The data we use is a large dataset including all the flights per month in the US for several years for each Origin-Destination pair of cities (from the beginning of 1990 till the end of 2009). We use this information to model a realistic problem (including some simplifying assmptions) that can be modeled as a linear programming problem and solved with Gurobi.\n",
    "\n",
    "First, let us make a function to read and preprocess the data. It takes the number of month to include as input and returns demand, distance, routes, months and computation time as output. But first things first. We call all packages we need in this tutorial here. Note that we are not using this function yet, we are just defining it here."
   ]
  },
  {
   "cell_type": "code",
   "execution_count": 1,
   "metadata": {
    "pycharm": {
     "name": "#%%\n"
    },
    "tags": [
     "disable-execution-page"
    ]
   },
   "outputs": [],
   "source": [
    "from datetime import datetime\n",
    "import gurobipy as gp\n",
    "import pandas as pd\n",
    "import numpy as np"
   ]
  },
  {
   "cell_type": "code",
   "execution_count": 2,
   "metadata": {
    "pycharm": {
     "name": "#%%\n"
    }
   },
   "outputs": [],
   "source": [
    "# a function to read and preprocess input data\n",
    "# it takes the number of month to include as input and returns demand, distance, routes, months and computation time as output\n",
    "def preprocess(number_of_months):\n",
    "\n",
    "    # to record execution time\n",
    "    begin_time = datetime.now()\n",
    "\n",
    "    # read data\n",
    "    data = pd.read_csv('flight_edges.tsv', sep='\\t', header=None)\n",
    "\n",
    "    # add column names\n",
    "    data.columns = ['Origin', 'Destination', 'Origin_City', 'Destination_City', 'Passengers', 'Seats',\n",
    "                    'Flights', 'Distance', 'Fly_Date', 'Origin_Population', 'Destination_Population']\n",
    "\n",
    "    # eliminate columns we don't need (for this study)\n",
    "    data = data.drop(columns=['Origin_City', 'Destination_City', 'Origin_Population', 'Destination_Population'])\n",
    "\n",
    "    # sort data based on OD and month\n",
    "    data = data.sort_values(['Origin', 'Destination', 'Fly_Date'])\n",
    "\n",
    "    # eliminate flights with the same OD (not sure why these records existed, but it makes sense to eliminate them)\n",
    "    data = data[data['Origin'] != data['Destination']]\n",
    "\n",
    "    # calculate sum of passengers for each record and add to data (they are spread in multiple lines for some reason)\n",
    "    data['passenger_sum'] = data.groupby(['Origin', 'Destination', 'Fly_Date'])['Passengers'].transform('sum')\n",
    "    data['Seats'] = data.groupby(['Origin', 'Destination', 'Fly_Date'])['Seats'].transform('sum')\n",
    "    data['Flights'] = data.groupby(['Origin', 'Destination', 'Fly_Date'])['Flights'].transform('sum')\n",
    "    data['Passengers'] = data.groupby(['Origin', 'Destination', 'Fly_Date'])['Passengers'].transform('sum')\n",
    "\n",
    "    # eliminate duplicates (since aggregated group values, first row in each group is enough to keep\n",
    "    data = data.drop_duplicates(subset=['Origin', 'Destination', 'Fly_Date'], keep='first')\n",
    "\n",
    "    # eliminate rows where the number of passengers is less than 5\n",
    "    data = data[data['passenger_sum'] > 5]\n",
    "\n",
    "    # some useful variables\n",
    "    demand_grouped_monthly = data.groupby(['Origin', 'Destination', 'Fly_Date'])['passenger_sum'].agg(np.sum)\n",
    "    # we have same values for each group, so mean works (as would min, max, etc.)\n",
    "    distance = data.groupby(['Origin', 'Destination'])['Distance'].mean()\n",
    "    # note: pandas unique function preserves order (which is the desired behavior here)\n",
    "    routes = pd.unique(distance.index.values.tolist())\n",
    "    # note: numpy unique function sorts the output (which is the desired behavior here)\n",
    "    months = np.unique(data['Fly_Date'])[-1 * number_of_months:]\n",
    "\n",
    "    # empty dataset with origin-destination pairs (routes) as rows and monthly demand as columns\n",
    "    demand_data = pd.DataFrame(index=routes, columns=[month for month in months])\n",
    "\n",
    "    # find monthly demand for each route and add to monthly demand dataset\n",
    "    # note that iterating through rows of a dataframe can be prohibitively slow, so we use a more efficient way\n",
    "    for month in months:\n",
    "        # initiate relevant column with zeros\n",
    "        demand_data[month].values[:] = 0\n",
    "        # temporary array to store iteration results\n",
    "        demand_temp_all_routes = demand_data[month]\n",
    "        # temporary array to store demand for routes that have none-zero demand values\n",
    "        demand_temp_nonzero = demand_grouped_monthly[demand_grouped_monthly.index.get_level_values(2) == month]\n",
    "        # eliminate month from array index (all values here have the same month)\n",
    "        demand_temp_nonzero.index = demand_temp_nonzero.index.droplevel(2)\n",
    "        # insert none-zero demand values into relevant rows\n",
    "        demand_temp_all_routes[demand_temp_all_routes.index.intersection(demand_temp_nonzero.index)] = demand_temp_nonzero\n",
    "        # assign iteration results (monthly demand) to monthly demand dataset\n",
    "        demand_data[month] = demand_temp_all_routes\n",
    "\n",
    "    # convert demand data to a numpy array for efficiency\n",
    "    demand = demand_data.values\n",
    "\n",
    "    # computation time\n",
    "    computation_time = (datetime.now()-begin_time).total_seconds()\n",
    "\n",
    "    print()\n",
    "    print('Computation time for data preprocessing with {} periods was: {} seconds'.format(number_of_months, computation_time))\n",
    "    print()\n",
    "\n",
    "    return demand, distance, routes, months, computation_time"
   ]
  },
  {
   "cell_type": "markdown",
   "metadata": {
    "pycharm": {
     "name": "#%% md\n"
    }
   },
   "source": [
    "Next, we need a function to build the model using Gurobi and the process input data from the previous function. It takes demand, distance, routes and months (that we create using preprocess function), and returns the model object and computation time for model construction."
   ]
  },
  {
   "cell_type": "code",
   "execution_count": 3,
   "metadata": {
    "pycharm": {
     "name": "#%%\n"
    }
   },
   "outputs": [],
   "source": [
    "# a function to construct a linear programing model using Gurobi\n",
    "# it takes demand, distance, routes and months, and returns the model object and computation time for model construction\n",
    "def model_construct(demand, distance, routes, months):\n",
    "\n",
    "    # to record execution time\n",
    "    begin_time = datetime.now()\n",
    "\n",
    "    # create a gurobi model object\n",
    "    model = gp.Model()\n",
    "\n",
    "    # just to avoid unnecessary logging output\n",
    "    model.Params.LogToConsole = 0\n",
    "\n",
    "    # define airplane type, capacity, per hour operation cost and purchasing cost and leasing cost\n",
    "    aircraft_type, aircraft_capacity, aircraft_hourly_operating_cost, aircraft_leasing_cost = gp.multidict({\n",
    "        'A320-200 CEO': [180, 4378, 196 * 1000],\n",
    "        'A320 NEO':     [188, 4378, 315 * 1000],\n",
    "        'A321-200 CEO': [230, 4432, 310 * 1000],\n",
    "        'A321 NEO':     [236, 5149, 359 * 1000],\n",
    "        'A330-200':     [436, 6564, 515 * 1000]\n",
    "    })\n",
    "\n",
    "    # model parameters\n",
    "    average_aircraft_speed = 500\n",
    "    working_day_per_period = 30\n",
    "    daily_operating_hours = 20\n",
    "\n",
    "    ## decision variables: frequency Xijm; i: route, j: aircraft type, m: month\n",
    "    frequency = model.addVars(len(routes), len(aircraft_type), len(months), vtype=gp.GRB.CONTINUOUS, name='frequency')\n",
    "    fleet_size = model.addVars(len(routes), len(aircraft_type), len(months), vtype=gp.GRB.CONTINUOUS, name='fleet_size')\n",
    "    model.update()\n",
    "\n",
    "    ## constraints\n",
    "    # demand satisfaction:\n",
    "    # (aircraft capacity) * (route frequency) >= demand\n",
    "    model.addConstrs(\n",
    "        gp.quicksum(frequency[i, j, m] * aircraft_capacity[aircraft_type[j]] for j in range(len(aircraft_type)))\n",
    "        >= demand[i, m]\n",
    "        for i in range(len(routes))\n",
    "        for m in range(len(months)))\n",
    "\n",
    "    # frequency constraint:\n",
    "    # frequency is restricted by the fleet size (per route, plane type and month)\n",
    "    # frequency * (flight duration) <= (fleet size) * (available operating hours per period)\n",
    "    # we do not know flight duration for each route, but we have distance for each route, so time = distance/speed\n",
    "\n",
    "    model.addConstrs(frequency[i, j, m] * distance[i] / average_aircraft_speed\n",
    "                     <= fleet_size[i, j, m] * daily_operating_hours * working_day_per_period\n",
    "                     for i in range(len(routes))\n",
    "                     for j in range(len(aircraft_type))\n",
    "                     for m in range(len(months)))\n",
    "\n",
    "    # set objectives\n",
    "    # objective function is to minimize total cost, which is the sum of paying for planes and cost of operation:\n",
    "    # (fleet size) * (aircraft leasing cost) + (frequency) * (flight duration) * (aircraft hourly operating cost)\n",
    "\n",
    "    obj_leasing_cost = gp.quicksum(fleet_size[i, j, m] * aircraft_leasing_cost[aircraft_type[j]]\n",
    "                                   for i in range(len(routes))\n",
    "                                   for j in range(len(aircraft_type))\n",
    "                                   for m in range(len(months)))\n",
    "\n",
    "    obj_operating_cost = gp.quicksum(frequency[i, j, m] * aircraft_hourly_operating_cost[aircraft_type[j]] * distance[i] / average_aircraft_speed\n",
    "                                     for i in range(len(routes))\n",
    "                                     for j in range(len(aircraft_type))\n",
    "                                     for m in range(len(months)))\n",
    "\n",
    "    model.setObjective((obj_leasing_cost + obj_operating_cost), gp.GRB.MINIMIZE)\n",
    "    model.update()\n",
    "\n",
    "    # computation time\n",
    "    computation_time = (datetime.now()-begin_time).total_seconds()\n",
    "\n",
    "    print()\n",
    "    print('Computation time for model construction with {} periods was: {} seconds'.format(len(months), computation_time))\n",
    "    print()\n",
    "\n",
    "    return model, computation_time"
   ]
  },
  {
   "cell_type": "markdown",
   "metadata": {
    "pycharm": {
     "name": "#%% md\n"
    }
   },
   "source": [
    "Finally, we need a function to solve the model. It takes the model object we created before and the solution algorithm code as input, and returns the optimal objective function value and the computation time for solving the model. Note that we could decide to return more information with the model (e.g., decision variable values, etc.) but here we are interested in computation times only."
   ]
  },
  {
   "cell_type": "code",
   "execution_count": 4,
   "metadata": {
    "pycharm": {
     "name": "#%%\n"
    }
   },
   "outputs": [],
   "source": [
    "# a function to solve the model\n",
    "def model_solve(model, algorithm):\n",
    "\n",
    "    algorithm_names = ['primal simplex', 'dual simplex', 'interior point', 'gurobi default']\n",
    "\n",
    "    # to record execution time\n",
    "    begin_time = datetime.now()\n",
    "\n",
    "    # specify the solution algorithm\n",
    "    model.Params.Method = algorithm\n",
    "\n",
    "    # to see the output (remember we turned this off before)\n",
    "    model.optimize()\n",
    "\n",
    "    # computation time\n",
    "    computation_time = (datetime.now()-begin_time).total_seconds()\n",
    "\n",
    "    print()\n",
    "    print('Computation time for solving the model using {} method was: {} seconds'.format(algorithm_names[algorithm], computation_time))\n",
    "    print()\n",
    "\n",
    "    return model.ObjVal, computation_time"
   ]
  },
  {
   "cell_type": "markdown",
   "metadata": {
    "pycharm": {
     "name": "#%% md\n"
    }
   },
   "source": [
    "We have almost everything we need. The only thing left is a function to automate running the three functions we created. Here it is."
   ]
  },
  {
   "cell_type": "code",
   "execution_count": 5,
   "metadata": {
    "pycharm": {
     "name": "#%%\n"
    }
   },
   "outputs": [],
   "source": [
    "\n",
    "def run_tasks(number_of_months, algorithm):\n",
    "\n",
    "    algorithm_names = ['primal simplex', 'dual simplex', 'interior point', 'gurobi default']\n",
    "\n",
    "    # run preprocessing function\n",
    "    demand, distance, routes, months, computation_time = preprocess(number_of_months)\n",
    "    print()\n",
    "    print('Computation time for data preprocessing with {} periods was: {} seconds'.format(number_of_months, computation_time))\n",
    "    print()\n",
    "\n",
    "    # run model construction function\n",
    "    model, computation_time = model_construct(demand, distance, routes, months)\n",
    "    print()\n",
    "    print('Computation time for model construction with {} periods was: {} seconds'.format(number_of_months, computation_time))\n",
    "    print()\n",
    "\n",
    "    # solve the model using specified algorithm\n",
    "    objective, computation_time = model_solve(model, algorithm)\n",
    "    print()\n",
    "    print('Computation time for solving the model using {} method was: {} seconds'.format(algorithm_names[algorithm], computation_time))\n",
    "    print()\n",
    "\n",
    "    # we could return computation times and objective function values, but we don't need them for now"
   ]
  },
  {
   "cell_type": "markdown",
   "metadata": {
    "pycharm": {
     "name": "#%% md\n"
    }
   },
   "source": [
    "Now that we have everything we need, we can call these functions with different parameters to observe not only computation times of different algorithms, but also execution times for preprocessing the data and constructing the model (spoiler: you're in for some surprises!)."
   ]
  },
  {
   "cell_type": "code",
   "execution_count": 6,
   "metadata": {
    "pycharm": {
     "name": "#%%\n"
    }
   },
   "outputs": [
    {
     "name": "stdout",
     "output_type": "stream",
     "text": [
      "\n",
      "Computation time for data preprocessing with 6 periods was: 8.119052 seconds\n",
      "\n",
      "Set parameter Username\n",
      "Academic license - for non-commercial use only - expires 2023-05-06\n",
      "\n",
      "Computation time for model construction with 6 periods was: 34.72878 seconds\n",
      "\n",
      "\n",
      "Computation time for solving the model using primal simplex method was: 0.893729 seconds\n",
      "\n"
     ]
    }
   ],
   "source": [
    "# define parameters\n",
    "number_of_months = 6\n",
    "# 0 for primal simplex and 2 for interior point\n",
    "algorithm = 0\n",
    "\n",
    "# run preprocessing function\n",
    "demand, distance, routes, months, computation_time = preprocess(number_of_months)\n",
    "\n",
    "# run model construction function\n",
    "model, computation_time = model_construct(demand, distance, routes, months)\n",
    "\n",
    "# solve the model using specified algorithm\n",
    "objective, computation_time = model_solve(model, algorithm)"
   ]
  },
  {
   "cell_type": "code",
   "execution_count": 7,
   "metadata": {
    "pycharm": {
     "name": "#%%\n"
    }
   },
   "outputs": [
    {
     "name": "stdout",
     "output_type": "stream",
     "text": [
      "\n",
      "Computation time for solving the model using interior point method was: 0.914365 seconds\n",
      "\n"
     ]
    }
   ],
   "source": [
    "\n",
    "# now let's solve with interior point\n",
    "model.reset()\n",
    "objective, computation_time = model_solve(model, 2)"
   ]
  },
  {
   "cell_type": "markdown",
   "metadata": {
    "pycharm": {
     "name": "#%% md\n"
    }
   },
   "source": [
    "## Exercise\n",
    "\n",
    "Run the functions above with different parameter values and make some figures showing how data processing, model construction and computation time (for different algorithms) grow with the number of periods."
   ]
  }
 ],
 "metadata": {
  "kernelspec": {
   "display_name": "Python 3 (ipykernel)",
   "language": "python",
   "name": "python3"
  },
  "language_info": {
   "codemirror_mode": {
    "name": "ipython",
    "version": 3
   },
   "file_extension": ".py",
   "mimetype": "text/x-python",
   "name": "python",
   "nbconvert_exporter": "python",
   "pygments_lexer": "ipython3",
   "version": "3.9.7"
  }
 },
 "nbformat": 4,
 "nbformat_minor": 1
}
