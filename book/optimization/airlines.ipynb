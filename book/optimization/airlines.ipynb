{
 "cells": [
  {
   "cell_type": "markdown",
   "id": "443d9dbb-6e62-45a2-9d36-b4b5ca023ecb",
   "metadata": {
    "pycharm": {
     "name": "#%% md\n"
    },
    "tags": []
   },
   "source": [
    "# Exercise Airlines Problem\n",
    "\n",
    "In this tutorial, we show you an example of a large-scale and (sort of) practical linear programming problem using real data.\n",
    "\n",
    "Gurobi cannot be loaded in this online book, so download this notebook to work on it with Gurobi locally installed."
   ]
  },
  {
   "cell_type": "markdown",
   "id": "ff9cb85b-82c4-4f69-a315-9a143d27acae",
   "metadata": {
    "pycharm": {
     "name": "#%% md\n"
    },
    "tags": []
   },
   "source": [
    "## Problem description\n"
   ]
  },
  {
   "cell_type": "markdown",
   "id": "457332d6-9d14-45c8-89f1-46c40ef8d201",
   "metadata": {
    "pycharm": {
     "name": "#%% md\n"
    }
   },
   "source": [
    "### Data description\n",
    "\n",
    "The dataset we will use for this example can be found [here](https://surfdrive.surf.nl/files/index.php/s/x0wvlD9UFIGrClo). Description of the data including column names is provided [here](https://academictorrents.com/details/a2ccf94bbb4af222bf8e69dad60a68a29f310d9a). Some information about airplane types, thier capacity, hourly operation cost and purchasing cost (that use as model parameters) can be found [here](https://www.an-aviation.com/how-much-does-it-cost-to-buy-an-airbus-aircraft). We also use monthly leasing rates for aircrafts, which can be found [here](https://www.statista.com/statistics/1258900/aircraft-lease-rates-aircraft-model/#:~:text=Monthly%20average%20aircraft%20lease%20rates%20by%20aircraft%20type%202021&text=The%20freight%20aircraft%20model%20had,just%20over%201%2C200%20U.S.%20dollars).\n",
    "\n",
    "The data we use is a large dataset including all the flights per month in the US for several years for each Origin-Destination pair of cities (from the beginning of 1990 till the end of 2009). We use this information to model a realistic problem (including some simplifying assmptions) that can be modeled as a linear programming problem and solved with Gurobi."
   ]
  },
  {
   "cell_type": "markdown",
   "id": "7d4f95c7-68a3-4496-91a4-40b3c7c8dd7e",
   "metadata": {
    "pycharm": {
     "name": "#%% md\n"
    }
   },
   "source": [
    "### Problem definition\n",
    "\n",
    "Our task is to specify the fleet size and the frequency of flights for each route and each aircraft type in each time period that minimizes the total operating and purchasing cost of the entire fleet while satisfying travel demand and operating constraints.\n"
   ]
  },
  {
   "cell_type": "markdown",
   "id": "4a06539e-a089-4953-8de0-0b48c0d26121",
   "metadata": {
    "pycharm": {
     "name": "#%% md\n"
    }
   },
   "source": [
    "### Assumptions (to make the problem manageable)\n",
    "\n",
    "* We want to model the problem as a linear program with continous decision variables; of course that we know that you can’t break airplanes 😊 but the problem can be simplified\n",
    "* No constraint on the type of aeroplane that can land at an airport. All airplanes can land anywhere. And we can operate on all cities.\n",
    "* No minimum flight frequency\n",
    "* All aircrafts are leased, so we can change fleet size from one month to the next\n",
    "\n"
   ]
  },
  {
   "cell_type": "markdown",
   "id": "c76fc69f-27dc-4a14-a291-34e220631148",
   "metadata": {
    "pycharm": {
     "name": "#%% md\n"
    }
   },
   "source": [
    "## Data preprocessing\n",
    "\n",
    "You need to download the dataset and upload it on the folder where your notebook is. In case you have not installed pandas and numpy packages, you have to install them before running this notebook (using pip install). If you use the latest version of Anaconda navigator, it comes with these packages preinstalled."
   ]
  },
  {
   "cell_type": "code",
   "execution_count": 1,
   "id": "8de25842-9fed-4c81-b0a1-3d6e63aa3a3f",
   "metadata": {
    "pycharm": {
     "name": "#%%\n"
    },
    "tags": [
     "disable-execution-page"
    ]
   },
   "outputs": [
    {
     "data": {
      "text/html": [
       "<div>\n",
       "<style scoped>\n",
       "    .dataframe tbody tr th:only-of-type {\n",
       "        vertical-align: middle;\n",
       "    }\n",
       "\n",
       "    .dataframe tbody tr th {\n",
       "        vertical-align: top;\n",
       "    }\n",
       "\n",
       "    .dataframe thead th {\n",
       "        text-align: right;\n",
       "    }\n",
       "</style>\n",
       "<table border=\"1\" class=\"dataframe\">\n",
       "  <thead>\n",
       "    <tr style=\"text-align: right;\">\n",
       "      <th></th>\n",
       "      <th>Origin</th>\n",
       "      <th>Destination</th>\n",
       "      <th>Origin_City</th>\n",
       "      <th>Destination_City</th>\n",
       "      <th>Passengers</th>\n",
       "      <th>Seats</th>\n",
       "      <th>Flights</th>\n",
       "      <th>Distance</th>\n",
       "      <th>Fly_Date</th>\n",
       "      <th>Origin_Population</th>\n",
       "      <th>Destination_Population</th>\n",
       "    </tr>\n",
       "  </thead>\n",
       "  <tbody>\n",
       "    <tr>\n",
       "      <th>0</th>\n",
       "      <td>MHK</td>\n",
       "      <td>AMW</td>\n",
       "      <td>Manhattan, KS</td>\n",
       "      <td>Ames, IA</td>\n",
       "      <td>21</td>\n",
       "      <td>30</td>\n",
       "      <td>1</td>\n",
       "      <td>254.0</td>\n",
       "      <td>200810</td>\n",
       "      <td>122049</td>\n",
       "      <td>86219</td>\n",
       "    </tr>\n",
       "    <tr>\n",
       "      <th>1</th>\n",
       "      <td>EUG</td>\n",
       "      <td>RDM</td>\n",
       "      <td>Eugene, OR</td>\n",
       "      <td>Bend, OR</td>\n",
       "      <td>41</td>\n",
       "      <td>396</td>\n",
       "      <td>22</td>\n",
       "      <td>103.0</td>\n",
       "      <td>199011</td>\n",
       "      <td>284093</td>\n",
       "      <td>76034</td>\n",
       "    </tr>\n",
       "    <tr>\n",
       "      <th>2</th>\n",
       "      <td>EUG</td>\n",
       "      <td>RDM</td>\n",
       "      <td>Eugene, OR</td>\n",
       "      <td>Bend, OR</td>\n",
       "      <td>88</td>\n",
       "      <td>342</td>\n",
       "      <td>19</td>\n",
       "      <td>103.0</td>\n",
       "      <td>199012</td>\n",
       "      <td>284093</td>\n",
       "      <td>76034</td>\n",
       "    </tr>\n",
       "  </tbody>\n",
       "</table>\n",
       "</div>"
      ],
      "text/plain": [
       "  Origin Destination    Origin_City Destination_City  Passengers  Seats  \\\n",
       "0    MHK         AMW  Manhattan, KS         Ames, IA          21     30   \n",
       "1    EUG         RDM     Eugene, OR         Bend, OR          41    396   \n",
       "2    EUG         RDM     Eugene, OR         Bend, OR          88    342   \n",
       "\n",
       "   Flights  Distance  Fly_Date  Origin_Population  Destination_Population  \n",
       "0        1     254.0    200810             122049                   86219  \n",
       "1       22     103.0    199011             284093                   76034  \n",
       "2       19     103.0    199012             284093                   76034  "
      ]
     },
     "execution_count": 1,
     "metadata": {},
     "output_type": "execute_result"
    }
   ],
   "source": [
    "import gurobipy as gp\n",
    "import pandas as pd\n",
    "import numpy as np\n",
    "\n",
    "# read data\n",
    "data = pd.read_csv('flight_edges.tsv', sep='\\t', header=None)\n",
    "\n",
    "# add column names (they are not included in the dataset but can be found in dataset description)\n",
    "data.columns = ['Origin', 'Destination', 'Origin_City', 'Destination_City', 'Passengers', 'Seats',\n",
    "                'Flights', 'Distance', 'Fly_Date', 'Origin_Population', 'Destination_Population']\n",
    "\n",
    "# let's check out the first three rows of the data\n",
    "data.head(3)"
   ]
  },
  {
   "cell_type": "code",
   "execution_count": 2,
   "id": "fade682b",
   "metadata": {
    "collapsed": false,
    "pycharm": {
     "name": "#%%\n"
    }
   },
   "outputs": [
    {
     "data": {
      "text/html": [
       "<div>\n",
       "<style scoped>\n",
       "    .dataframe tbody tr th:only-of-type {\n",
       "        vertical-align: middle;\n",
       "    }\n",
       "\n",
       "    .dataframe tbody tr th {\n",
       "        vertical-align: top;\n",
       "    }\n",
       "\n",
       "    .dataframe thead th {\n",
       "        text-align: right;\n",
       "    }\n",
       "</style>\n",
       "<table border=\"1\" class=\"dataframe\">\n",
       "  <thead>\n",
       "    <tr style=\"text-align: right;\">\n",
       "      <th></th>\n",
       "      <th>Origin</th>\n",
       "      <th>Destination</th>\n",
       "      <th>Origin_City</th>\n",
       "      <th>Destination_City</th>\n",
       "      <th>Passengers</th>\n",
       "      <th>Seats</th>\n",
       "      <th>Flights</th>\n",
       "      <th>Distance</th>\n",
       "      <th>Fly_Date</th>\n",
       "      <th>Origin_Population</th>\n",
       "      <th>Destination_Population</th>\n",
       "    </tr>\n",
       "  </thead>\n",
       "  <tbody>\n",
       "  </tbody>\n",
       "</table>\n",
       "</div>"
      ],
      "text/plain": [
       "Empty DataFrame\n",
       "Columns: [Origin, Destination, Origin_City, Destination_City, Passengers, Seats, Flights, Distance, Fly_Date, Origin_Population, Destination_Population]\n",
       "Index: []"
      ]
     },
     "execution_count": 2,
     "metadata": {},
     "output_type": "execute_result"
    }
   ],
   "source": [
    "# check for missing values (if the resulting dataframe is empty, it means there is no missing value)\n",
    "missing_rows = data[data.isna().any(axis=1)]\n",
    "missing_rows"
   ]
  },
  {
   "cell_type": "code",
   "execution_count": 3,
   "id": "36579aeb-592f-4392-9984-2aad1b52dad7",
   "metadata": {
    "pycharm": {
     "name": "#%%\n"
    }
   },
   "outputs": [
    {
     "data": {
      "text/plain": [
       "Origin  Destination  Fly_Date\n",
       "ABE     ACY          199007      73\n",
       "        AGS          200402      47\n",
       "                     200508      57\n",
       "Name: passenger_sum, dtype: int64"
      ]
     },
     "execution_count": 3,
     "metadata": {},
     "output_type": "execute_result"
    }
   ],
   "source": [
    "# eliminate columns we don't need (for this study)\n",
    "data = data.drop(columns=['Origin_City', 'Destination_City', 'Origin_Population', 'Destination_Population'])\n",
    "\n",
    "# sort data based on OD and month\n",
    "data = data.sort_values(['Origin', 'Destination', 'Fly_Date'])\n",
    "\n",
    "# eliminate flights with the same OD (not sure why these records existed, but it makes sense to eliminate them)\n",
    "data = data[data['Origin'] != data['Destination']]\n",
    "\n",
    "# calculate sum of passengers for each record and add to data (they are spread in multiple lines for some reason)\n",
    "data['passenger_sum'] = data.groupby(['Origin', 'Destination', 'Fly_Date'])['Passengers'].transform('sum')\n",
    "data['Seats'] = data.groupby(['Origin', 'Destination', 'Fly_Date'])['Seats'].transform('sum')\n",
    "data['Flights'] = data.groupby(['Origin', 'Destination', 'Fly_Date'])['Flights'].transform('sum')\n",
    "data['Passengers'] = data.groupby(['Origin', 'Destination', 'Fly_Date'])['Passengers'].transform('sum')\n",
    "\n",
    "# eliminate duplicates (since aggregated group values, first row in each group is enough to keep\n",
    "data = data.drop_duplicates(subset=['Origin', 'Destination', 'Fly_Date'], keep='first')\n",
    "\n",
    "# eliminate rows where the number of passengers is less than 5\n",
    "data = data[data['passenger_sum'] > 5]\n",
    "\n",
    "# some useful variables\n",
    "demand_grouped_monthly = data.groupby(['Origin', 'Destination', 'Fly_Date'])['passenger_sum'].agg(np.sum)\n",
    "\n",
    "# let's check out how this grouped object looks like\n",
    "demand_grouped_monthly.head(3)"
   ]
  },
  {
   "cell_type": "code",
   "execution_count": 4,
   "id": "308a2bcb-0adb-44bd-b389-54aba6427955",
   "metadata": {
    "pycharm": {
     "name": "#%%\n"
    }
   },
   "outputs": [
    {
     "data": {
      "text/plain": [
       "Origin  Destination\n",
       "ABE     ACY             94.0\n",
       "        AGS            618.0\n",
       "        ALB            167.0\n",
       "Name: Distance, dtype: float64"
      ]
     },
     "execution_count": 4,
     "metadata": {},
     "output_type": "execute_result"
    }
   ],
   "source": [
    "# save the distance between each OD pair (since there will be duplicate OD pairs with the same distance, we take the mean here)\n",
    "distance = data.groupby(['Origin', 'Destination'])['Distance'].mean()\n",
    "\n",
    "# let's examine the distance data\n",
    "distance.head(3)"
   ]
  },
  {
   "cell_type": "code",
   "execution_count": 5,
   "id": "5eed78e1-64cf-47b9-badb-3b38541d5a08",
   "metadata": {
    "pycharm": {
     "name": "#%%\n"
    }
   },
   "outputs": [
    {
     "data": {
      "text/plain": [
       "array([('ABE', 'ACY'), ('ABE', 'AGS'), ('ABE', 'ALB'), ('ABE', 'ATL'),\n",
       "       ('ABE', 'AVL')], dtype=object)"
      ]
     },
     "execution_count": 5,
     "metadata": {},
     "output_type": "execute_result"
    }
   ],
   "source": [
    "# save all unique OD pairs in a list; this gives us the full list of routes\n",
    "# note: pandas unique function preserves order (which is the desired behavior here)\n",
    "routes = pd.unique(distance.index.values.tolist())\n",
    "\n",
    "# check the first 5 rows of the route list\n",
    "routes[:5]"
   ]
  },
  {
   "cell_type": "code",
   "execution_count": 6,
   "id": "2b909978-561d-4556-a5bd-af50a6ea8d40",
   "metadata": {
    "pycharm": {
     "name": "#%%\n"
    }
   },
   "outputs": [
    {
     "data": {
      "text/plain": [
       "array([200907, 200908, 200909, 200910, 200911, 200912], dtype=int64)"
      ]
     },
     "execution_count": 6,
     "metadata": {},
     "output_type": "execute_result"
    }
   ],
   "source": [
    "# find all months that appear in the dataset and select the last (in this case) 6 months to use in the model\n",
    "# note: numpy unique function sorts the output (which is the desired behavior here)\n",
    "months = np.unique(data['Fly_Date'])[-6:]\n",
    "months"
   ]
  },
  {
   "cell_type": "code",
   "execution_count": 7,
   "id": "97ed8102-b6da-46e4-93b2-0df2dd3a1a6d",
   "metadata": {
    "pycharm": {
     "name": "#%%\n"
    }
   },
   "outputs": [
    {
     "data": {
      "text/html": [
       "<div>\n",
       "<style scoped>\n",
       "    .dataframe tbody tr th:only-of-type {\n",
       "        vertical-align: middle;\n",
       "    }\n",
       "\n",
       "    .dataframe tbody tr th {\n",
       "        vertical-align: top;\n",
       "    }\n",
       "\n",
       "    .dataframe thead th {\n",
       "        text-align: right;\n",
       "    }\n",
       "</style>\n",
       "<table border=\"1\" class=\"dataframe\">\n",
       "  <thead>\n",
       "    <tr style=\"text-align: right;\">\n",
       "      <th></th>\n",
       "      <th>200907</th>\n",
       "      <th>200908</th>\n",
       "      <th>200909</th>\n",
       "      <th>200910</th>\n",
       "      <th>200911</th>\n",
       "      <th>200912</th>\n",
       "    </tr>\n",
       "  </thead>\n",
       "  <tbody>\n",
       "    <tr>\n",
       "      <th>(ABE, ACY)</th>\n",
       "      <td>0</td>\n",
       "      <td>0</td>\n",
       "      <td>0</td>\n",
       "      <td>0</td>\n",
       "      <td>0</td>\n",
       "      <td>0</td>\n",
       "    </tr>\n",
       "    <tr>\n",
       "      <th>(ABE, AGS)</th>\n",
       "      <td>0</td>\n",
       "      <td>0</td>\n",
       "      <td>0</td>\n",
       "      <td>0</td>\n",
       "      <td>0</td>\n",
       "      <td>0</td>\n",
       "    </tr>\n",
       "    <tr>\n",
       "      <th>(ABE, ALB)</th>\n",
       "      <td>0</td>\n",
       "      <td>0</td>\n",
       "      <td>0</td>\n",
       "      <td>0</td>\n",
       "      <td>0</td>\n",
       "      <td>0</td>\n",
       "    </tr>\n",
       "    <tr>\n",
       "      <th>(ABE, ATL)</th>\n",
       "      <td>3854</td>\n",
       "      <td>3307</td>\n",
       "      <td>2407</td>\n",
       "      <td>2855</td>\n",
       "      <td>2739</td>\n",
       "      <td>2344</td>\n",
       "    </tr>\n",
       "  </tbody>\n",
       "</table>\n",
       "</div>"
      ],
      "text/plain": [
       "           200907 200908 200909 200910 200911 200912\n",
       "(ABE, ACY)      0      0      0      0      0      0\n",
       "(ABE, AGS)      0      0      0      0      0      0\n",
       "(ABE, ALB)      0      0      0      0      0      0\n",
       "(ABE, ATL)   3854   3307   2407   2855   2739   2344"
      ]
     },
     "execution_count": 7,
     "metadata": {},
     "output_type": "execute_result"
    }
   ],
   "source": [
    "# let's make a table with origin-destination pairs (routes) on rows and monthly demand on columns\n",
    "\n",
    "# empty dataset with origin-destination pairs (routes) as rows and monthly demand as columns\n",
    "demand_data = pd.DataFrame(index=routes, columns=[month for month in months])\n",
    "\n",
    "# find monthly demand for each route and add to monthly demand dataset\n",
    "# note that iterating through rows of a dataframe can be prohibitively slow, so we use a more efficient way\n",
    "for month in months:\n",
    "    # initiate relevant column with zeros\n",
    "    demand_data[month].values[:] = 0\n",
    "    # temporary array to store iteration results\n",
    "    demand_temp_all_routes = demand_data[month]\n",
    "    # temporary array to store demand for routes that have none-zero demand values\n",
    "    demand_temp_nonzero = demand_grouped_monthly[demand_grouped_monthly.index.get_level_values(2) == month]\n",
    "    # eliminate month from array index (all values here have the same month)\n",
    "    demand_temp_nonzero.index = demand_temp_nonzero.index.droplevel(2)\n",
    "    # insert none-zero demand values into relevant rows\n",
    "    demand_temp_all_routes[demand_temp_all_routes.index.intersection(demand_temp_nonzero.index)] = demand_temp_nonzero\n",
    "    # assign iteration results (monthly demand) to monthly demand dataset\n",
    "    demand_data[month] = demand_temp_all_routes\n",
    "\n",
    "# convert demand data to a numpy array for efficiency\n",
    "demand = demand_data.values\n",
    "\n",
    "# let's see how it looks like\n",
    "demand_data.head(4)"
   ]
  },
  {
   "cell_type": "markdown",
   "id": "4350d988-a27a-4bac-adbf-bbd9efa63585",
   "metadata": {
    "pycharm": {
     "name": "#%% md\n"
    }
   },
   "source": [
    "\n",
    "Now we have the set of routes (OD pairs), set of months, distance for each route and demand for each route in each month. So we are ready to build the model in Gurobi.\n"
   ]
  },
  {
   "cell_type": "markdown",
   "id": "241adaae-057d-4151-ab84-e4022ebdb505",
   "metadata": {
    "pycharm": {
     "name": "#%% md\n"
    },
    "tags": []
   },
   "source": [
    "## Model construction\n",
    "\n",
    "Let's build a Gurobi model object first. Then we will add all required components to the model step by step."
   ]
  },
  {
   "cell_type": "code",
   "execution_count": 8,
   "id": "6de16ddf-6042-4486-b310-dc9d48bdb381",
   "metadata": {
    "pycharm": {
     "name": "#%%\n"
    }
   },
   "outputs": [
    {
     "name": "stdout",
     "output_type": "stream",
     "text": [
      "Set parameter Username\n",
      "Academic license - for non-commercial use only - expires 2023-05-06\n"
     ]
    }
   ],
   "source": [
    "# create a gurobi model object\n",
    "model = gp.Model()\n",
    "\n",
    "# just to avoid cluttering the notebook with unnecessary logging output\n",
    "model.Params.LogToConsole = 0"
   ]
  },
  {
   "cell_type": "markdown",
   "id": "4de9f33f-820f-490f-a2d8-908d4810403c",
   "metadata": {
    "pycharm": {
     "name": "#%% md\n"
    }
   },
   "source": [
    "### Parameters\n",
    "\n",
    "We need average aircraft speed ($S$), number of working days per period ($N$), and daily operating hours ($H$) to use in the model. It is good Python practice to use meaningful names instead of notations, so we use full names for parameters. They are introduced below. \n",
    "\n",
    "We also need the list of aircraft types ($j \\in J$), their capacity ($C_j$), thier hourly operating cost ($O_j$) and thier monthly leasing cost ($L_j$). We store these in a multidictionary, which is a convenient way of storing related parameters and sets in Gurobi."
   ]
  },
  {
   "cell_type": "code",
   "execution_count": 9,
   "id": "c8f8c22c-556a-4ab7-875f-e4fb0fa91b18",
   "metadata": {
    "pycharm": {
     "name": "#%%\n"
    }
   },
   "outputs": [],
   "source": [
    "average_aircraft_speed = 500\n",
    "working_day_per_period = 30\n",
    "daily_operating_hours = 20\n",
    "\n",
    "aircraft_type, aircraft_capacity, aircraft_hourly_operating_cost, aircraft_leasing_cost = gp.multidict({\n",
    "    'A320-200 CEO': [180, 4378, 196 * 1000],\n",
    "    'A320 NEO':     [188, 4378, 315 * 1000],\n",
    "    'A321-200 CEO': [230, 4432, 310 * 1000],\n",
    "    'A321 NEO':     [236, 5149, 359 * 1000],\n",
    "    'A330-200':     [436, 6564, 515 * 1000]\n",
    "})"
   ]
  },
  {
   "cell_type": "markdown",
   "id": "12d2e650-f8ca-42cf-a66f-e8dbb4ab228f",
   "metadata": {
    "pycharm": {
     "name": "#%% md\n"
    }
   },
   "source": [
    "### Sets \n",
    "\n",
    "We need the following sets to model this problem:\n",
    "* set of routes (OD pairs) that we extractedd from the data: $i \\in I$\n",
    "* set of months that we extracted from the data: $m \\in M$\n",
    "* set of aircraft types (extracted from the references mentioned in data description and listed above): $j \\in J$"
   ]
  },
  {
   "cell_type": "markdown",
   "id": "372cf756-a6e1-45a2-8604-dcedbc7d0c78",
   "metadata": {
    "pycharm": {
     "name": "#%% md\n"
    }
   },
   "source": [
    "### Decision variables\n",
    "\n",
    "The decision variables are:\n",
    "* frequency of flights for each route and each aircraft type in each time period ($x_{ijm}$;  **i**: route, **j**: aircraft type, **m**: month)\n",
    "* fleet size for each route and each aircraft type in each time period ($y_{ijm}$;  **i**: route, **j**: aircraft type, **m**: month)\n"
   ]
  },
  {
   "cell_type": "code",
   "execution_count": 10,
   "id": "419318de-3ab2-4a0d-a9d6-7fd2afcf6299",
   "metadata": {
    "pycharm": {
     "name": "#%%\n"
    }
   },
   "outputs": [],
   "source": [
    "## decision variables: \n",
    "\n",
    "# frequency: Xijm; i: route, j: aircraft type, m: month\n",
    "frequency = model.addVars(len(routes), len(aircraft_type), len(months), vtype=gp.GRB.CONTINUOUS, name='x')\n",
    "\n",
    "# fleet size: Yijm; i: route, j: aircraft type, m: month\n",
    "fleet_size = model.addVars(len(routes), len(aircraft_type), len(months), vtype=gp.GRB.CONTINUOUS, name='y')\n"
   ]
  },
  {
   "cell_type": "markdown",
   "id": "c8498858-44d1-4d31-8f83-2a160ca80444",
   "metadata": {
    "pycharm": {
     "name": "#%% md\n"
    }
   },
   "source": [
    "### Objective function\n",
    "\n",
    "The objective function includes:\n",
    "* aircraft leasing cost (sum for all routes, aircraft types and time periods): $\\sum_{ijm}{y_{ijm} . L_j}$\n",
    "* aircraft operating cost (frequency times hourly operating cost times flight duration, which is distance divided by average speed): $\\sum_{ijm}{x_{ijm} . O_j . (D_i/S_j)}$"
   ]
  },
  {
   "cell_type": "code",
   "execution_count": 11,
   "id": "20677681-3cbf-4601-92a7-293a3e6678ef",
   "metadata": {
    "pycharm": {
     "name": "#%%\n"
    }
   },
   "outputs": [],
   "source": [
    "# objective 1 (aircraft leasing cost)\n",
    "obj_leasing_cost = gp.quicksum(fleet_size[i, j, m] * aircraft_leasing_cost[aircraft_type[j]]\n",
    "                               for i in range(len(routes))\n",
    "                               for j in range(len(aircraft_type))\n",
    "                               for m in range(len(months)))\n",
    "# objective 2 (aircraft operating cost)\n",
    "obj_operating_cost = gp.quicksum(frequency[i, j, m] * aircraft_hourly_operating_cost[aircraft_type[j]] * (distance[i] / average_aircraft_speed)\n",
    "                                 for i in range(len(routes))\n",
    "                                 for j in range(len(aircraft_type))\n",
    "                                 for m in range(len(months)))\n",
    "\n",
    "# objective function\n",
    "model.setObjective((obj_leasing_cost + obj_operating_cost), gp.GRB.MINIMIZE)"
   ]
  },
  {
   "cell_type": "markdown",
   "id": "212242ef-66dc-4c04-92a8-3b7e9e7aff91",
   "metadata": {
    "pycharm": {
     "name": "#%% md\n"
    }
   },
   "source": [
    "### Constraints\n",
    "\n",
    "The constraints are:\n",
    "* demand satisfaction constraints; sum of frequency times capacity of all aircraft types should be greater than or equal to demand for each route in each time period\n",
    "\n",
    "> $ \\sum_{j}{x_{ijm} . C_j} \\geq D_{im}; \\forall i \\in I, \\forall m \\in M$\n",
    "\n",
    "* flight frequency constraint; frequency is restricted by the fleet size and available operating hours (per route, plane type and month)\n",
    "\n",
    "> $ x_{ijm} . (D_i/S_j) \\leq (y_{ijm} . H . N) ; \\forall i \\in I, \\forall j \\in J, \\forall m \\in M$"
   ]
  },
  {
   "cell_type": "code",
   "execution_count": 12,
   "id": "d041e185-b741-437e-b9e9-cc8add651c71",
   "metadata": {
    "pycharm": {
     "name": "#%%\n"
    }
   },
   "outputs": [],
   "source": [
    "# demand satisfaction constraints\n",
    "model.addConstrs(\n",
    "    gp.quicksum(frequency[i, j, m] * aircraft_capacity[aircraft_type[j]] for j in range(len(aircraft_type)))\n",
    "    >= demand[i, m]\n",
    "    for i in range(len(routes))\n",
    "    for m in range(len(months)))\n",
    "\n",
    "# flight frequency constraint\n",
    "model.addConstrs(frequency[i, j, m] * distance[i] / average_aircraft_speed\n",
    "                 <= fleet_size[i, j, m] * daily_operating_hours * working_day_per_period\n",
    "                 for i in range(len(routes))\n",
    "                 for j in range(len(aircraft_type))\n",
    "                 for m in range(len(months)))\n",
    "\n",
    "model.update()"
   ]
  },
  {
   "cell_type": "markdown",
   "id": "cc62e3be-0055-4abb-8548-a6bc4b13c1bf",
   "metadata": {
    "pycharm": {
     "name": "#%% md\n"
    }
   },
   "source": [
    "### Complete model formulation\n",
    "\n",
    "\\begin{align}\n",
    "  & min_{x,y}\\\\\n",
    "  \\\\\n",
    "  &\\sum_{ijm}{y_{ijm} . L_j} + \\sum_{ijm}{x_{ijm} . O_j . (D_i/S_j)} \\\\\n",
    "  \\\\\n",
    "  & s.t. \\\\\n",
    "  \\\\\n",
    "  & \\sum_{j}{x_{ijm} . C_j} \\geq D_{im};          &\\forall i \\in I, \\forall m \\in M\\\\\n",
    "  &  x_{ijm} . (D_i/S_j) \\leq (y_{ijm} . H . N) ; &\\forall i \\in I, \\forall j \\in J, \\forall m \\in M\\\\\n",
    "  &  x_{ijm}, y_{ijm} \\geq 0\\\\\n",
    "\\end{align}"
   ]
  },
  {
   "cell_type": "markdown",
   "id": "70872af9-da8a-46da-bc0c-d1a8545b49de",
   "metadata": {
    "pycharm": {
     "name": "#%% md\n"
    }
   },
   "source": [
    "## Solving the model\n",
    "\n",
    "For solving linear programming problems with continuous decision variables, possible solution algorithms (available with Gurobi) are: primal simplex, dual simplex and barrier algorithm (which is a specific type of interior point method). When we ask Gurobi to solve a model without specifying the algorithm, it selects what it thinks is the best algorithm to solve each specific problem. It uses the concurrent optimizer, which is the default option for the solution algorithm. Here we solve the model without specifying the solution method (letting Gurobi decide which algorithm to use). In the next tutorial, we discuss different algorithms."
   ]
  },
  {
   "cell_type": "code",
   "execution_count": 13,
   "id": "37e02a09-a591-4e8a-b215-7120014d99cf",
   "metadata": {
    "pycharm": {
     "name": "#%%\n"
    }
   },
   "outputs": [
    {
     "name": "stdout",
     "output_type": "stream",
     "text": [
      "Set parameter LogToConsole to value 1\n",
      "Gurobi Optimizer version 9.5.1 build v9.5.1rc2 (win64)\n",
      "Thread count: 4 physical cores, 8 logical processors, using up to 8 threads\n",
      "Optimize a model with 959616 rows, 1599360 columns and 2399040 nonzeros\n",
      "Model fingerprint: 0x97205460\n",
      "Coefficient statistics:\n",
      "  Matrix range     [4e-03, 6e+02]\n",
      "  Objective range  [2e+01, 5e+05]\n",
      "  Bounds range     [0e+00, 0e+00]\n",
      "  RHS range        [6e+00, 1e+05]\n",
      "\n",
      "Concurrent LP optimizer: dual simplex and barrier\n",
      "Showing barrier log only...\n",
      "\n",
      "Presolve removed 959616 rows and 1599360 columns\n",
      "Presolve time: 1.44s\n",
      "Presolve: All rows and columns removed\n",
      "Iteration    Objective       Primal Inf.    Dual Inf.      Time\n",
      "       0    7.9354517e+09   0.000000e+00   0.000000e+00      3s\n",
      "\n",
      "Solved with dual simplex\n",
      "Solved in 0 iterations and 2.73 seconds (0.88 work units)\n",
      "Optimal objective  7.935451713e+09\n"
     ]
    }
   ],
   "source": [
    "# to see the output (remember we turned this off before)\n",
    "model.Params.LogToConsole = 1\n",
    "\n",
    "# solve the model\n",
    "model.optimize()"
   ]
  },
  {
   "cell_type": "markdown",
   "id": "6b8b15a2",
   "metadata": {
    "pycharm": {
     "name": "#%% md\n"
    }
   },
   "source": [
    "## Exercise\n",
    "\n",
    "Try to verify feasibility of the optimal solution as well as the objective value of this solution.\n",
    "You can access the optimal values of decision variables via their x attribute (e.g., fleet_size[i, j, m].x)"
   ]
  },
  {
   "cell_type": "markdown",
   "id": "097881c9",
   "metadata": {
    "collapsed": false,
    "pycharm": {
     "name": "#%% md\n"
    }
   },
   "source": [
    "## Analysis\n",
    "\n",
    "Let's check out the optimal solution."
   ]
  },
  {
   "cell_type": "code",
   "execution_count": 14,
   "id": "c1959e57",
   "metadata": {
    "collapsed": false,
    "pycharm": {
     "name": "#%%\n"
    }
   },
   "outputs": [
    {
     "data": {
      "text/html": [
       "<div>\n",
       "<style scoped>\n",
       "    .dataframe tbody tr th:only-of-type {\n",
       "        vertical-align: middle;\n",
       "    }\n",
       "\n",
       "    .dataframe tbody tr th {\n",
       "        vertical-align: top;\n",
       "    }\n",
       "\n",
       "    .dataframe thead th {\n",
       "        text-align: right;\n",
       "    }\n",
       "</style>\n",
       "<table border=\"1\" class=\"dataframe\">\n",
       "  <thead>\n",
       "    <tr style=\"text-align: right;\">\n",
       "      <th></th>\n",
       "      <th>Origin</th>\n",
       "      <th>Destination</th>\n",
       "      <th>Aircraft Type</th>\n",
       "      <th>Month</th>\n",
       "      <th>Fleet size</th>\n",
       "      <th>Frequency</th>\n",
       "    </tr>\n",
       "  </thead>\n",
       "  <tbody>\n",
       "    <tr>\n",
       "      <th>0</th>\n",
       "      <td>ABE</td>\n",
       "      <td>ATL</td>\n",
       "      <td>A330-200</td>\n",
       "      <td>200907</td>\n",
       "      <td>0.020390</td>\n",
       "      <td>8.839450</td>\n",
       "    </tr>\n",
       "    <tr>\n",
       "      <th>1</th>\n",
       "      <td>ABE</td>\n",
       "      <td>ATL</td>\n",
       "      <td>A330-200</td>\n",
       "      <td>200908</td>\n",
       "      <td>0.017496</td>\n",
       "      <td>7.584862</td>\n",
       "    </tr>\n",
       "    <tr>\n",
       "      <th>2</th>\n",
       "      <td>ABE</td>\n",
       "      <td>ATL</td>\n",
       "      <td>A330-200</td>\n",
       "      <td>200909</td>\n",
       "      <td>0.012734</td>\n",
       "      <td>5.520642</td>\n",
       "    </tr>\n",
       "    <tr>\n",
       "      <th>3</th>\n",
       "      <td>ABE</td>\n",
       "      <td>ATL</td>\n",
       "      <td>A330-200</td>\n",
       "      <td>200910</td>\n",
       "      <td>0.015104</td>\n",
       "      <td>6.548165</td>\n",
       "    </tr>\n",
       "    <tr>\n",
       "      <th>4</th>\n",
       "      <td>ABE</td>\n",
       "      <td>ATL</td>\n",
       "      <td>A330-200</td>\n",
       "      <td>200911</td>\n",
       "      <td>0.014491</td>\n",
       "      <td>6.282110</td>\n",
       "    </tr>\n",
       "    <tr>\n",
       "      <th>5</th>\n",
       "      <td>ABE</td>\n",
       "      <td>ATL</td>\n",
       "      <td>A330-200</td>\n",
       "      <td>200912</td>\n",
       "      <td>0.012401</td>\n",
       "      <td>5.376147</td>\n",
       "    </tr>\n",
       "    <tr>\n",
       "      <th>6</th>\n",
       "      <td>ABE</td>\n",
       "      <td>AVL</td>\n",
       "      <td>A330-200</td>\n",
       "      <td>200907</td>\n",
       "      <td>0.000186</td>\n",
       "      <td>0.105505</td>\n",
       "    </tr>\n",
       "    <tr>\n",
       "      <th>7</th>\n",
       "      <td>ABE</td>\n",
       "      <td>AVP</td>\n",
       "      <td>A330-200</td>\n",
       "      <td>200908</td>\n",
       "      <td>0.000018</td>\n",
       "      <td>0.107798</td>\n",
       "    </tr>\n",
       "    <tr>\n",
       "      <th>8</th>\n",
       "      <td>ABE</td>\n",
       "      <td>CLE</td>\n",
       "      <td>A330-200</td>\n",
       "      <td>200907</td>\n",
       "      <td>0.007348</td>\n",
       "      <td>6.502294</td>\n",
       "    </tr>\n",
       "    <tr>\n",
       "      <th>9</th>\n",
       "      <td>ABE</td>\n",
       "      <td>CLE</td>\n",
       "      <td>A330-200</td>\n",
       "      <td>200908</td>\n",
       "      <td>0.007749</td>\n",
       "      <td>6.857798</td>\n",
       "    </tr>\n",
       "    <tr>\n",
       "      <th>10</th>\n",
       "      <td>ABE</td>\n",
       "      <td>CLE</td>\n",
       "      <td>A330-200</td>\n",
       "      <td>200909</td>\n",
       "      <td>0.006122</td>\n",
       "      <td>5.417431</td>\n",
       "    </tr>\n",
       "    <tr>\n",
       "      <th>11</th>\n",
       "      <td>ABE</td>\n",
       "      <td>CLE</td>\n",
       "      <td>A330-200</td>\n",
       "      <td>200910</td>\n",
       "      <td>0.007177</td>\n",
       "      <td>6.350917</td>\n",
       "    </tr>\n",
       "    <tr>\n",
       "      <th>12</th>\n",
       "      <td>ABE</td>\n",
       "      <td>CLE</td>\n",
       "      <td>A330-200</td>\n",
       "      <td>200911</td>\n",
       "      <td>0.006018</td>\n",
       "      <td>5.325688</td>\n",
       "    </tr>\n",
       "    <tr>\n",
       "      <th>13</th>\n",
       "      <td>ABE</td>\n",
       "      <td>CLE</td>\n",
       "      <td>A330-200</td>\n",
       "      <td>200912</td>\n",
       "      <td>0.004999</td>\n",
       "      <td>4.424312</td>\n",
       "    </tr>\n",
       "    <tr>\n",
       "      <th>14</th>\n",
       "      <td>ABE</td>\n",
       "      <td>CLT</td>\n",
       "      <td>A330-200</td>\n",
       "      <td>200907</td>\n",
       "      <td>0.019529</td>\n",
       "      <td>12.201835</td>\n",
       "    </tr>\n",
       "    <tr>\n",
       "      <th>15</th>\n",
       "      <td>ABE</td>\n",
       "      <td>CLT</td>\n",
       "      <td>A330-200</td>\n",
       "      <td>200908</td>\n",
       "      <td>0.018623</td>\n",
       "      <td>11.635321</td>\n",
       "    </tr>\n",
       "    <tr>\n",
       "      <th>16</th>\n",
       "      <td>ABE</td>\n",
       "      <td>CLT</td>\n",
       "      <td>A330-200</td>\n",
       "      <td>200909</td>\n",
       "      <td>0.018193</td>\n",
       "      <td>11.366972</td>\n",
       "    </tr>\n",
       "    <tr>\n",
       "      <th>17</th>\n",
       "      <td>ABE</td>\n",
       "      <td>CLT</td>\n",
       "      <td>A330-200</td>\n",
       "      <td>200910</td>\n",
       "      <td>0.018681</td>\n",
       "      <td>11.672018</td>\n",
       "    </tr>\n",
       "    <tr>\n",
       "      <th>18</th>\n",
       "      <td>ABE</td>\n",
       "      <td>CLT</td>\n",
       "      <td>A330-200</td>\n",
       "      <td>200911</td>\n",
       "      <td>0.017940</td>\n",
       "      <td>11.208716</td>\n",
       "    </tr>\n",
       "    <tr>\n",
       "      <th>19</th>\n",
       "      <td>ABE</td>\n",
       "      <td>CLT</td>\n",
       "      <td>A330-200</td>\n",
       "      <td>200912</td>\n",
       "      <td>0.017474</td>\n",
       "      <td>10.917431</td>\n",
       "    </tr>\n",
       "  </tbody>\n",
       "</table>\n",
       "</div>"
      ],
      "text/plain": [
       "   Origin Destination Aircraft Type   Month  Fleet size  Frequency\n",
       "0     ABE         ATL      A330-200  200907    0.020390   8.839450\n",
       "1     ABE         ATL      A330-200  200908    0.017496   7.584862\n",
       "2     ABE         ATL      A330-200  200909    0.012734   5.520642\n",
       "3     ABE         ATL      A330-200  200910    0.015104   6.548165\n",
       "4     ABE         ATL      A330-200  200911    0.014491   6.282110\n",
       "5     ABE         ATL      A330-200  200912    0.012401   5.376147\n",
       "6     ABE         AVL      A330-200  200907    0.000186   0.105505\n",
       "7     ABE         AVP      A330-200  200908    0.000018   0.107798\n",
       "8     ABE         CLE      A330-200  200907    0.007348   6.502294\n",
       "9     ABE         CLE      A330-200  200908    0.007749   6.857798\n",
       "10    ABE         CLE      A330-200  200909    0.006122   5.417431\n",
       "11    ABE         CLE      A330-200  200910    0.007177   6.350917\n",
       "12    ABE         CLE      A330-200  200911    0.006018   5.325688\n",
       "13    ABE         CLE      A330-200  200912    0.004999   4.424312\n",
       "14    ABE         CLT      A330-200  200907    0.019529  12.201835\n",
       "15    ABE         CLT      A330-200  200908    0.018623  11.635321\n",
       "16    ABE         CLT      A330-200  200909    0.018193  11.366972\n",
       "17    ABE         CLT      A330-200  200910    0.018681  11.672018\n",
       "18    ABE         CLT      A330-200  200911    0.017940  11.208716\n",
       "19    ABE         CLT      A330-200  200912    0.017474  10.917431"
      ]
     },
     "execution_count": 14,
     "metadata": {},
     "output_type": "execute_result"
    }
   ],
   "source": [
    "optimal_results = pd.DataFrame(columns=[\"Origin\", \"Destination\", \"Aircraft Type\", \"Month\", \"Fleet size\", \"Frequency\"])\n",
    "for i in range(len(routes)):\n",
    "    for j in range(len(aircraft_type)):\n",
    "        for m in range(len(months)):\n",
    "            if frequency[i, j, m].x > 1e-6 or fleet_size[i, j, m].x > 1e-6:\n",
    "                optimal_results = optimal_results.append({\"Origin\": routes[i][0],\n",
    "                                                          \"Destination\": routes[i][1],\n",
    "                                                          \"Aircraft Type\": aircraft_type[j],\n",
    "                                                          \"Month\": months[m],\n",
    "                                                          \"Fleet size\": fleet_size[i,j,m].x,\n",
    "                                                          \"Frequency\": frequency[i,j,m].x}, ignore_index=True)\n",
    "optimal_results.head(20)"
   ]
  },
  {
   "cell_type": "markdown",
   "id": "6301b855",
   "metadata": {
    "collapsed": false,
    "pycharm": {
     "name": "#%% md\n"
    }
   },
   "source": [
    "Did you notice something odd about the results? We have decimal numbers for frequencies and fleet sizes. This is because we specified decision variable types as continuous when declaring them. Of course we did that mainly because we have only studied linear programs with continuous decision variables but this kind of simplifications are not uncommon in practice. As you will see later, linear programs with integer decision variables are more challenging to solve. Large scale problems with integer decision variables can even be practically infeasible to solve."
   ]
  },
  {
   "cell_type": "markdown",
   "id": "7ac1f37b",
   "metadata": {
    "collapsed": false,
    "pycharm": {
     "name": "#%% md\n"
    }
   },
   "source": [
    "Now let's try to force Gurobi to only find solutions with integer decision variable values. In this case, we can do that by iterating through decision variables and changing their type from continuous to integer (it's not always that simple but more on that later)."
   ]
  },
  {
   "cell_type": "code",
   "execution_count": 15,
   "id": "3558ed88",
   "metadata": {
    "collapsed": false,
    "pycharm": {
     "name": "#%%\n"
    }
   },
   "outputs": [
    {
     "name": "stdout",
     "output_type": "stream",
     "text": [
      "Discarded solution information\n"
     ]
    }
   ],
   "source": [
    "# discard existing solution information from the model\n",
    "model.reset(0)\n",
    "\n",
    "# iterate over decision variables and modify their type to integer (remember we declare them continuous before)\n",
    "for var in model.getVars():\n",
    "    var.vtype = gp.GRB.INTEGER"
   ]
  },
  {
   "cell_type": "code",
   "execution_count": 16,
   "id": "e2e06a9c",
   "metadata": {
    "collapsed": false,
    "pycharm": {
     "name": "#%%\n"
    }
   },
   "outputs": [
    {
     "name": "stdout",
     "output_type": "stream",
     "text": [
      "Gurobi Optimizer version 9.5.1 build v9.5.1rc2 (win64)\n",
      "Thread count: 4 physical cores, 8 logical processors, using up to 8 threads\n",
      "Optimize a model with 959616 rows, 1599360 columns and 2399040 nonzeros\n",
      "Model fingerprint: 0xb003a3e3\n",
      "Variable types: 0 continuous, 1599360 integer (0 binary)\n",
      "Coefficient statistics:\n",
      "  Matrix range     [4e-03, 6e+02]\n",
      "  Objective range  [2e+01, 5e+05]\n",
      "  Bounds range     [0e+00, 0e+00]\n",
      "  RHS range        [6e+00, 1e+05]\n",
      "Found heuristic solution: objective 2.043082e+10\n",
      "Presolve removed 809084 rows and 1599350 columns (presolve time = 35s) ...\n",
      "Presolve removed 959610 rows and 1599350 columns\n",
      "Presolve time: 35.19s\n",
      "Presolved: 6 rows, 10 columns, 15 nonzeros\n",
      "Found heuristic solution: objective 1.588337e+10\n",
      "Variable types: 0 continuous, 10 integer (5 binary)\n",
      "\n",
      "Explored 0 nodes (0 simplex iterations) in 35.82 seconds (2.52 work units)\n",
      "Thread count was 8 (of 8 available processors)\n",
      "\n",
      "Solution count 2: 1.58834e+10 2.04308e+10 \n",
      "\n",
      "Optimal solution found (tolerance 1.00e-04)\n",
      "Best objective 1.588336894802e+10, best bound 1.588282454130e+10, gap 0.0034%\n"
     ]
    }
   ],
   "source": [
    "# optimize the modified model\n",
    "model.optimize()"
   ]
  },
  {
   "cell_type": "markdown",
   "id": "f3a5b47c",
   "metadata": {
    "collapsed": false,
    "pycharm": {
     "name": "#%% md\n"
    }
   },
   "source": [
    "The optimal objective function value is higher (less desirable) compared to the continuous problem, which was to be expected. Can you guess why?\n",
    "\n",
    "Also note that the computation time is significantly higher compared to the continuous problem.\n",
    "\n",
    "Now let's make a table and look at the results."
   ]
  },
  {
   "cell_type": "code",
   "execution_count": 17,
   "id": "aec28c0a",
   "metadata": {
    "collapsed": false,
    "pycharm": {
     "name": "#%%\n"
    }
   },
   "outputs": [
    {
     "data": {
      "text/html": [
       "<div>\n",
       "<style scoped>\n",
       "    .dataframe tbody tr th:only-of-type {\n",
       "        vertical-align: middle;\n",
       "    }\n",
       "\n",
       "    .dataframe tbody tr th {\n",
       "        vertical-align: top;\n",
       "    }\n",
       "\n",
       "    .dataframe thead th {\n",
       "        text-align: right;\n",
       "    }\n",
       "</style>\n",
       "<table border=\"1\" class=\"dataframe\">\n",
       "  <thead>\n",
       "    <tr style=\"text-align: right;\">\n",
       "      <th></th>\n",
       "      <th>Origin</th>\n",
       "      <th>Destination</th>\n",
       "      <th>Aircraft Type</th>\n",
       "      <th>Month</th>\n",
       "      <th>Fleet size</th>\n",
       "      <th>Frequency</th>\n",
       "    </tr>\n",
       "  </thead>\n",
       "  <tbody>\n",
       "    <tr>\n",
       "      <th>0</th>\n",
       "      <td>ABE</td>\n",
       "      <td>ATL</td>\n",
       "      <td>A320-200 CEO</td>\n",
       "      <td>200907</td>\n",
       "      <td>1.0</td>\n",
       "      <td>22.0</td>\n",
       "    </tr>\n",
       "    <tr>\n",
       "      <th>1</th>\n",
       "      <td>ABE</td>\n",
       "      <td>ATL</td>\n",
       "      <td>A320-200 CEO</td>\n",
       "      <td>200908</td>\n",
       "      <td>1.0</td>\n",
       "      <td>19.0</td>\n",
       "    </tr>\n",
       "    <tr>\n",
       "      <th>2</th>\n",
       "      <td>ABE</td>\n",
       "      <td>ATL</td>\n",
       "      <td>A320-200 CEO</td>\n",
       "      <td>200909</td>\n",
       "      <td>1.0</td>\n",
       "      <td>14.0</td>\n",
       "    </tr>\n",
       "    <tr>\n",
       "      <th>3</th>\n",
       "      <td>ABE</td>\n",
       "      <td>ATL</td>\n",
       "      <td>A320-200 CEO</td>\n",
       "      <td>200910</td>\n",
       "      <td>1.0</td>\n",
       "      <td>16.0</td>\n",
       "    </tr>\n",
       "    <tr>\n",
       "      <th>4</th>\n",
       "      <td>ABE</td>\n",
       "      <td>ATL</td>\n",
       "      <td>A320-200 CEO</td>\n",
       "      <td>200911</td>\n",
       "      <td>1.0</td>\n",
       "      <td>16.0</td>\n",
       "    </tr>\n",
       "    <tr>\n",
       "      <th>5</th>\n",
       "      <td>ABE</td>\n",
       "      <td>ATL</td>\n",
       "      <td>A320-200 CEO</td>\n",
       "      <td>200912</td>\n",
       "      <td>1.0</td>\n",
       "      <td>14.0</td>\n",
       "    </tr>\n",
       "    <tr>\n",
       "      <th>6</th>\n",
       "      <td>ABE</td>\n",
       "      <td>AVL</td>\n",
       "      <td>A320-200 CEO</td>\n",
       "      <td>200907</td>\n",
       "      <td>1.0</td>\n",
       "      <td>1.0</td>\n",
       "    </tr>\n",
       "    <tr>\n",
       "      <th>7</th>\n",
       "      <td>ABE</td>\n",
       "      <td>AVP</td>\n",
       "      <td>A320-200 CEO</td>\n",
       "      <td>200908</td>\n",
       "      <td>1.0</td>\n",
       "      <td>1.0</td>\n",
       "    </tr>\n",
       "    <tr>\n",
       "      <th>8</th>\n",
       "      <td>ABE</td>\n",
       "      <td>CLE</td>\n",
       "      <td>A320-200 CEO</td>\n",
       "      <td>200907</td>\n",
       "      <td>1.0</td>\n",
       "      <td>16.0</td>\n",
       "    </tr>\n",
       "    <tr>\n",
       "      <th>9</th>\n",
       "      <td>ABE</td>\n",
       "      <td>CLE</td>\n",
       "      <td>A320-200 CEO</td>\n",
       "      <td>200908</td>\n",
       "      <td>1.0</td>\n",
       "      <td>17.0</td>\n",
       "    </tr>\n",
       "    <tr>\n",
       "      <th>10</th>\n",
       "      <td>ABE</td>\n",
       "      <td>CLE</td>\n",
       "      <td>A320-200 CEO</td>\n",
       "      <td>200909</td>\n",
       "      <td>1.0</td>\n",
       "      <td>14.0</td>\n",
       "    </tr>\n",
       "    <tr>\n",
       "      <th>11</th>\n",
       "      <td>ABE</td>\n",
       "      <td>CLE</td>\n",
       "      <td>A320-200 CEO</td>\n",
       "      <td>200910</td>\n",
       "      <td>1.0</td>\n",
       "      <td>16.0</td>\n",
       "    </tr>\n",
       "    <tr>\n",
       "      <th>12</th>\n",
       "      <td>ABE</td>\n",
       "      <td>CLE</td>\n",
       "      <td>A320-200 CEO</td>\n",
       "      <td>200911</td>\n",
       "      <td>1.0</td>\n",
       "      <td>13.0</td>\n",
       "    </tr>\n",
       "    <tr>\n",
       "      <th>13</th>\n",
       "      <td>ABE</td>\n",
       "      <td>CLE</td>\n",
       "      <td>A320-200 CEO</td>\n",
       "      <td>200912</td>\n",
       "      <td>1.0</td>\n",
       "      <td>11.0</td>\n",
       "    </tr>\n",
       "    <tr>\n",
       "      <th>14</th>\n",
       "      <td>ABE</td>\n",
       "      <td>CLT</td>\n",
       "      <td>A320-200 CEO</td>\n",
       "      <td>200907</td>\n",
       "      <td>1.0</td>\n",
       "      <td>30.0</td>\n",
       "    </tr>\n",
       "    <tr>\n",
       "      <th>15</th>\n",
       "      <td>ABE</td>\n",
       "      <td>CLT</td>\n",
       "      <td>A320-200 CEO</td>\n",
       "      <td>200908</td>\n",
       "      <td>1.0</td>\n",
       "      <td>29.0</td>\n",
       "    </tr>\n",
       "    <tr>\n",
       "      <th>16</th>\n",
       "      <td>ABE</td>\n",
       "      <td>CLT</td>\n",
       "      <td>A320-200 CEO</td>\n",
       "      <td>200909</td>\n",
       "      <td>1.0</td>\n",
       "      <td>28.0</td>\n",
       "    </tr>\n",
       "    <tr>\n",
       "      <th>17</th>\n",
       "      <td>ABE</td>\n",
       "      <td>CLT</td>\n",
       "      <td>A320-200 CEO</td>\n",
       "      <td>200910</td>\n",
       "      <td>1.0</td>\n",
       "      <td>29.0</td>\n",
       "    </tr>\n",
       "    <tr>\n",
       "      <th>18</th>\n",
       "      <td>ABE</td>\n",
       "      <td>CLT</td>\n",
       "      <td>A320-200 CEO</td>\n",
       "      <td>200911</td>\n",
       "      <td>1.0</td>\n",
       "      <td>28.0</td>\n",
       "    </tr>\n",
       "    <tr>\n",
       "      <th>19</th>\n",
       "      <td>ABE</td>\n",
       "      <td>CLT</td>\n",
       "      <td>A320-200 CEO</td>\n",
       "      <td>200912</td>\n",
       "      <td>1.0</td>\n",
       "      <td>27.0</td>\n",
       "    </tr>\n",
       "  </tbody>\n",
       "</table>\n",
       "</div>"
      ],
      "text/plain": [
       "   Origin Destination Aircraft Type   Month  Fleet size  Frequency\n",
       "0     ABE         ATL  A320-200 CEO  200907         1.0       22.0\n",
       "1     ABE         ATL  A320-200 CEO  200908         1.0       19.0\n",
       "2     ABE         ATL  A320-200 CEO  200909         1.0       14.0\n",
       "3     ABE         ATL  A320-200 CEO  200910         1.0       16.0\n",
       "4     ABE         ATL  A320-200 CEO  200911         1.0       16.0\n",
       "5     ABE         ATL  A320-200 CEO  200912         1.0       14.0\n",
       "6     ABE         AVL  A320-200 CEO  200907         1.0        1.0\n",
       "7     ABE         AVP  A320-200 CEO  200908         1.0        1.0\n",
       "8     ABE         CLE  A320-200 CEO  200907         1.0       16.0\n",
       "9     ABE         CLE  A320-200 CEO  200908         1.0       17.0\n",
       "10    ABE         CLE  A320-200 CEO  200909         1.0       14.0\n",
       "11    ABE         CLE  A320-200 CEO  200910         1.0       16.0\n",
       "12    ABE         CLE  A320-200 CEO  200911         1.0       13.0\n",
       "13    ABE         CLE  A320-200 CEO  200912         1.0       11.0\n",
       "14    ABE         CLT  A320-200 CEO  200907         1.0       30.0\n",
       "15    ABE         CLT  A320-200 CEO  200908         1.0       29.0\n",
       "16    ABE         CLT  A320-200 CEO  200909         1.0       28.0\n",
       "17    ABE         CLT  A320-200 CEO  200910         1.0       29.0\n",
       "18    ABE         CLT  A320-200 CEO  200911         1.0       28.0\n",
       "19    ABE         CLT  A320-200 CEO  200912         1.0       27.0"
      ]
     },
     "execution_count": 17,
     "metadata": {},
     "output_type": "execute_result"
    }
   ],
   "source": [
    "optimal_results_integer = pd.DataFrame(columns=[\"Origin\", \"Destination\", \"Aircraft Type\", \"Month\", \"Fleet size\", \"Frequency\"])\n",
    "for i in range(len(routes)):\n",
    "    for j in range(len(aircraft_type)):\n",
    "        for m in range(len(months)):\n",
    "            if frequency[i, j, m].x > 1e-6 or fleet_size[i, j, m].x > 1e-6:\n",
    "                optimal_results_integer = optimal_results_integer.append({\"Origin\": routes[i][0],\n",
    "                                                                          \"Destination\": routes[i][1],\n",
    "                                                                          \"Aircraft Type\": aircraft_type[j],\n",
    "                                                                          \"Month\": months[m],\n",
    "                                                                          \"Fleet size\": fleet_size[i,j,m].x,\n",
    "                                                                          \"Frequency\": frequency[i,j,m].x}, ignore_index=True)\n",
    "optimal_results_integer.head(20)"
   ]
  },
  {
   "cell_type": "markdown",
   "id": "32a24661",
   "metadata": {
    "collapsed": false,
    "pycharm": {
     "name": "#%% md\n"
    }
   },
   "source": [
    "Now fleet size and frequencies make more sense. If you still haven't figured out why the objective function value of the integer problem is a bit greater, comparing fleet size and frequency values of integer and continuous variations should help you understand that (hint: aircraft leasing cost depends on the fleet size and aircraft operating cost depends on the frequency).\n"
   ]
  },
  {
   "cell_type": "markdown",
   "id": "f7aa4b5b",
   "metadata": {
    "collapsed": false,
    "pycharm": {
     "name": "#%% md\n"
    }
   },
   "source": [
    "## Exercise\n",
    "\n",
    "As you saw above, computation time of solving the model changed when we changed decision variable types from continuous to integer. On the other hand, computation time usually increases with problem size. Try to change the size of this problem (simply by changing the number of months to include in input cell 5 from 6 to a different number and rerunning the code), solve both continuous and integer variations, and record computation times. You can go all the way up to 240 months (but note that this might take quite some time). Make a figure to see the trends properly (e.g., number of months on the x-axis, computation time on the y-axis, and a separate line for each problem variation). What can you conclude?"
   ]
  }
 ],
 "metadata": {
  "kernelspec": {
   "display_name": "Python 3 (ipykernel)",
   "language": "python",
   "name": "python3"
  },
  "language_info": {
   "codemirror_mode": {
    "name": "ipython",
    "version": 3
   },
   "file_extension": ".py",
   "mimetype": "text/x-python",
   "name": "python",
   "nbconvert_exporter": "python",
   "pygments_lexer": "ipython3",
   "version": "3.9.7"
  }
 },
 "nbformat": 4,
 "nbformat_minor": 5
}
