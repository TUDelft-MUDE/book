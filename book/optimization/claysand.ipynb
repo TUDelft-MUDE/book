{
 "cells": [
  {
   "cell_type": "markdown",
   "metadata": {
    "id": "i52s409jfGcY",
    "pycharm": {
     "name": "#%% md\n"
    }
   },
   "source": [
    "## The sand and clay extraction problem ##\n",
    "\n",
    "In this Notebook, we show how you can use Gurobi with Python API to solve the clay and sand extraction problem.\n",
    "\n",
    "As you're required to have a license to use Gurobi, download this notebook to work on it after activating your personal license.\n",
    "\n",
    "#### Problem description\n",
    "*  A company extracts sand and clay from a site which when sold gives a profit of 57 and 60 monetary units per thousand units of product. For this extraction, sand needs a manpower of 50 men x hours to extract 1000 units of product 1 whilst clay needs 13 men x hours for 1000 units. \n",
    "* 4h of backhoe work are needed to extract one thousand units of sand and 5h of backhoe work per thousand units of clay. The number of hours needed of truck transport is 8h and 4h respectively for sand and clay for each 1000 units of product transported. \n",
    "* The company has a work schedule of 40 hours per week for the men but also for the equipment (truck and backhoe). There are 5 men who can be used interchangeably between the transport of the two products. There is only one truck and one backhoe.\n",
    "* What should be the extraction plan of this company in a week? What should their objective be? What decisions need to be made?"
   ]
  },
  {
   "cell_type": "markdown",
   "metadata": {
    "id": "xwcn2e8-fGcd",
    "pycharm": {
     "name": "#%% md\n"
    }
   },
   "source": [
    "#### Prepare gurobi+python\n",
    "\n",
    "Useful links:\n",
    "* <https://www.gurobi.com/index>\n",
    "* <https://www.gurobi.com/gurobi-and-anaconda-for-windows/>"
   ]
  },
  {
   "cell_type": "markdown",
   "metadata": {
    "id": "3hn9KcaCfGce",
    "pycharm": {
     "name": "#%% md\n"
    }
   },
   "source": [
    "#### Gurobi tutorial\n",
    "* In this notebook, we are going to build a simple model using gurobipy.\n",
    "* You can turn to the built-in function help() to see how different commands work, for example:\n",
    "\n",
    "\n",
    "\n",
    "```\n",
    "help(model.addVar())\n",
    "```\n"
   ]
  },
  {
   "cell_type": "markdown",
   "metadata": {
    "id": "1L790nMvFSeB",
    "pycharm": {
     "name": "#%% md\n"
    }
   },
   "source": [
    "#### Import gurobipy package\n",
    "After preparing the environment for gurobi+python, you should be able to run the following code to import the gurobipy package."
   ]
  },
  {
   "cell_type": "code",
   "execution_count": 2,
   "metadata": {
    "id": "bA1V-ugIfGcf",
    "pycharm": {
     "name": "#%%\n"
    },
    "tags": [
     "disable-execution-page"
    ]
   },
   "outputs": [],
   "source": [
    "import gurobipy"
   ]
  },
  {
   "cell_type": "markdown",
   "metadata": {
    "id": "SS8bmYrSfGcg",
    "pycharm": {
     "name": "#%% md\n"
    }
   },
   "source": [
    "### Construct the model\n",
    "#### Initialization\n",
    "* First, initialize an empty model."
   ]
  },
  {
   "cell_type": "code",
   "execution_count": 16,
   "metadata": {
    "colab": {
     "base_uri": "https://localhost:8080/"
    },
    "id": "yC3Q6DdpfGcg",
    "outputId": "7debe147-7a82-4c01-d152-9c57ecd3ce14",
    "pycharm": {
     "name": "#%%\n"
    }
   },
   "outputs": [],
   "source": [
    "model = gurobipy.Model()"
   ]
  },
  {
   "cell_type": "markdown",
   "metadata": {
    "id": "Ae7BhH3YfGch",
    "pycharm": {
     "name": "#%% md\n"
    }
   },
   "source": [
    "#### Define attributes\n",
    "* Now let's store some parameter values we need for constructing the model.\n",
    "* The multydict() function in gurobipy allows us to store these values conveniently.\n",
    "```\n",
    "gurobipy.multidict()\n",
    "\n",
    "```"
   ]
  },
  {
   "cell_type": "code",
   "execution_count": 20,
   "metadata": {},
   "outputs": [
    {
     "name": "stdout",
     "output_type": "stream",
     "text": [
      "Help on built-in function multidict in module gurobipy:\n",
      "\n",
      "multidict(...)\n",
      "    ROUTINE:\n",
      "      multidict(data)\n",
      "    PURPOSE:\n",
      "      Split a single dictionary into multiple dictionaries.\n",
      "    ARGUMENTS:\n",
      "      data: A dictionary that maps each key to a list of 'n' values.\n",
      "    RETURN VALUE:\n",
      "      A list of the shared keys, followed by individual tupledicts.\n",
      "    EXAMPLE:\n",
      "      (keys, dict1, dict2) = multidict( {\n",
      "               'key1': [1, 2],\n",
      "               'key2': [1, 3],\n",
      "               'key3': [1, 4] } )\n",
      "\n"
     ]
    }
   ],
   "source": [
    "help(gurobipy. multidict)"
   ]
  },
  {
   "cell_type": "markdown",
   "metadata": {
    "id": "4dr1Ars-fGci",
    "pycharm": {
     "name": "#%% md\n"
    }
   },
   "source": [
    "|      | Profit | Manpower | Backhoe work | Truck transport |\n",
    "|------|--------|----------|--------------|-----------------|\n",
    "| Sand | 57     | 50       | 4            | 8               |\n",
    "| Clay | 60     | 13       | 5            | 4               |\n"
   ]
  },
  {
   "cell_type": "code",
   "execution_count": 4,
   "metadata": {
    "id": "yB6s-ZCZfGcj",
    "pycharm": {
     "name": "#%%\n"
    }
   },
   "outputs": [],
   "source": [
    "# define attributes\n",
    "material, profit, manpower, backhoe_work, truck_trans = gurobipy. multidict({\n",
    "    'sand' :[57, 50, 4, 8], 'clay' :[60, 13, 5, 4]\n",
    "})\n",
    "men_equipment, work_hour = gurobipy.multidict({\n",
    "    'men' :[200], 'truck' :[40], 'backhoe' :[40]\n",
    "})"
   ]
  },
  {
   "cell_type": "markdown",
   "metadata": {
    "id": "1P48FlddfGck",
    "pycharm": {
     "name": "#%% md\n"
    }
   },
   "source": [
    "#### Add desicion variables\n",
    "* This step is to add desicion variables. You can use these two functions to add decision variables to the model.\n",
    "```\n",
    "Model.addVar() # add a single variable\n",
    "Model.addVars() # add multiple variables\n",
    "```\n",
    "You can define the type of the variables. Such as:\n",
    "```\n",
    "GRB.CONTINUOUS  # continuous variable\n",
    "GRB.INTEGER # integer variable\n",
    "```\n",
    " \n",
    "* Use the built-in function in the following cells to see detailed information about Model.addVar() and variable types in class GRB"
   ]
  },
  {
   "cell_type": "code",
   "execution_count": 5,
   "metadata": {
    "colab": {
     "base_uri": "https://localhost:8080/"
    },
    "id": "sE4iAiggfGcl",
    "outputId": "4b351892-2410-416f-97ca-236d5da25c53",
    "pycharm": {
     "name": "#%%\n"
    }
   },
   "outputs": [
    {
     "name": "stdout",
     "output_type": "stream",
     "text": [
      "Help on cython_function_or_method in module gurobipy:\n",
      "\n",
      "addVar(self, lb=0.0, ub=1e+100, obj=0.0, vtype='C', name='', column=None)\n",
      "    ROUTINE:\n",
      "      addVar(lb, ub, obj, vtype, name, column)\n",
      "    \n",
      "    PURPOSE:\n",
      "      Add a variable to the model.\n",
      "    \n",
      "    ARGUMENTS:\n",
      "      lb (float): Lower bound (default is zero)\n",
      "      ub (float): Upper bound (default is infinite)\n",
      "      obj (float): Objective coefficient (default is zero)\n",
      "      vtype (string): Variable type (default is GRB.CONTINUOUS)\n",
      "      name (string): Variable name (default is no name)\n",
      "      column (Column): Initial coefficients for column (default is None)\n",
      "    \n",
      "    RETURN VALUE:\n",
      "      The created Var object.\n",
      "    \n",
      "    EXAMPLE:\n",
      "      v = model.addVar(ub=2.0, name=\"NewVar\")\n",
      "\n"
     ]
    }
   ],
   "source": [
    "help(gurobipy.Model.addVar)"
   ]
  },
  {
   "cell_type": "markdown",
   "metadata": {
    "id": "186VE5dlL6ad",
    "pycharm": {
     "name": "#%% md\n"
    }
   },
   "source": [
    "* Use following cell to add decision variables x into the model.\n",
    "$x_0$ and $x_1$ represent the amount (ton/week) of sand and clay that will be extracted (notice that the index starts from 0).\n",
    "\n",
    "* Update the model after adding variables.\n"
   ]
  },
  {
   "cell_type": "code",
   "execution_count": 6,
   "metadata": {
    "id": "B0gGA8rpfGcl",
    "pycharm": {
     "name": "#%%\n"
    }
   },
   "outputs": [],
   "source": [
    "x = model.addVars(2, vtype = gurobipy.GRB.CONTINUOUS, name = 'x')  # x0, x1\n",
    "model.update() #Remember to update the model after adding decision variables"
   ]
  },
  {
   "cell_type": "markdown",
   "metadata": {
    "pycharm": {
     "name": "#%% md\n"
    }
   },
   "source": [
    "#### Add constraints\n",
    "\n",
    "You can use the following functions to add constrains to the model.\n",
    "```\n",
    "Model.addConstr()  # add a single constrain\n",
    "Model.addConstrs()  # add multiple constrin\n",
    "```\n",
    "Besides, for convenience, you can use a function gurobipy.quicksum() to calculate sums and build expressions.\n"
   ]
  },
  {
   "cell_type": "code",
   "execution_count": 7,
   "metadata": {
    "colab": {
     "base_uri": "https://localhost:8080/"
    },
    "id": "CnagJA4_fGcm",
    "outputId": "4fadc4ae-8ed6-4a85-a1ac-69141543f2f6",
    "pycharm": {
     "name": "#%%\n"
    }
   },
   "outputs": [
    {
     "name": "stdout",
     "output_type": "stream",
     "text": [
      "Help on built-in function quicksum in module gurobipy:\n",
      "\n",
      "quicksum(...)\n",
      "    ROUTINE:\n",
      "      quicksum(list)\n",
      "    \n",
      "    PURPOSE:\n",
      "      A quicker version of the Python built-in 'sum' function for building\n",
      "      Gurobi expressions.\n",
      "    \n",
      "    ARGUMENTS:\n",
      "      list: A list of terms.\n",
      "    \n",
      "    RETURN VALUE:\n",
      "      An expression that represents the sum of the input arguments.\n",
      "    \n",
      "    EXAMPLE:\n",
      "      expr = quicksum([x, y, z])\n",
      "      expr = quicksum([1.0, 2*y, 3*z*z])\n",
      "\n"
     ]
    }
   ],
   "source": [
    "help(gurobipy.quicksum)"
   ]
  },
  {
   "cell_type": "markdown",
   "metadata": {
    "pycharm": {
     "name": "#%% md\n"
    }
   },
   "source": [
    "Turn to built-in function help() to see detailed information like following."
   ]
  },
  {
   "cell_type": "code",
   "execution_count": 8,
   "metadata": {
    "pycharm": {
     "name": "#%%\n"
    }
   },
   "outputs": [
    {
     "name": "stdout",
     "output_type": "stream",
     "text": [
      "Help on cython_function_or_method in module gurobipy:\n",
      "\n",
      "addConstr(self, lhs, sense=None, rhs=None, name='')\n",
      "    ROUTINE:\n",
      "      addConstr(tc, name)\n",
      "    \n",
      "    PURPOSE:\n",
      "      Add a constraint to the model.\n",
      "    \n",
      "    ARGUMENTS:\n",
      "      tc (TempConstr): The constraint to add\n",
      "      name (string): Constraint name (default is no name)\n",
      "    \n",
      "    RETURN VALUE:\n",
      "      Depending on the data of 'tc':\n",
      "        - A Constr object if tc arose from a linear expression\n",
      "        - A QConstr object if tc arose from a quadratic expression\n",
      "        - An MConstr object if tc arose from a linear matrix expression\n",
      "        - A GenConstr object if tc arose form a general constraint expression\n",
      "    \n",
      "    EXAMPLE:\n",
      "      c = model.addConstr(x + y <= 1)\n",
      "      c = model.addConstr(x + y + z == [1, 2])\n",
      "      c = model.addConstr(x*x + y*y <= 1)\n",
      "      c = model.addConstr(z == and_(y, x, w))\n",
      "      c = model.addConstr(z == min_(x, y))\n",
      "      c = model.addConstr((w == 1) >> (x + y <= 1))\n",
      "      c = model.addConstr(A @ x <= b)\n",
      "\n"
     ]
    }
   ],
   "source": [
    "help(gurobipy.Model.addConstr)"
   ]
  },
  {
   "cell_type": "markdown",
   "metadata": {
    "pycharm": {
     "name": "#%% md\n"
    }
   },
   "source": [
    "In this step, you need to add the following constraints.\n",
    "\n",
    "\\begin{align}\n",
    "& 8 x_0  +  4 x_1  \\leq 40 \\\\\n",
    "&  4 x_0  +  5 x_1  \\leq 40 \\\\\n",
    "&  50 x_0 + 13 x_1  \\leq 200 \\\\\n",
    "\\end{align}\n",
    "\n",
    "\n",
    "Note that non-negativity constraints are not always necessary in Gurobi since by default, variables are non-negative in Gurobi."
   ]
  },
  {
   "cell_type": "code",
   "execution_count": 9,
   "metadata": {
    "colab": {
     "base_uri": "https://localhost:8080/"
    },
    "id": "62r7rej3fGcn",
    "outputId": "cdb43355-3163-4168-ea2f-7fafd93c49e0",
    "pycharm": {
     "name": "#%%\n"
    }
   },
   "outputs": [],
   "source": [
    "model.addConstr(gurobipy.quicksum(manpower[material[i]] * x[i] for i in range(2)) <= work_hour['men'], name = 'manpower limit')\n",
    "model.addConstr(gurobipy.quicksum(backhoe_work[material[i]] * x[i] for i in range(2)) <= work_hour['backhoe'], name = 'backhoe limit')\n",
    "model.addConstr(gurobipy.quicksum(truck_trans[material[i]] * x[i] for i in range(2)) <= work_hour['truck'], name = 'truck limit')\n",
    "model.update()"
   ]
  },
  {
   "cell_type": "markdown",
   "metadata": {
    "id": "ERV_WHHpfGcn",
    "pycharm": {
     "name": "#%% md\n"
    }
   },
   "source": [
    "#### Set objective function  \n",
    "\n",
    "* You can use the following command to set the objective\n",
    "\n",
    "```\n",
    "Model.setObjective()\n",
    "```\n",
    "\n",
    "* Use built-in function help() to see detailed information"
   ]
  },
  {
   "cell_type": "code",
   "execution_count": 10,
   "metadata": {
    "colab": {
     "base_uri": "https://localhost:8080/"
    },
    "id": "IfyLaN4QMr0W",
    "outputId": "29a60737-a684-441e-d861-a66b5499d319",
    "pycharm": {
     "name": "#%%\n"
    }
   },
   "outputs": [
    {
     "name": "stdout",
     "output_type": "stream",
     "text": [
      "Help on cython_function_or_method in module gurobipy:\n",
      "\n",
      "setObjective(self, expr, sense=None)\n",
      "    ROUTINE:\n",
      "      setObjective(expr, sense=None)\n",
      "    \n",
      "    PURPOSE:\n",
      "      Set the model objective equal to a LinExpr or QuadExpr\n",
      "    \n",
      "    ARGUMENTS:\n",
      "      expr: The desired objective function.  The objective can be\n",
      "            a linear expression (LinExpr) or a quadratic expression (QuadExpr).\n",
      "            This routine will replace the 'Obj' attribute on model variables\n",
      "            with the corresponding values from the supplied expression.\n",
      "      sense (optional): Objective sense.  By default, this method uses the\n",
      "            modelSense model attribute to determine the sense.  Use\n",
      "            GRB.MINIMIZE or GRB.MAXIMIZE to ignore modelSense and pick a\n",
      "            specific sense.\n",
      "    \n",
      "    RETURN VALUE:\n",
      "      None.\n",
      "    \n",
      "    EXAMPLE:\n",
      "      model.setObjective(x + y)\n",
      "      model.setObjective(x + y + 2*z, GRB.MAXIMIZE)\n",
      "\n"
     ]
    }
   ],
   "source": [
    "help(gurobipy.Model.setObjective)"
   ]
  },
  {
   "cell_type": "markdown",
   "metadata": {
    "pycharm": {
     "name": "#%% md\n"
    }
   },
   "source": [
    "This step is to set the objective function shown in the following:\n",
    "\n",
    "> $ Max \\quad  L = 57 x_0 + 60 x_1 $\n",
    "\n"
   ]
  },
  {
   "cell_type": "code",
   "execution_count": 11,
   "metadata": {
    "id": "FMvXZBcLfGcn",
    "pycharm": {
     "name": "#%%\n"
    }
   },
   "outputs": [],
   "source": [
    "model.setObjective(gurobipy.quicksum(profit[material[i]] * x[i] for i in range(2)), gurobipy.GRB.MAXIMIZE)"
   ]
  },
  {
   "cell_type": "markdown",
   "metadata": {
    "id": "heildNBNfGco",
    "pycharm": {
     "name": "#%% md\n"
    }
   },
   "source": [
    "#### Solve\n",
    "Use following code to solve the model, and you can also show the optimization process log and limit the calculation time.\n",
    "\n",
    "You can also print the objective function value and optimal decision variables values.\n",
    "\n",
    "You can choose the algorithm used, or let Gurobi decide which algorithm is the best. See the following links for detailed information:\n",
    "\n",
    "<https://www.gurobi.com/documentation/9.5/refman/method.html>"
   ]
  },
  {
   "cell_type": "code",
   "execution_count": 12,
   "metadata": {
    "colab": {
     "base_uri": "https://localhost:8080/"
    },
    "id": "y-exT_80fGco",
    "outputId": "ed20d177-04cf-4c5f-a2b5-718f7e4a3ae7",
    "pycharm": {
     "name": "#%%\n"
    }
   },
   "outputs": [
    {
     "name": "stdout",
     "output_type": "stream",
     "text": [
      "Set parameter TimeLimit to value 100\n",
      "Set parameter MultiObjMethod to value 0\n",
      "Gurobi Optimizer version 9.5.1 build v9.5.1rc2 (win64)\n",
      "Thread count: 4 physical cores, 8 logical processors, using up to 8 threads\n",
      "Optimize a model with 3 rows, 2 columns and 6 nonzeros\n",
      "Model fingerprint: 0xd942f567\n",
      "Coefficient statistics:\n",
      "  Matrix range     [4e+00, 5e+01]\n",
      "  Objective range  [6e+01, 6e+01]\n",
      "  Bounds range     [0e+00, 0e+00]\n",
      "  RHS range        [4e+01, 2e+02]\n",
      "Presolve time: 0.01s\n",
      "Presolved: 3 rows, 2 columns, 6 nonzeros\n",
      "\n",
      "Iteration    Objective       Primal Inf.    Dual Inf.      Time\n",
      "       0    1.4625000e+31   3.609375e+30   1.462500e+01      0s\n",
      "       2    4.9500000e+02   0.000000e+00   0.000000e+00      0s\n",
      "\n",
      "Solved in 2 iterations and 0.01 seconds (0.00 work units)\n",
      "Optimal objective  4.950000000e+02\n"
     ]
    }
   ],
   "source": [
    "model.Params.LogToConsole = True  # show the optimization process log\n",
    "model.Params.TimeLimit = 100  # limit the calculation time to 100s\n",
    "model.Params.MultiObjMethod = 0  # default is -1 (let Gurobi decide)\n",
    "model.optimize()"
   ]
  },
  {
   "cell_type": "code",
   "execution_count": 13,
   "metadata": {
    "colab": {
     "base_uri": "https://localhost:8080/"
    },
    "id": "PPxnfSlIfGco",
    "outputId": "c9a2b006-9ae6-4bc9-f879-1e0c4662ce1d",
    "pycharm": {
     "name": "#%%\n"
    }
   },
   "outputs": [
    {
     "name": "stdout",
     "output_type": "stream",
     "text": [
      "Optimal Objective function Value 495.0\n"
     ]
    }
   ],
   "source": [
    "print(\"Optimal Objective function Value\", model.objVal)"
   ]
  },
  {
   "cell_type": "code",
   "execution_count": 14,
   "metadata": {
    "colab": {
     "base_uri": "https://localhost:8080/"
    },
    "id": "-_XOnINzfGcp",
    "outputId": "1697f2bd-742d-41fa-b287-97dc8b79327c",
    "pycharm": {
     "name": "#%%\n"
    }
   },
   "outputs": [
    {
     "name": "stdout",
     "output_type": "stream",
     "text": [
      "x[0]: 1.667\n",
      "x[1]: 6.667\n"
     ]
    }
   ],
   "source": [
    "for var in model.getVars():\n",
    "    print(f\"{var.varName}: {round(var.X, 3)}\")  # print the optimal decision variable values."
   ]
  },
  {
   "cell_type": "code",
   "execution_count": 15,
   "metadata": {
    "colab": {
     "base_uri": "https://localhost:8080/"
    },
    "id": "vF27LC8tVMXa",
    "outputId": "467f7a20-a91e-437a-d177-67c005191938",
    "pycharm": {
     "name": "#%%\n"
    }
   },
   "outputs": [
    {
     "name": "stdout",
     "output_type": "stream",
     "text": [
      "Maximize\n",
      "  <gurobi.LinExpr: 57.0 x[0] + 60.0 x[1]>\n",
      "Subject To\n",
      "  manpower limit: <gurobi.LinExpr: 50.0 x[0] + 13.0 x[1]> <= 200\n",
      "  backhoe limit: <gurobi.LinExpr: 4.0 x[0] + 5.0 x[1]> <= 40\n",
      "  truck limit: <gurobi.LinExpr: 8.0 x[0] + 4.0 x[1]> <= 40\n"
     ]
    }
   ],
   "source": [
    "# see the model\n",
    "model.display()"
   ]
  },
  {
   "cell_type": "markdown",
   "metadata": {},
   "source": [
    "## Exercise: The sand and clay extraction problem\n",
    "Now that you have seen how to model and solve a simple problem in gurobi, let's try to make some changes in the problem. Imagine in the meantime the company has purchased another truck and has hired an extra (full time) worker to increase its profit. So you have to model and solve a very similar problem with minor changes to reflect the new employee and the new truck.\n",
    "\n",
    "You need to make changes when defining attributes.\n",
    "\n",
    "Solution..."
   ]
  }
 ],
 "metadata": {
  "colab": {
   "collapsed_sections": [],
   "name": "Sand and clay problem.ipynb",
   "provenance": []
  },
  "kernelspec": {
   "display_name": "Python 3 (ipykernel)",
   "language": "python",
   "name": "python3"
  },
  "language_info": {
   "codemirror_mode": {
    "name": "ipython",
    "version": 3
   },
   "file_extension": ".py",
   "mimetype": "text/x-python",
   "name": "python",
   "nbconvert_exporter": "python",
   "pygments_lexer": "ipython3",
   "version": "3.9.7"
  }
 },
 "nbformat": 4,
 "nbformat_minor": 4
}
