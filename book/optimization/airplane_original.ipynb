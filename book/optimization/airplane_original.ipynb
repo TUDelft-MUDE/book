{
 "cells": [
  {
   "cell_type": "markdown",
   "metadata": {
    "pycharm": {
     "name": "#%% md\n"
    }
   },
   "source": [
    "# Implementation in Python original problem"
   ]
  },
  {
   "cell_type": "markdown",
   "metadata": {},
   "source": [
    "Gurobi cannot be loaded in this online book, so download this notebook to work on it with Gurobi locally installed."
   ]
  },
  {
   "cell_type": "code",
   "execution_count": 13,
   "metadata": {
    "pycharm": {
     "name": "#%%\n"
    },
    "tags": [
     "disable-execution-page"
    ]
   },
   "outputs": [],
   "source": [
    "import gurobipy as gp\n",
    "import numpy as np\n",
    "import pandas as pd\n",
    "\n",
    "model = gp.Model()"
   ]
  },
  {
   "cell_type": "code",
   "execution_count": 14,
   "metadata": {
    "id": "KtFPdVJWzMPQ",
    "pycharm": {
     "name": "#%%\n"
    }
   },
   "outputs": [],
   "source": [
    "# cargo limits\n",
    "cargo_type, cargo_weight, cargo_volume, cargo_profit = gp.multidict({\n",
    "    'Type1': [18, 180, 590],\n",
    "    'Type2': [14, 250, 580],\n",
    "    'Type3': [20, 300, 580],\n",
    "    'Type4': [12, 80,  600]\n",
    "})\n",
    "\n",
    "# compartment limits\n",
    "compartment_type, compartment_weight, compartment_volume = gp. multidict({\n",
    "    'Front': [8,  12000],\n",
    "    'Center':[12, 10000],\n",
    "    'Rear':  [14, 6000]\n",
    "})"
   ]
  },
  {
   "cell_type": "code",
   "execution_count": 15,
   "metadata": {
    "id": "vGhky0pp0LIW",
    "pycharm": {
     "name": "#%%\n"
    }
   },
   "outputs": [],
   "source": [
    "## decision variables\n",
    "x = model.addVars(len(cargo_type),len(compartment_type), vtype = gp.GRB.CONTINUOUS, name = 'x')\n",
    "model.update()"
   ]
  },
  {
   "cell_type": "code",
   "execution_count": 16,
   "metadata": {
    "id": "pF3X3ryc59X6",
    "pycharm": {
     "name": "#%%\n"
    }
   },
   "outputs": [],
   "source": [
    "# set objectives\n",
    "objective = gp.quicksum(cargo_profit[cargo_type[i]] * x[i, j]\n",
    "                               for j in range(len(compartment_type))\n",
    "                               for i in range(len(cargo_type)))\n",
    "\n",
    "model.setObjective(objective, gp.GRB.MAXIMIZE)"
   ]
  },
  {
   "cell_type": "code",
   "execution_count": null,
   "metadata": {
    "pycharm": {
     "name": "#%%\n"
    }
   },
   "outputs": [],
   "source": [
    "## constraints\n",
    "# 1. cargo type weight limits\n",
    "model.addConstrs((gp.quicksum(x[i, j] for j in range(len(compartment_type))) <= cargo_weight[cargo_type[i]]\n",
    "                  for i in range(len(cargo_type))), name ='Max available cargo to carry')"
   ]
  },
  {
   "cell_type": "code",
   "execution_count": null,
   "metadata": {
    "pycharm": {
     "name": "#%%\n"
    }
   },
   "outputs": [],
   "source": [
    "# 2. compartment weight limits\n",
    "model.addConstrs((gp.quicksum(x[i, j] for i in range(len(cargo_type))) <= compartment_weight[compartment_type[j]]\n",
    "                  for j in range(len(compartment_type))), name ='Weight limits on the compartments')"
   ]
  },
  {
   "cell_type": "code",
   "execution_count": null,
   "metadata": {
    "pycharm": {
     "name": "#%%\n"
    }
   },
   "outputs": [],
   "source": [
    "# 3. compartment volume limitations\n",
    "model.addConstrs((gp.quicksum(x[i, j]*cargo_volume[cargo_type[i]] for i in range(len(cargo_type))) <= compartment_volume[compartment_type[j]]\n",
    "                  for j in range(len(compartment_type))), name ='Volume limits on the compartments')"
   ]
  },
  {
   "cell_type": "code",
   "execution_count": 20,
   "metadata": {
    "pycharm": {
     "name": "#%%\n"
    }
   },
   "outputs": [
    {
     "name": "stdout",
     "output_type": "stream",
     "text": [
      "Maximize\n",
      "590.0 x[0,0] + 590.0 x[0,1] + 590.0 x[0,2] + 580.0 x[1,0] + 580.0 x[1,1]\n",
      "+ 580.0 x[1,2] + 580.0 x[2,0] + 580.0 x[2,1] + 580.0 x[2,2] + 600.0 x[3,0]\n",
      "+ 600.0 x[3,1] + 600.0 x[3,2]\n",
      "Subject To\n",
      "  Max available cargo to carry[0]: x[0,0] + x[0,1] + x[0,2] <= 18\n",
      "  Max available cargo to carry[1]: x[1,0] + x[1,1] + x[1,2] <= 14\n",
      "  Max available cargo to carry[2]: x[2,0] + x[2,1] + x[2,2] <= 20\n",
      "  Max available cargo to carry[3]: x[3,0] + x[3,1] + x[3,2] <= 12\n",
      "  Weight limits on the compartments[0]: x[0,0] + x[1,0] + x[2,0] + x[3,0] <= 8\n",
      "  Weight limits on the compartments[1]: x[0,1] + x[1,1] + x[2,1] + x[3,1] <= 12\n",
      "  Weight limits on the compartments[2]: x[0,2] + x[1,2] + x[2,2] + x[3,2] <= 14\n",
      "Volume limits on the compartments[0]: 180.0 x[0,0] + 250.0 x[1,0] + 300.0 x[2,0] + 80.0\n",
      " x[3,0] <= 12000\n",
      "Volume limits on the compartments[1]: 180.0 x[0,1] + 250.0 x[1,1] + 300.0 x[2,1] + 80.0\n",
      " x[3,1] <= 10000\n",
      "Volume limits on the compartments[2]: 180.0 x[0,2] + 250.0 x[1,2] + 300.0 x[2,2] + 80.0\n",
      " x[3,2] <= 6000\n"
     ]
    },
    {
     "name": "stderr",
     "output_type": "stream",
     "text": [
      "C:\\Users\\tomvanwoudenbe\\AppData\\Local\\Temp\\ipykernel_7320\\1502344741.py:3: DeprecationWarning: Model.display() is deprecated\n",
      "  model.display()\n"
     ]
    }
   ],
   "source": [
    "# Complete model\n",
    "model.update()\n",
    "model.display()"
   ]
  },
  {
   "cell_type": "code",
   "execution_count": null,
   "metadata": {
    "colab": {
     "base_uri": "https://localhost:8080/"
    },
    "id": "D5wafjv76D-b",
    "outputId": "c02d63d9-86c5-4c76-964e-767f5bb2ecd7",
    "pycharm": {
     "name": "#%%\n"
    }
   },
   "outputs": [],
   "source": [
    "# Solve\n",
    "model.optimize()"
   ]
  }
 ],
 "metadata": {
  "colab": {
   "collapsed_sections": [],
   "name": "Airplane problem",
   "provenance": []
  },
  "kernelspec": {
   "display_name": "Python 3 (ipykernel)",
   "language": "python",
   "name": "python3"
  },
  "language_info": {
   "codemirror_mode": {
    "name": "ipython",
    "version": 3
   },
   "file_extension": ".py",
   "mimetype": "text/x-python",
   "name": "python",
   "nbconvert_exporter": "python",
   "pygments_lexer": "ipython3",
   "version": "3.9.18"
  }
 },
 "nbformat": 4,
 "nbformat_minor": 1
}
