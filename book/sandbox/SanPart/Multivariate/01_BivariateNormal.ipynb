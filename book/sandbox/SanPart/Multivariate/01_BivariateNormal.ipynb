{
 "cells": [
  {
   "cell_type": "markdown",
   "metadata": {},
   "source": [
    "## Tool to play with bivariate normal PDF\n",
    "\n",
    "In this small demo you can create plots of the bivariate normal PDF, including a scatter plot of generated realizations, where you can play with the values of the means, standard deviations and correlation coefficient."
   ]
  },
  {
   "cell_type": "code",
   "execution_count": null,
   "metadata": {
    "tags": [
     "thebe-remove-input-init"
    ]
   },
   "outputs": [],
   "source": [
    "%pip install ipywidgets"
   ]
  },
  {
   "cell_type": "code",
   "execution_count": 1,
   "metadata": {
    "tags": [
     "thebe-remove-input-init"
    ]
   },
   "outputs": [],
   "source": [
    "# this will print all float arrays with 3 decimal places\n",
    "import numpy as np\n",
    "float_formatter = \"{:.2f}\".format\n",
    "np.set_printoptions(formatter={'float_kind':float_formatter})\n",
    "\n",
    "import matplotlib.pyplot as plt\n",
    "from mpl_toolkits.mplot3d import Axes3D \n",
    "from matplotlib import cm\n",
    "\n",
    "plt.rcParams.update({'font.size': 12})\n",
    "\n",
    "import ipywidgets as widgets\n",
    "from ipywidgets import interact\n",
    "from IPython.display import display\n",
    "import operator"
   ]
  },
  {
   "cell_type": "code",
   "execution_count": null,
   "metadata": {
    "tags": [
     "thebe-remove-input-init"
    ]
   },
   "outputs": [],
   "source": [
    "def plot_bivariatenormal(mu_1,mu_2,std_1,std_2,rho):\n",
    "    \"\"\"Plot the bivariate normal PDF and scatter plot with simulated samples\"\"\"\n",
    "    # Calculating the covariance matrix\n",
    "    # Calculation of the covariance\n",
    "    cov   = rho*std_1*std_2\n",
    "    # covariance matrix:\n",
    "    Qxx   = np.array([[std_1**2, cov],[cov, std_2**2]])\n",
    "    # x-values for PDF\n",
    "    maxx  = max(std_1,std_2)\n",
    "    x1 = np.arange(round(-3*maxx+mu_1),round(3*maxx+mu_1)+std_1/6-0.001,std_1/6) \n",
    "    x2 = np.arange(round(-3*maxx+mu_2),round(3*maxx+mu_2)+std_2/6,std_2/6)\n",
    "    # calculate pdf\n",
    "    fac = 1/np.sqrt(np.linalg.det(2*np.pi*Qxx))\n",
    "    pdf = np.zeros((np.size(x2),np.size(x1)))\n",
    "\n",
    "    for i in range(0,np.size(x1)):\n",
    "        for j in range(0,np.size(x2)):       \n",
    "            pdf[j,i] = fac * np.exp(-0.5 * np.array([(x1[i]-mu_1), (x2[j]-mu_2)]) @  \n",
    "                                np.linalg.inv(Qxx) @ np.array([(x1[i]-mu_1) ,(x2[j]-mu_2)]))        \n",
    "\n",
    "    # multiple realisations of this distribution\n",
    "    x = np.random.multivariate_normal([mu_1, mu_2],Qxx,2000)\n",
    "\n",
    "    #Plotting of the bivariate normal Probability Density Function \n",
    "\n",
    "    #3d plot\n",
    "    fig = plt.figure(figsize = (16, 6))\n",
    "    ax = fig.add_subplot(131,projection=\"3d\")\n",
    "    x1m, x2m = np.meshgrid(x1,x2)\n",
    "    ax.plot_surface(x1m,x2m,pdf,cmap=cm.coolwarm)\n",
    "    ax.set_xlabel('x1')\n",
    "    ax.set_ylabel('x2')\n",
    "    ax.set_zlabel('density')\n",
    "    ax.set_title('surface plot')\n",
    "    ax.set_xlim(round(-3*maxx+mu_1),round(3*maxx+mu_1))\n",
    "    ax.set_ylim(round(-3*maxx+mu_2),round(3*maxx+mu_2))\n",
    "\n",
    "    #contourplot\n",
    "    ax1 = fig.add_subplot(132)\n",
    "    contour = ax1.contourf(x1,x2,pdf,cmap=cm.coolwarm)\n",
    "    ax1.set_xlabel('x1')\n",
    "    ax1.set_ylabel('x2')\n",
    "    ax1.set_xlim(round(-3*maxx+mu_1),round(3*maxx+mu_1))\n",
    "    ax1.set_ylim(round(-3*maxx+mu_2),round(3*maxx+mu_2))\n",
    "    ax1.set_title('contour plot (top view)')\n",
    "    fig.colorbar(contour)\n",
    "\n",
    "    #scatterplot\n",
    "    ax2 = fig.add_subplot(133)\n",
    "    ax2.scatter(x[:,0],x[:,1],s=5)\n",
    "    ax2.plot([mu_1, mu_1],[-4*maxx+mu_2, 4*maxx+mu_2],'k')\n",
    "    ax2.plot([-4*maxx+mu_1, 4*maxx+mu_1],[mu_2, mu_2],'k')\n",
    "    ax2.set_xlabel('x1')\n",
    "    ax2.set_ylabel('x2')\n",
    "    ax2.set_xlim(round(-3*maxx+mu_1),round(3*maxx+mu_1))\n",
    "    ax2.set_ylim(round(-3*maxx+mu_2),round(3*maxx+mu_2))\n",
    "    ax2.set_title('scatter plot');"
   ]
  },
  {
   "cell_type": "markdown",
   "metadata": {},
   "source": [
    "Run the cell below to generate the plots. You will see two sliders, which allow you to change the valuees of `std_2` (i.e., standard deviation of the $X_2$) and the correlation coefficient `rho`. \n",
    "\n",
    "Of course you may also change the mean values and the standard deviation of $X_1$ in the cell below."
   ]
  },
  {
   "cell_type": "code",
   "execution_count": 4,
   "metadata": {},
   "outputs": [],
   "source": [
    "mu_1 = 0\n",
    "mu_2 = 10\n",
    "std_1 = 1\n",
    "\n",
    "@interact(std_2=(1, 3, 0.1),rho=(-0.99, 0.99, 0.01))\n",
    "def samples_slideplot(std_2,rho):\n",
    "    plot_bivariatenormal(mu_1,mu_2,std_1,std_2,rho);"
   ]
  }
 ],
 "metadata": {
  "kernelspec": {
   "display_name": "py311",
   "language": "python",
   "name": "python3"
  },
  "language_info": {
   "codemirror_mode": {
    "name": "ipython",
    "version": 3
   },
   "file_extension": ".py",
   "mimetype": "text/x-python",
   "name": "python",
   "nbconvert_exporter": "python",
   "pygments_lexer": "ipython3",
   "version": "3.11.3"
  },
  "orig_nbformat": 4
 },
 "nbformat": 4,
 "nbformat_minor": 2
}
