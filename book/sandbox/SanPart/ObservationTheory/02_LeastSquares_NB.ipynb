{
 "cells": [
  {
   "cell_type": "markdown",
   "metadata": {},
   "source": [
    "## Least-squares: fitting different models\n",
    "\n",
    "In this interactive notebook you will fit several models to a time series of height observations of a point on a glacier, to assess whether it is melting. \n",
    "\n",
    "Click {fa}`rocket` --> {guilabel}`Live Code` on the top right corner of this screen and then wait until all cells are executed.\n",
    "\n",
    "**Learning objectives:**\n",
    "- set-up an observation model\n",
    "- apply least-squares estimation\n",
    "- assess the estimation results considering redundancy, squared norm of residuals, under- and overfitting"
   ]
  },
  {
   "cell_type": "markdown",
   "metadata": {},
   "source": [
    "You have 12 monthly measurements of the height of a point on a glacier. The measurements are obtained from a satellite laser altimeter.\n",
    "\n",
    "- Time [months]: ```t``` $=[0, 1, 2, \\ldots, 11]$\n",
    "- Observed heights [meters]: ```y``` $=[102.4, 98.2, 97.5, 97.9, 99.7, 100.7, 98.3, 94.2, 90.9, 86.1, 81.2, 76.9]$\n",
    "\n",
    "```t``` and ```y``` are already defined, so you can directly use these variables in your code.\n",
    "\n",
    "We will consider three different models, with the following observation equations:\n",
    "\n",
    "- Model 1: constant velocity, $\\mathbb{E}\\left( Y_i \\right) = x_0 + x_1 t_i$\n",
    "- Model 2: eight order polynomial, $\\mathbb{E}\\left( Y_i \\right) =x_0 + x_1 t_i + x_2 t_i^2 +\\ldots+ x_8 t_i^8 = \\sum_{p=0}^8 x_p t_i^p $\n",
    "- Model 3: constant velocity + annual signal, $\\mathbb{E}\\left( Y_i \\right) = x_0 + x_1 t_i + x_2 \\cos \\Big(\\frac{2 \\pi t_i}{12} \\Big)$"
   ]
  },
  {
   "cell_type": "code",
   "execution_count": null,
   "metadata": {
    "tags": [
     "thebe-remove-input-init"
    ]
   },
   "outputs": [],
   "source": [
    "%pip install ipywidgets"
   ]
  },
  {
   "cell_type": "code",
   "execution_count": null,
   "metadata": {
    "tags": [
     "thebe-remove-input-init"
    ]
   },
   "outputs": [],
   "source": [
    "import numpy as np\n",
    "import matplotlib.pyplot as plt\n",
    "import operator\n",
    "\n",
    "import ipywidgets as widgets\n",
    "from IPython.display import display\n",
    "\n",
    "%matplotlib inline\n",
    "\n",
    "def check_answer(variable_name, expected, comparison = operator.eq):\n",
    "    output = widgets.Output()\n",
    "    button = widgets.Button(description=\"Check answer\")\n",
    "    def _inner_check(button):\n",
    "        with output:\n",
    "            if comparison(globals()[variable_name], expected):\n",
    "                output.outputs = [{'name': 'stdout', 'text': 'Correct!', 'output_type': 'stream'}]\n",
    "            else:\n",
    "                output.outputs = [{'name': 'stdout', 'text': 'Incorrect!', 'output_type': 'stream'}]\n",
    "    button.on_click(_inner_check)\n",
    "    display(button, output)"
   ]
  },
  {
   "cell_type": "code",
   "execution_count": null,
   "metadata": {
    "tags": [
     "thebe-remove-input-init"
    ]
   },
   "outputs": [],
   "source": [
    "# times of observation [months]\n",
    "t = np.arange(12)\n",
    "\n",
    "# observed heights [m]\n",
    "y = [102.4, 98.2, 97.5, 97.9, 99.7, 100.7, 98.3, 94.2, 90.9, 86.1, 81.2, 76.9]"
   ]
  },
  {
   "cell_type": "markdown",
   "metadata": {},
   "source": [
    ":::{card} Exercise 1\n",
    "\n",
    "With ```column_stack``` you can combine arrays (column vectors) to create a matrix. The design matrices for the first two models are already given. Add the matrix for the third model yourself, and check your answer below.\n",
    ":::"
   ]
  },
  {
   "cell_type": "code",
   "execution_count": null,
   "metadata": {},
   "outputs": [],
   "source": [
    "m = len(t)\n",
    "\n",
    "A_1 = np.column_stack((np.ones(m), t))\n",
    "A_2 = np.column_stack((A_1, t**2, t**3, t**4, t**5, t**6, t**7, t**8))\n",
    "A_3 = ?"
   ]
  },
  {
   "cell_type": "code",
   "execution_count": null,
   "metadata": {
    "tags": [
     "thebe-remove-input-init"
    ]
   },
   "outputs": [],
   "source": [
    "A_ans = np.column_stack((np.ones(m), t, np.cos(2*np.pi*t/12)))\n",
    "check_answer(\"A_3\",A_ans, np.array_equiv)"
   ]
  },
  {
   "cell_type": "markdown",
   "metadata": {},
   "source": [
    ":::{card}  Exercise 2\n",
    "\n",
    "You can use the NumPy function ```np.linalg.inv``` to compute the inverse of a matrix. Recall that for a matrix product $\\mathrm{A}\\cdot \\mathrm{B} $ you can use ```A @ B```. Complete the function below. The transpose $\\mathrm{A}^T$ is obtained with ```A.T```.\n",
    "\n",
    "First complete the function ```lsqe```, and check whether it is correct below.\n",
    ":::"
   ]
  },
  {
   "cell_type": "code",
   "execution_count": null,
   "metadata": {},
   "outputs": [],
   "source": [
    "def lsqe(y,A):\n",
    "    '''Apply least-squares estimation\n",
    "    Input:\n",
    "    y : vector with observations\n",
    "    A : design matrix \n",
    "    '''\n",
    "    # estimated parameters\n",
    "    xhat = ?\n",
    "    # adjusted observations\n",
    "    yhat = A @ xhat\n",
    "    # residuals\n",
    "    ehat = ?\n",
    "    # squared norm of residuals\n",
    "    eTe = ehat.T @ ehat\n",
    "    \n",
    "    return xhat, yhat, ehat, eTe\n",
    "\n",
    "xhat_1,yhat_1,ehat_1,eTe_1 = lsqe(y,A_1)\n",
    "xhat_2,yhat_2,ehat_2,eTe_2 = lsqe(y,A_2)\n",
    "xhat_3,yhat_3,ehat_3,eTe_3 = lsqe(y,A_3)\n",
    "\n",
    "print(f'Redundancy of linear trend model: {m - np.shape(A_1)[1]}')\n",
    "print(f'Redundancy of 8th order polynomial model: {m - np.shape(A_2)[1]}')\n",
    "print(f'Redundancy of linear trend + annual signal model: {m - np.shape(A_3)[1]}')"
   ]
  },
  {
   "cell_type": "markdown",
   "metadata": {},
   "source": [
    "**Check whether ```xhat_1``` is correct (if not, you need to correct your ```lsqe``` function).**"
   ]
  },
  {
   "cell_type": "code",
   "execution_count": null,
   "metadata": {
    "tags": [
     "thebe-remove-input-init"
    ]
   },
   "outputs": [],
   "source": [
    "xhat_ans = np.linalg.inv(A_1.T @ A_1) @ A_1.T @ y\n",
    "check_answer(\"xhat_1\",xhat_ans, np.array_equiv)"
   ]
  },
  {
   "cell_type": "markdown",
   "metadata": {},
   "source": [
    "**Check whether ```eTe_1``` is correct (if not, you need to correct your ```lsqe``` function).**"
   ]
  },
  {
   "cell_type": "code",
   "execution_count": null,
   "metadata": {
    "tags": [
     "thebe-remove-input-init"
    ]
   },
   "outputs": [],
   "source": [
    "eTe_ans = (y - A_1 @ xhat_ans).T @ (y - A_1 @ xhat_ans)\n",
    "check_answer(\"eTe_1\",eTe_ans, np.array_equiv)"
   ]
  },
  {
   "cell_type": "markdown",
   "metadata": {},
   "source": [
    " ```{admonition} Solution\n",
    ":class: tip, dropdown\n",
    "In case your code did not work, here's the correct solution:\n",
    "\n",
    "<code>xhat = np.linalg.inv(A.T @ A) @ A.T @ y</code>\n",
    "\n",
    "<code>ehat = y-yhat</code>\n",
    "```"
   ]
  },
  {
   "cell_type": "markdown",
   "metadata": {},
   "source": [
    "**Now we obtain a plot with the observations and the three fitted models in one figure, and the residuals for each model in another figure.**"
   ]
  },
  {
   "cell_type": "code",
   "execution_count": null,
   "metadata": {
    "tags": [
     "thebe-remove-input-init"
    ]
   },
   "outputs": [],
   "source": [
    "print(f'Squared norm of residuals model 1: {eTe_1:.3f}')\n",
    "print(f'Squared norm of residuals model 2: {eTe_2:.3f}')\n",
    "print(f'Squared norm of residuals model 3: {eTe_3:.3f}')\n",
    "\n",
    "fig, ax = plt.subplots(1, 2, figsize = (16, 6))\n",
    "# left side plot : observations and fitted models\n",
    "ax[0].plot(t, y, 'kx', label='observations')\n",
    "ax[0].plot(t, yhat_1, color='r', label='model 1')\n",
    "ax[0].plot(t, yhat_2, color='c', label='model 2')\n",
    "ax[0].plot(t, yhat_3, color='b', label='model 3')\n",
    "ax[0].set_ylabel('height [meters]')\n",
    "ax[0].set_xlabel('time [months]')\n",
    "ax[0].set_title('Observations and fitted models')\n",
    "ax[0].set_xlim(-0.2, (m-1)+0.2)\n",
    "ax[0].legend()\n",
    "# right side plot : residuals\n",
    "ax[1].plot(t, ehat_1, '+r', label='model 1')\n",
    "ax[1].plot(t, ehat_2, '+c', label='model 2')\n",
    "ax[1].plot(t, ehat_3, '+b', label='model 3')\n",
    "ax[1].set_ylabel('height [meters]')\n",
    "ax[1].set_xlabel('time [months]')\n",
    "ax[1].set_title('Residuals')\n",
    "ax[1].set_xlim(-0.2, 11.2)\n",
    "ax[1].legend()\n",
    "plt.show()"
   ]
  }
 ],
 "metadata": {
  "kernelspec": {
   "display_name": "py311",
   "language": "python",
   "name": "python3"
  },
  "language_info": {
   "codemirror_mode": {
    "name": "ipython",
    "version": 3
   },
   "file_extension": ".py",
   "mimetype": "text/x-python",
   "name": "python",
   "nbconvert_exporter": "python",
   "pygments_lexer": "ipython3",
   "version": "3.11.3"
  },
  "orig_nbformat": 4
 },
 "nbformat": 4,
 "nbformat_minor": 2
}
