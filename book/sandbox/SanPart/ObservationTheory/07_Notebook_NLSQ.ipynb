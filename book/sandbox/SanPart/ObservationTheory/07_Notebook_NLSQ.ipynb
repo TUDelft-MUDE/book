{
 "cells": [
  {
   "cell_type": "code",
   "execution_count": null,
   "id": "golden-artist",
   "metadata": {
    "tags": [
     "thebe-remove-input-init"
    ]
   },
   "outputs": [],
   "source": [
    "import numpy as np\n",
    "import matplotlib.pyplot as plt\n",
    "%matplotlib inline"
   ]
  },
  {
   "cell_type": "markdown",
   "id": "level-municipality",
   "metadata": {},
   "source": [
    "\n",
    "## Notebook Gauss-Newton iteration for a point on a circle\n",
    "\n",
    "In this exercise we will consider the following problem:\n",
    "\n",
    "we have a point on a circle with known radius $r=2$ meters. We are interested in the unknown angle $x=\\alpha$. We do have an observation of both the $u$- and $v$-coordinate. Our observations are $u=1.4957$ and $v=1.5048$ m.\n",
    "\n",
    "```{figure} ./figures/07_circle.png\n",
    "---\n",
    "height: 250px\n",
    "```\n",
    "    \n",
    "By completing the code below you will perform the Gauss-Newton iteration to obtain an estimate for the angle. Note that we express the angle in radians.\n",
    "\n",
    "Our functional model is given by:\n",
    "\n",
    "$$\n",
    "\\mathbb{E}(Y)=\\begin{bmatrix}2\\cos x\\\\ 2 \\sin x\\end{bmatrix}\n",
    "$$\n",
    "\n",
    "We assume that both observables have a precision of 5 mm.\n",
    "\n",
    "You are asked to derive what the Jacobian matrix is and complete the code to compute:\n",
    "    \n",
    "<code>y_comp</code> $=q(x_{[i]})$ \n",
    "    \n",
    "<code>dy</code> $=\\Delta y_{[i]}$ \n",
    "    \n",
    "<code>J</code>$=J_{[i]}$ \n",
    "    \n",
    "In this case we will not use a stop criterion for the iteration, but simply stop after 10 iterations."
   ]
  },
  {
   "cell_type": "code",
   "execution_count": null,
   "id": "dc366d1c",
   "metadata": {},
   "outputs": [],
   "source": [
    "# the observed coordinates \n",
    "y = np.array([1.4957, 1.5048]) \n",
    "\n",
    "# inverse of covariance matrix of Y\n",
    "var_Y = 5e-3**2\n",
    "inv_Sigma_Y = 1/var_Y * np.eye(2)\n",
    "\n",
    "# initial guess for the angle, try different values\n",
    "x_init = 2\n",
    "\n",
    "# here we create a loop with N iterations (so we don't use a stop criterion)\n",
    "N = 10\n",
    "dx_i = np.zeros(N) # initialize the dx_i vector\n",
    "x_i = np.zeros(N+1) # initialize the x_i vector\n",
    "x_i[0] = x_init # set x_i[0] equal to initial value\n",
    "\n",
    "for i in np.arange(N):\n",
    "    # computed values (forward model)\n",
    "    y_comp = np.array([ ? , ? ]) \n",
    "    # calculate the observed-minus-computed values dy\n",
    "    dy = ?\n",
    "    # compute the Jacobian matrix\n",
    "    J = np.array([ ? , ? ]) \n",
    "    # estimate dx_i with BLUE\n",
    "    # note : we use 1/() to compute the inverse, only because (J.T @ inv_Sigma_Y @ J) is a scalar!\n",
    "    dx_i[i] = 1/(J.T @ inv_Sigma_Y @ J) * J.T @ inv_Sigma_Y @ dy \n",
    "    # update your guess for x\n",
    "    x_i[i+1] = x_i[i] + dx_i[i] \n",
    "\n",
    "# set final estimate equal to the last value in x_i and evaluate its precision\n",
    "xhat = x_i[-1]\n",
    "sigma_xhat = np.sqrt(1/(J.T @ inv_Sigma_Y @ J))\n",
    "\n",
    "# print and plot final results\n",
    "print(f'The final estimate for the angle is: {xhat:.3f} radians\\n')\n",
    "print(f'The precision of the estimated angle is: {sigma_xhat:.2e} radians')\n",
    "\n",
    "fig, ax = plt.subplots(1, 2, figsize = (16, 6))\n",
    "ax[0].plot(dx_i, 'r-o')\n",
    "ax[0].set_xlabel('iteration number $i$', fontsize = 15)\n",
    "ax[0].set_ylabel('$\\Delta \\hat{x}_{[i]}$ [rad]', fontsize = 15)\n",
    "ax[0].grid()\n",
    "ax[1].plot(x_i, 'r-o')\n",
    "ax[1].set_xlabel('iteration number $i$', fontsize = 15)\n",
    "ax[1].set_ylabel('$x_{[i]}$ [rad]', fontsize = 15)\n",
    "ax[1].grid()"
   ]
  },
  {
   "cell_type": "markdown",
   "id": "acting-judge",
   "metadata": {},
   "source": [
    "The left-side figure shows for each iteration the value of $\\Delta \\hat{x}_{[i]}$, which should become smaller and smaller if all goes well. On the right-hand side you see how $x_{[i]}$ is updated in each iteration step, where the final value will be used as our estimate $\\hat{x}=x_{[10]}$."
   ]
  },
  {
   "cell_type": "markdown",
   "id": "ba15c580",
   "metadata": {},
   "source": [
    "```{admonition} Solutions\n",
    ":class: tip, dropdown\n",
    "\n",
    "<code>y_comp = np.array([ 2 * np.cos(x_i[i]) , 2 * np.sin(x_i[i]) ]) </code>  \n",
    "\n",
    "<code>dy = y - y_comp</code>  \n",
    "\n",
    "<code>J = np.array([ -2 * np.sin(x_i[i]) , 2 * np.cos(x_i[i]) ]) </code>  \n",
    "\n",
    "```"
   ]
  }
 ],
 "metadata": {
  "kernelspec": {
   "display_name": "Python 3 (ipykernel)",
   "language": "python",
   "name": "python3"
  },
  "language_info": {
   "codemirror_mode": {
    "name": "ipython",
    "version": 3
   },
   "file_extension": ".py",
   "mimetype": "text/x-python",
   "name": "python",
   "nbconvert_exporter": "python",
   "pygments_lexer": "ipython3",
   "version": "3.11.3"
  }
 },
 "nbformat": 4,
 "nbformat_minor": 5
}
