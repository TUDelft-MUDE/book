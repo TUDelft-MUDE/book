{
 "cells": [
  {
   "cell_type": "markdown",
   "metadata": {},
   "source": [
    "## Notebook exercise: playing with the weights\n",
    "\n",
    "In this interactive notebook you will fit several models to a time series of height observations of a point on a glacier, to assess whether it is melting. \n",
    "\n",
    "Click {fa}`rocket` --> {guilabel}`Live Code` on the top right corner of this screen and then wait until all cells are executed.\n",
    "\n",
    "**Learning objectives:**\n",
    "- apply weighted least-squares \n",
    "- discuss the impact of choosing different weight matrices\n",
    "\n",
    "You have a time series of 8 measured heights and fit a model assuming a linear trend (constant velocity).\n",
    "\n",
    "Times of observations, observed values and number of observations are given as the variables `t`, `y` and `m`. \n",
    "\n",
    "`numpy` and `matplotlib.pyplot` are abbreviated as `np` and `plt`, respectively."
   ]
  },
  {
   "cell_type": "code",
   "execution_count": null,
   "metadata": {
    "tags": [
     "thebe-remove-input-init"
    ]
   },
   "outputs": [],
   "source": [
    "# this will print all float arrays with 3 decimal places\n",
    "import numpy as np\n",
    "float_formatter = \"{:.2f}\".format\n",
    "np.set_printoptions(formatter={'float_kind':float_formatter})\n",
    "import matplotlib.pyplot as plt\n",
    "\n",
    "import micropip\n",
    "await micropip.install(\"ipywidgets\")\n",
    "import ipywidgets as widgets\n",
    "from IPython.display import display\n",
    "import operator\n",
    "\n",
    "def check_answer(variable_name, expected, comparison = operator.eq):\n",
    "    output = widgets.Output()\n",
    "    button = widgets.Button(description=\"Check answer\")\n",
    "    def _inner_check(button):\n",
    "        with output:\n",
    "            if comparison(globals()[variable_name], expected):\n",
    "                output.outputs = [{'name': 'stdout', 'text': 'Correct!', 'output_type': 'stream'}]\n",
    "            else:\n",
    "                output.outputs = [{'name': 'stdout', 'text': 'Incorrect!', 'output_type': 'stream'}]\n",
    "    button.on_click(_inner_check)\n",
    "    display(button, output)"
   ]
  },
  {
   "cell_type": "code",
   "execution_count": null,
   "metadata": {
    "tags": [
     "thebe-remove-input-init"
    ]
   },
   "outputs": [],
   "source": [
    "# times of observation [months]\n",
    "t = np.arange(8)\n",
    "\n",
    "# observed heights [m]\n",
    "y = [1.39, 1.26, 1.48, 4.03, 5.89, 5.14, 6.47, 7.64]\n",
    "\n",
    "# number of observations\n",
    "m = len(t)\n",
    "\n",
    "print(f'The observation times [months] are\\t: t = {t}')\n",
    "print(f'The observed heights [meters] are\\t: y = {y}')\n",
    "print(f'The number of observations is\\t\\t: m = {m}')\n",
    "\n",
    "A_ans = np.column_stack((np.ones(m), t))\n",
    "W_1_ans = np.eye(m)\n",
    "w=5\n",
    "W_2_ans = np.eye(m)\n",
    "W_2_ans[0,0] = w\n",
    "W_2_ans[1,1] = w\n",
    "W_2_ans[2,2] = w\n",
    "W_3_ans = np.eye(m)\n",
    "W_3_ans[3,3] = w\n",
    "W_3_ans[4,4] = w\n",
    "\n",
    "xhat_1_ans = np.linalg.solve(A_ans.T @ W_1_ans @ A_ans, A_ans.T @ W_1_ans @ y)\n",
    "xhat_2_ans = np.linalg.solve(A_ans.T @ W_2_ans @ A_ans, A_ans.T @ W_2_ans @ y)\n",
    "xhat_3_ans = np.linalg.solve(A_ans.T @ W_3_ans @ A_ans, A_ans.T @ W_3_ans @ y)\n"
   ]
  },
  {
   "cell_type": "markdown",
   "metadata": {},
   "source": [
    ":::{card}\n",
    "Fill in the correct $\\mathrm{A}$-matrix.\n",
    ":::"
   ]
  },
  {
   "cell_type": "code",
   "execution_count": null,
   "metadata": {},
   "outputs": [],
   "source": [
    "A = ?"
   ]
  },
  {
   "cell_type": "code",
   "execution_count": null,
   "metadata": {
    "tags": [
     "thebe-remove-input-init"
    ]
   },
   "outputs": [],
   "source": [
    "check_answer(\"A\", A_ans, np.array_equiv)"
   ]
  },
  {
   "cell_type": "markdown",
   "metadata": {},
   "source": [
    " ```{admonition} Solution\n",
    ":class: tip, dropdown\n",
    "In case you did not get the right solution, use: \n",
    "\n",
    "<code> A = np.column_stack((np.ones(m), t))</code>\n",
    "\n",
    "```"
   ]
  },
  {
   "cell_type": "markdown",
   "metadata": {},
   "source": [
    ":::{card}\n",
    "Case 1: Define the weight matrix for $\\mathrm{W}=I_m$\n",
    ":::"
   ]
  },
  {
   "cell_type": "code",
   "execution_count": null,
   "metadata": {},
   "outputs": [],
   "source": [
    "# Weight matrix for case 1\n",
    "W_1 = ?"
   ]
  },
  {
   "cell_type": "code",
   "execution_count": null,
   "metadata": {
    "tags": [
     "thebe-remove-input-init"
    ]
   },
   "outputs": [],
   "source": [
    "check_answer(\"W_1\",np.eye(m), np.array_equiv)"
   ]
  },
  {
   "cell_type": "markdown",
   "metadata": {},
   "source": [
    ":::{card}\n",
    "Case 2: Define the weight matrix with the weight of first 3 observations is five times as large as the rest\n",
    ":::"
   ]
  },
  {
   "cell_type": "code",
   "execution_count": null,
   "metadata": {
    "tags": []
   },
   "outputs": [],
   "source": [
    "W_2 = ?"
   ]
  },
  {
   "cell_type": "code",
   "execution_count": null,
   "metadata": {
    "tags": [
     "thebe-remove-input-init"
    ]
   },
   "outputs": [],
   "source": [
    "check_answer(\"W_2\",W_2_ans, np.array_equiv)"
   ]
  },
  {
   "cell_type": "markdown",
   "metadata": {},
   "source": [
    ":::{card}\n",
    "Case 3: Define the weight matrix with the weight of 4th and 5th observation is five times as large as the rest\n",
    ":::"
   ]
  },
  {
   "cell_type": "code",
   "execution_count": null,
   "metadata": {
    "tags": []
   },
   "outputs": [],
   "source": [
    "W_3 = ?"
   ]
  },
  {
   "cell_type": "code",
   "execution_count": null,
   "metadata": {
    "tags": [
     "thebe-remove-input-init"
    ]
   },
   "outputs": [],
   "source": [
    "check_answer(\"W_3\",W_3_ans, np.array_equiv)"
   ]
  },
  {
   "cell_type": "markdown",
   "metadata": {},
   "source": [
    " ```{admonition} Solution\n",
    ":class: tip, dropdown\n",
    "In case you did not get the right solution, you can use: \n",
    "\n",
    "<code> W_1 = np.eye(m)</code>\n",
    "\n",
    "<code>w=5</code>\n",
    "\n",
    "<code>W_2 = np.eye(m)</code>\n",
    "\n",
    "<code>W_2[0,0] = w</code>\n",
    "\n",
    "<code>W_2[1,1] = w</code>\n",
    "\n",
    "<code>W_2[2,2] = w</code>\n",
    "\n",
    "<code>W_3 = np.eye(m)</code>\n",
    "\n",
    "<code>W_3[3,3] = w</code>\n",
    "\n",
    "<code>W_3[4,4] = w</code>\n",
    "\n",
    "```"
   ]
  },
  {
   "cell_type": "markdown",
   "metadata": {},
   "source": [
    ":::{card}\n",
    "Compute the weighted least-squares estimate for all three cases.\n",
    ":::"
   ]
  },
  {
   "cell_type": "code",
   "execution_count": null,
   "metadata": {},
   "outputs": [],
   "source": [
    "# compute weighted least squares estimates for all cases\n",
    "xhat_1 = ?\n",
    "xhat_2 = ?\n",
    "xhat_3 = ?\n",
    "\n",
    "print('Estimated parameters:')\n",
    "print('Case 1:\\t', xhat_1)\n",
    "print('Case 2:\\t', xhat_2)\n",
    "print('Case 3:\\t', xhat_3)"
   ]
  },
  {
   "cell_type": "markdown",
   "metadata": {},
   "source": [
    " ```{admonition} Solution\n",
    ":class: tip, dropdown\n",
    "In case you did not get the right solution, you can use: \n",
    "\n",
    "<code> xhat_1 = np.linalg.solve(A.T @ W_1 @ A, A.T @ W_1 @ y)</code>\n",
    "\n",
    "Similarly for case 2 and 3.\n",
    "\n",
    "```"
   ]
  },
  {
   "cell_type": "code",
   "execution_count": null,
   "metadata": {
    "tags": [
     "thebe-remove-input-init"
    ]
   },
   "outputs": [],
   "source": [
    "def plot_results():\n",
    "    yhat_1 = A_ans @ xhat_1_ans\n",
    "    yhat_2 = A_ans @ xhat_2_ans\n",
    "    yhat_3 = A_ans @ xhat_3_ans\n",
    "\n",
    "    plt.figure()\n",
    "    plt.rc('font', size=14)\n",
    "    plt.plot(t, y, 'kx', label='observations')\n",
    "    plt.plot(t, yhat_1, color='r', label='case 1')\n",
    "    plt.plot(t, yhat_2, color='b', label='case 2')\n",
    "    plt.plot(t, yhat_3, color='c', label='case 3')\n",
    "    plt.xlim(-0.2, (m-1)+0.2)\n",
    "    plt.xlabel('time')\n",
    "    plt.ylabel('observation')\n",
    "    plt.legend(loc='best')\n",
    "    plt.show()"
   ]
  },
  {
   "cell_type": "markdown",
   "metadata": {},
   "source": [
    "**Running the next cell will plot the fitted models.** Note that the code with the function <code>plot_results</code> is hidden."
   ]
  },
  {
   "cell_type": "code",
   "execution_count": null,
   "metadata": {},
   "outputs": [],
   "source": [
    "plot_results()"
   ]
  },
  {
   "cell_type": "markdown",
   "metadata": {},
   "source": [
    ":::{card} Explain the different results, in particular the 'locations' of the different lines with respect to each other.\n",
    "\n",
    "\n",
    " ```{admonition} Solution\n",
    ":class: tip, dropdown \n",
    "The ordinary least-squares fit ($W=I_m$) is 'in the middle' as expected, since all observations get equal weight. For case 2, the first 3 observations get a larger weight, so the line is pulled 'down' to result in smaller errors for those 3 observations. For case 3, the opposite effect occurs, since the two observations that get the largest weight are also 'above' the red line.\n",
    "```\n",
    "\n",
    "<b>You can play with the weight factor of case 2 and 3 to see how the impact changes, depending on its size.</b>\n",
    ":::"
   ]
  }
 ],
 "metadata": {
  "kernelspec": {
   "display_name": "base",
   "language": "python",
   "name": "python3"
  },
  "language_info": {
   "codemirror_mode": {
    "name": "ipython",
    "version": 3
   },
   "file_extension": ".py",
   "mimetype": "text/x-python",
   "name": "python",
   "nbconvert_exporter": "python",
   "pygments_lexer": "ipython3",
   "version": "3.11.3"
  },
  "orig_nbformat": 4
 },
 "nbformat": 4,
 "nbformat_minor": 2
}
