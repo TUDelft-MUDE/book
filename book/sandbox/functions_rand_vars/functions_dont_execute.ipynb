{
 "cells": [
  {
   "cell_type": "markdown",
   "metadata": {},
   "source": [
    "# Functions of random variables and covariance\n",
    "\n",
    "Reference: Chapter 5 of *Lecture Notes for CE193 Probabilistic Methods for Engineering Risk Analysis*, A. Der Kiureghian, Department of Civil Engineering, November 2009. "
   ]
  },
  {
   "cell_type": "markdown",
   "metadata": {},
   "source": [
    "### 1 - Introduction\n",
    "\n",
    "Functions are used to relate sets of *dependent* variables with sets of *independent* ones.\n",
    "\n",
    "In general, we consider *m* dependent variables $Y=(Y_1, Y_2, ..., Y_m)$ given as functions of *n* independent variables $X=(X_1, X_2, ..., X_n)$, in the form:\n",
    "\n",
    "$$ \n",
    "Y_1 = g_1(X_1, X_2, ..., X_n)\n",
    "$$\n",
    "\n",
    "$$\n",
    "Y_2 = g_2(X_1, X_2, ..., X_n)\n",
    "$$\n",
    "\n",
    "$$\n",
    "...\n",
    "$$\n",
    "\n",
    "$$\n",
    "Y_m = g_m(X_1, X_2, ..., X_n)\n",
    "$$\n",
    "\n",
    "When the independent variables $\\bf{X}$ are random, then the dependent variables $\\bf{Y}$ are random as well. For this reason we need a probabilistc approach when determining the probabilistc characteristic of the dependent variables $\\bf{Y}$ given the probabilistc characteristic of the independent variables $\\bf{X}$.\n",
    "\n",
    "Notation: $g(\\bf{x})$ and $g(\\bf{X})$ are used to describe $g(x_1, x_2, ..., x_n)$ and $g(X_1, X_2, ..., X_n)$ respectively, where $g(\\bf{x})$ is the value of the function for the outcome for $\\bf{X}=\\bf{x}$ of the random variables."
   ]
  },
  {
   "cell_type": "markdown",
   "metadata": {},
   "source": [
    "### 2 - Mathematical expectations\n",
    "\n",
    "The mathematical expectation of a function $Y=g(\\bf{X})$ of random variables $\\bf{X}=(X_1, X_2, ..., X_n)$ is defined as \n",
    "\n",
    "$$\n",
    "\n",
    "E[Y]=E[g(\\bf{X})] \n",
    "\n",
    "$$\n",
    "\n",
    "$$\n",
    " \n",
    "\\\\\n",
    "= \\sum_{x_1} ... \\sum_{x_n} g(x_1, ..., x_n) p(x_1, ..., x_n) \\hspace{18mm}  \\text{for discrete variables}\n",
    "\\\\\n",
    "= \\int_{-\\infty}^{\\infty} ... \\int_{-\\infty}^{\\infty} g(x_1, ..., x_n) f(x_1, ..., x_n) \\; dx_1 ... dx_n \\hspace{5mm} \\text{for continuous variables}\n",
    "\n",
    "$$ \n",
    "\n",
    "where the *n*-fold summation or integral is over all the outcomes of the random variables $\\bf{X}$.\n",
    "\n",
    "The expectation represents the weighted average of the values of the function with the weights being the probabilities of the corresponding outcomes of the random variables. Moreover, $E[Y]=\\mu_{Y}$ (the expectation of the function $g(\\bf{X})$ is equal to the mean of the random variable $Y=g(\\bf{X})$).\n",
    "\n",
    "Since *expectation* is a linear operation, the following properties hold:\n",
    "\n",
    "$$ \n",
    "\n",
    "E[a]=a\n",
    "\n",
    "$$\n",
    "\n",
    "$$\n",
    "\\\\\n",
    "E[ag(\\textbf{X})]=aE[g(\\textbf{X})]\n",
    "\n",
    "$$\n",
    "\n",
    "$$\n",
    "\\\\\n",
    "E[g_1(\\textbf{X})+g_2(\\textbf{X})]=E[g_1(\\textbf{X})]+E[g_2(\\textbf{X})]\n",
    "\\\\\n",
    "\n",
    "$$\n",
    "\n",
    "where $a$ is a deterministic constant.\n",
    "\n",
    "In case the function invloves a further variable $\\theta$, such that $g=g(\\bf{X}, \\theta)$, then \n",
    "\n",
    "$$\n",
    "\n",
    "\\frac{d}{d\\theta} E[g(\\textbf{X},\\theta)]=E[\\frac{d}{d\\theta}g(\\textbf{X},\\theta)]\n",
    "\n",
    "$$\n",
    "\n",
    "It is possible to prove that the statistical moments $\\mu$ and $\\sigma^2$ are particular cases of the expectation.\n",
    "In fact, the mean $\\mu_1$ of the random variable $X_1$ is the expectation of the function $g=X_1$ and the variance $\\sigma_1^2$ is the expectation of the function $g=(X_1-\\mu_1)^2$. Similarly, the covariance $Cov[X_1, X_2]$ of the random variables $X_1$ and $X_2$ is obtained when using $g=(X_1-\\mu_1)(X_2-\\mu_2)$.\n",
    "\n",
    "\n",
    "We can demonstrate that the covariance of two random variables is the difference between their mean product and the product of their means.\n",
    "\n",
    "$$\n",
    "Cov[X_1, X_2]=E[(X_1-\\mu_1)(X_2-\\mu_2)]\n",
    "$$\n",
    "\n",
    "$$\n",
    "\\\\\n",
    "=E[X_1 X_2-X_1 \\mu_2 - \\mu_1 X_2 + \\mu_1 \\mu_2]\n",
    "$$\n",
    "\n",
    "$$\n",
    "=E[X_1 X_2]-E[X_1]\\mu_2 - \\mu_1 E[X_2] + \\mu_1 \\mu_2\n",
    "$$\n",
    "\n",
    "$$\n",
    "=E[X_1 X_2]-E[X_1]E[X_2]\n",
    "$$\n",
    "\n",
    "For an *n*-th order polynomial function of a single variable $X$ defined by \n",
    "\n",
    "$$\n",
    "g(X)=a_o+a_1 X + a_2 X^2 + ... + a_n X^n\n",
    "$$\n",
    "where $a_i$, with $i=0, ..., n$, are deterministic variables, the expectation is\n",
    "\n",
    "$$\n",
    "E[g(X)]=a_0+a_1 E[X] + a_2 E[X^2] + ... + a_n E[X^n]\n",
    "$$\n",
    "\n",
    "Note that the expectation of the polynomial function is known in case all the moments $E[X], ..., E[X^n]$ of the random variable are known, even if the full distribution is not known.\n",
    "\n",
    "For a multivariate polynomial function of several random variables, the expectation involves the marginal and joint moments of the random variables for all powers and products that appear in the polynomial. \n",
    "For instance, for the bivariate second-order polynomial $g(X_1, X_2)=a_0 + a_1 X_1 + b_1 X_2 + a_2 X_1^2 + c_2 X_1 X_2 + b_2 X_2^2$, the expectation includes the means ($\\mu_{X_1}$ and $\\mu_{X_2}$), the variances ($\\sigma_{X_1}^2$ and $\\sigma_{X_2}^2$), and the covariance ($Cov[X_1, X_2]$) of the two random variables, which are the first moments, the second moments and the joint moments, respectively.  "
   ]
  },
  {
   "cell_type": "markdown",
   "metadata": {},
   "source": [
    "### 3 - First and second moments of functions\n",
    "\n",
    "When dealing with functions of random variables the main focus is on the first and second statistical moments of the functions, which are the means $\\mu_{Y_k}$, variances $\\sigma_{Y_k}^2$ and covariances $Cov[Y_k, Y_l]$ of the random variables $Y_k=g_k(X_1, X_2, ..., X_n) \\hspace{0.5mm}, \\hspace{1mm} k,l=1, 2, ..., m$.\n",
    "In many situation the available information on random varibles $\\textbf{X}=(X_1, X_2, ..., X_n)$ is limited to the their second moments (i.e., the means $E[X_i]=\\mu_i$, variances $Var[X_i]=\\sigma_i^2$, and covariances $Cov[X_i, X_j]=\\rho_{ij} \\sigma_i \\sigma_j, \\hspace{1mm} i,j=1, 2, ..., n$), and therefore it is not possible to derive the distributions of $Y_k$. \n",
    "\n",
    "However, for linear functions it is possible to derive the exact solutions for the first and second moments of $Y_k$. For non-linear functions, approximate expressions are found by first- or second-order Taylor expansions.\n",
    "\n",
    "#### *Linear Functions*\n",
    "\n",
    "Consider the linear functions\n",
    "\n",
    "$$\n",
    "Y_k = a_{k0}+\\sum_{i=1}^{n} a_{ki} X_i, \\hspace{5mm} k=1, ..., m,\n",
    "$$\n",
    "\n",
    "where $a_{ki}, \\hspace{0.5mm} i=0,1, ...,n$ are deterministic coeffcients.\n",
    "\n",
    "The mean is \n",
    "\n",
    "$$\n",
    "\\mu_{Y_k}=a_{k0} + \\sum_{i=1}^{n} a_{ki} \\mu_i, \\hspace{5mm} k=1, ..., m,\n",
    "$$\n",
    "\n",
    "the variance is\n",
    "\n",
    "$$\n",
    "\\sigma_{Y_k}^2 = \\sum_{i=1}^n \\sum_{j=1}^n a_{ki} a_{kj} \\rho_{ij} \\sigma_i \\sigma_j \\hspace{40mm}\n",
    "\\\\\n",
    "= \\sum_{i=1}^n a_{ki}^2 \\sigma_i^2 + \\sum_{i=1}^{n-1} \\sum_{j=i+1}^n a_{ki} a_{kj} \\rho_{ij} \\sigma_i \\sigma_j, \\hspace{5mm} k=1, ..., m,\n",
    "$$\n",
    "\n",
    "and the covariance is\n",
    "\n",
    "$$\n",
    "Cov[Y_k, Y_l]= \\sum_{i=1}^n \\sum_{j=1}^n a_{ki} a_{lj} \\rho_{ij} \\sigma_i \\sigma_j\n",
    "\\\\\n",
    "= \\sum_{i=1}^n a_{ki} a_{li} \\sigma_i^2 + \\underset{i \\neq j}{\\sum_{i=1}^n \\sum_{j=1}^n} a_{ki} a_{lj} \\rho_{ij} \\sigma_i \\sigma_j.\n",
    "$$\n",
    "\n",
    "Note that $Cov[Y_k, Y_l]=\\sigma_{Y_k}^2$ in case $k=l$.\n",
    "\n",
    "The previous equations can be also written in the matrix form.\n",
    "\n",
    "Let $\\bf{A_0}$ be an *m*-vector with elements $a_{k0}, \\hspace{0.5mm} k=1, ..., m$ and $\\bf{A}$ be an $m\\times n$ matrix with elements $a_{ki}, \\hspace{0.5mm} k=1, ..., m, \\hspace{0.5mm} i=1, ..., n$. \n",
    "Also let $\\bf{M_X}$ and $\\bf{M_Y}$, and $\\bf{\\Sigma_{XX}}$ and $\\bf{\\Sigma_{YY}}$ be the mean vectors and covariance matrices of $\\bf{X}$ and $\\bf{Y}$, respectively.\n",
    "\n",
    "The linear functions are given by \n",
    "\n",
    "$$\n",
    "\\bf{Y=A_0+AX}.\n",
    "$$\n",
    "\n",
    "Collecting for all $k$, the mean vector is \n",
    "\n",
    "$$\n",
    "\\bf{M_Y=A_0+AM_X}\n",
    "$$\n",
    "\n",
    "and collecting for all $k$ and $l$ we have the covariance matrix\n",
    "\n",
    "$$\n",
    "\\bf{\\Sigma_{YY}=A\\Sigma_{XX}A^T}.\n",
    "$$\n",
    "\n",
    "Remember that the covariance matrix $\\bf{\\Sigma_{YY}}$ is positive semi-definite, which implies that for any row vector $\\bf{a}$ the scalar product $\\bf{a\\Sigma a^T}$ $\\ge 0$. Also note that when variables $\\bf{X}$ are linearly dependent, then $\\bf{\\Sigma_{XX}}$ is a singular matrix and it is possible to select $\\bf{a}$ such that the product $\\textbf{a} \\bf{\\Sigma} \\textbf{a}^T$ $=0$ (that is why the matrix is said to be \"semi-definite\" and not \"definite\"). If the variables $\\bf{X}$ are not linearly dependent, $\\bf{\\Sigma_{XX}}$ is a postive definite matrix."
   ]
  },
  {
   "cell_type": "markdown",
   "metadata": {},
   "source": [
    "#### Linear functions - Example \n",
    "\n",
    "Consider the random variables $\\bf{X}$ $=(X_1, X_2)$, with mean vector and covariance matrix \n",
    "\n",
    "$$ \n",
    "\\bf{M_X} = \\biggl\\{ \\begin{array}{c} 10 \\\\ 20 \\\\ \\end{array} \\biggr \\}, \\hspace{2mm} \\Sigma_{XX}= \\left[ \\begin{array}{c} 4 & 5\\\\ 5 & 25 \\\\ \\end{array} \\right]\n",
    "$$ \n",
    "\n",
    "and random variables $\\bf{Y}$ $=(Y_1, Y_2, Y_3)$ defined by linear transformation\n",
    "\n",
    "$$\n",
    "\\bf{Y} = \\Biggl\\{ \\begin{array}{c} 10 \\\\ 30 \\\\ 20 \\\\ \\end{array} \\Biggr \\} + \\left[ \\begin{array}{c} 2 & 3\\\\ -1 & 5 \\\\ 1 & 0 \\\\ \\end{array} \\right] X.\n",
    "$$\n",
    "\n",
    "Find the mean vector and covariance matrix of $\\bf{Y}$, the standard deviation of $Y_1$ and the correlation coefficient between $Y_1$ and $Y_2$."
   ]
  },
  {
   "cell_type": "markdown",
   "metadata": {},
   "source": [
    "First, import the necessary packages."
   ]
  },
  {
   "cell_type": "code",
   "execution_count": 312,
   "metadata": {},
   "outputs": [],
   "source": [
    "import numpy as np\n",
    "import matplotlib.pyplot as plt\n",
    "import scipy.stats as sci\n",
    "\n",
    "%matplotlib inline"
   ]
  },
  {
   "cell_type": "markdown",
   "metadata": {},
   "source": [
    "Define the mean vector and covariance matrix of $\\bf{X}$."
   ]
  },
  {
   "cell_type": "code",
   "execution_count": 313,
   "metadata": {},
   "outputs": [],
   "source": [
    "M_X = np.array([[10],\n",
    "                [20]])\n",
    "\n",
    "Sigma_XX = np.array([[4, 5], \n",
    "                     [5, 25]])"
   ]
  },
  {
   "cell_type": "markdown",
   "metadata": {},
   "source": [
    "We have shown that for linear functions $\\bf{M_Y=A_0+AM_X}$ and $\\bf{\\Sigma_{YY}=A\\Sigma_{XX}A^T}$. So we can easily compute the mean vector and covariance matrix of $\\bf{Y}$."
   ]
  },
  {
   "cell_type": "code",
   "execution_count": 314,
   "metadata": {},
   "outputs": [],
   "source": [
    "A0 = np.array([[10], \n",
    "               [30], \n",
    "               [20]])\n",
    "\n",
    "A = np.array([[2, 3], \n",
    "              [-1, 5], \n",
    "              [1, 0]])\n",
    "\n",
    "M_Y = A0 + A @ M_X\n",
    "\n",
    "Sigma_YY = A @ Sigma_XX @ A.T"
   ]
  },
  {
   "cell_type": "markdown",
   "metadata": {},
   "source": [
    "Let's see the result."
   ]
  },
  {
   "cell_type": "code",
   "execution_count": 315,
   "metadata": {},
   "outputs": [
    {
     "name": "stdout",
     "output_type": "stream",
     "text": [
      "Mean vector:\n",
      "M_Y = [[ 90]\n",
      " [120]\n",
      " [ 30]]\n",
      "\n",
      "Covariance matrix:\n",
      "Sigma_YY = [[301 402  23]\n",
      " [402 579  21]\n",
      " [ 23  21   4]]\n"
     ]
    }
   ],
   "source": [
    "print(f'Mean vector:\\nM_Y = {M_Y}\\n')\n",
    "print(f'Covariance matrix:\\nSigma_YY = {Sigma_YY}')"
   ]
  },
  {
   "cell_type": "markdown",
   "metadata": {},
   "source": [
    "We can now compute the standard deviation of $Y_1$, which is the square root of the first element of the diagonal, i.e., the element $\\Sigma_{1,1}$, and the correlation coefficient between $Y_1$ and $Y_2$ $\\rho_{1,2}=\\frac{Cov[Y_1, Y_2]}{\\sqrt{\\sigma_{Y_1}^2 \\sigma_{Y_2}^2}}$. Remember that $Cov[Y_1, Y_2]$ is the second element of the first column (or the first element of the second column, since the covariance matrix is symmetrical), i.e., $\\Sigma_{1,2}$ or $\\Sigma_{2,1}$."
   ]
  },
  {
   "cell_type": "code",
   "execution_count": 316,
   "metadata": {},
   "outputs": [
    {
     "name": "stdout",
     "output_type": "stream",
     "text": [
      "The standard deviation of Y1 is 17.35.\n",
      "\n",
      "The correlation coeffcient between Y1 and Y2 is 0.96.\n"
     ]
    }
   ],
   "source": [
    "sigma_Y1 = np.sqrt(Sigma_YY[0][0])\n",
    "print(f'The standard deviation of Y1 is {sigma_Y1:.2f}.\\n')\n",
    "\n",
    "sigma_Y2 = np.sqrt(Sigma_YY[1][1])\n",
    "\n",
    "cov_Y12 = Sigma_YY[0][1]\n",
    "rho_Y12 = cov_Y12 / (sigma_Y1 * sigma_Y2)\n",
    "print(f'The correlation coeffcient between Y1 and Y2 is {rho_Y12:.2f}.')\n"
   ]
  },
  {
   "cell_type": "markdown",
   "metadata": {},
   "source": [
    "Now we want to plot the distributions of one of the $\\bf{Y}$ variables with the distributions of all $\\bf{X}$ variables.\n",
    "\n",
    "We start defining the parameters of the $\\bf{X}$ variables. "
   ]
  },
  {
   "cell_type": "code",
   "execution_count": 317,
   "metadata": {},
   "outputs": [],
   "source": [
    "mean_X1 = M_X[0]\n",
    "mean_X2 = M_X[1]\n",
    "\n",
    "sigma_X1 = np.sqrt(Sigma_XX[0][0])\n",
    "sigma_X2 = np.sqrt(Sigma_XX[1][1])\n",
    "\n",
    "cov_X12 = Sigma_XX[0][1]\n",
    "rho_X12 = cov_X12 / (sigma_X1 * sigma_X2)"
   ]
  },
  {
   "cell_type": "markdown",
   "metadata": {},
   "source": [
    "We choose to plot the first $\\bf{Y}$ variable, $Y_1$, but you can repeat the same procedure with all the other ones (remember to replace the right indices).\n",
    "\n",
    "We start computing the distributions of $X_1$ and $X_2$. We also include the bins of all distributions in the plot.\n",
    "\n",
    "Then we'll repeat the procedure with the distribution of $Y_1$."
   ]
  },
  {
   "cell_type": "code",
   "execution_count": 327,
   "metadata": {},
   "outputs": [],
   "source": [
    "x1 = np.arange(mean_X1 - 3.8 * sigma_X1, mean_X1 + 3.8 * sigma_X1, 0.001)\n",
    "pdf_X1 = sci.norm.pdf(x1, mean_X1, sigma_X1)\n",
    "cdf_X1 = sci.norm.cdf(x1, mean_X1, sigma_X1)\n",
    "\n",
    "x2 = np.arange(mean_X2 - 3.8 * sigma_X2, mean_X2 + 3.8 * sigma_X2, 0.001)\n",
    "pdf_X2 = sci.norm.pdf(x2, mean_X2, sigma_X2)\n",
    "cdf_X2 = sci.norm.cdf(x2, mean_X2, sigma_X2)\n",
    "\n",
    "binsX1 = sci.norm.rvs(mean_X1, sigma_X1, size = 500)\n",
    "binsX2 = sci.norm.rvs(mean_X2, sigma_X2, size = 500)"
   ]
  },
  {
   "cell_type": "code",
   "execution_count": 328,
   "metadata": {},
   "outputs": [],
   "source": [
    "mean_Y1 = M_Y[0]\n",
    "\n",
    "y1 = np.arange(mean_Y1 - 3.8 * sigma_Y1, mean_Y1 + 3.8 * sigma_Y1, 0.001)\n",
    "pdf_Y1 = sci.norm.pdf(y1, mean_Y1, sigma_Y1)\n",
    "cdf_Y1 = sci.norm.cdf(y1, mean_Y1, sigma_Y1)\n",
    "\n",
    "binsY1 = sci.norm.rvs(mean_Y1, sigma_Y1, size = 500)"
   ]
  },
  {
   "cell_type": "markdown",
   "metadata": {},
   "source": [
    "We can now plot the distributions."
   ]
  },
  {
   "cell_type": "code",
   "execution_count": 329,
   "metadata": {},
   "outputs": [
    {
     "data": {
      "text/plain": [
       "<matplotlib.legend.Legend at 0x226555d68b0>"
      ]
     },
     "execution_count": 329,
     "metadata": {},
     "output_type": "execute_result"
    },
    {
     "data": {
      "image/png": "[encoded data removed]",
      "text/plain": [
       "<Figure size 640x480 with 1 Axes>"
      ]
     },
     "metadata": {},
     "output_type": "display_data"
    }
   ],
   "source": [
    "plt.plot(x1, pdf_X1, color='b', label=r'$X_1$')\n",
    "plt.plot(x2, pdf_X2, color='r', label=r'$X_2$')\n",
    "plt.plot(y1, pdf_Y1, color='g', label=r'$Y_1$')\n",
    "plt.hist(binsX1, density = True, bins = 'auto', histtype = 'stepfilled', alpha = 0.3)\n",
    "plt.hist(binsX2, density = True, bins = 'auto', histtype = 'stepfilled', alpha = 0.3)\n",
    "plt.hist(binsX1, density = True, bins = 'auto', histtype = 'stepfilled', alpha = 0.3)\n",
    "plt.title(r'PDF of $X_1, X_2$, and $Y_1$')\n",
    "plt.xlabel(r'$x$ [-]')\n",
    "plt.ylabel(r'$PDF$ [-]')\n",
    "plt.legend()"
   ]
  },
  {
   "cell_type": "code",
   "execution_count": 330,
   "metadata": {},
   "outputs": [
    {
     "data": {
      "text/plain": [
       "<matplotlib.legend.Legend at 0x2266acab340>"
      ]
     },
     "execution_count": 330,
     "metadata": {},
     "output_type": "execute_result"
    },
    {
     "data": {
      "image/png": "[encoded data removed]",
      "text/plain": [
       "<Figure size 640x480 with 1 Axes>"
      ]
     },
     "metadata": {},
     "output_type": "display_data"
    }
   ],
   "source": [
    "plt.plot(x1, cdf_X1, color='b', label=r'$X_1$')\n",
    "plt.plot(x2, cdf_X2, color='r', label=r'$X_2$')\n",
    "plt.plot(y1, cdf_Y1, color='g', label=r'$Y_1$')\n",
    "plt.title(r'CDF of $X_1, X_2$, and $Y_1$')\n",
    "plt.xlabel(r'$x$ [-]')\n",
    "plt.ylabel(r'$CDF$ [-]')\n",
    "plt.legend()"
   ]
  },
  {
   "cell_type": "markdown",
   "metadata": {},
   "source": [
    "#### *Non-linear functions*\n",
    "\n",
    "We can use of Taylor's theorem for linearizing non-linear functions of one variable.\n",
    "\n",
    "*Taylor's theorem*\n",
    "\n",
    "Taylor’s theorem can be used to approximate a function $g(x)$ with the so called $p$-th order Taylor polynomial:\n",
    "\n",
    "$$\n",
    "g(x) \\approx g(x_0) +\\frac{\\partial}{\\partial x}g(x_0)\\Delta x + \\frac{1}{2!} \\frac{\\partial^2}{\\partial x^2}g(x_0)\\Delta x^2 + \\ldots +\\frac{1}{p!} \\frac{\\partial^p}{\\partial x^p}g(x_0)\\Delta x^p=P_k (x)\n",
    "$$\n",
    "\n",
    "where it is required that the function $f: \\mathbb{R}\\mapsto \\mathbb{R}$ is $p$-times differentiable at the point $x_0 \\in \\mathbb{R}$, and $\\Delta x = x-x_0$.\n",
    "\n",
    "The approximation error is equal to \n",
    "\n",
    "$$\n",
    "R_p(x) = g(x)- P_k (x) \n",
    "$$\n",
    "\n",
    "and is called the remainder term.\n",
    "\n",
    "Example:\n",
    "\n",
    "A linear approximation of $g(x) = \\cos(x)$ at $x_0$ is obtained by the 1st order Taylor polynomial as:\n",
    "\n",
    "$$\n",
    "g(x) \\approx \\cos x_0 – \\sin x_0 \\Delta x\n",
    "$$\n",
    "\n",
    "*First-order Taylor polynomial for linearizing a function of $n$ variables*\n",
    "\n",
    "More often we will only need first-order Taylor approximations for non-linear functions of $x$ being a vector with $n$ variables. The corresponding Taylor polynomial is then given by:\n",
    "\n",
    "$$\n",
    "g(x) \\approx g(x_0)  + \\partial_{x_1} g(x_0) \\Delta x_0+ \\partial_{x_2} g(x_0) \\Delta x_0+ \\ldots + \\partial_{x_n} g(x_0) \\Delta x_0\n",
    "$$\n",
    "\n",
    "where we need the $n$ partial derivatives of function $g$ evaluated at $x_0$.\n",
    "\n",
    "*First-Order Approximations*\n",
    "\n",
    "Given $Y=g(X)$, the first-order Taylor series approximation at $x_0=\\mu_X$ is \n",
    "\n",
    "$$\n",
    "Y \\cong g(\\mu_X)+\\biggl(\\frac{dg}{dx}\\biggr)_0 (X - \\mu_X).\n",
    "$$\n",
    "\n",
    "In this way $Y$ is represented as a linear function of $X$. Therefore, using the previously introduced equations for the mean and variance we have\n",
    "\n",
    "$$\n",
    "\\mu_Y \\cong g(\\mu_X)\n",
    "$$\n",
    "$$\n",
    "\\sigma_Y^2 \\cong \\biggl(\\frac{dg}{dx}\\biggr)_0^2 \\sigma_X^2.\n",
    "$$\n",
    "\n",
    "We can note that the first-order approximation of the mean of $g(X)$ is the function evaluated at the mean of $X$, while the approximate variance of $g(X)$ is proportional to the variance of $X$ and to the square of its first derivative with respect to $X$.\n",
    "\n",
    "*Second-Order Approximations*\n",
    "\n",
    "For the same function $Y=g(X)$, the second-order Taylor series approximation at $x_0=\\mu_X$ is \n",
    "\n",
    "$$\n",
    "Y\\cong g(\\mu_X)+\\biggl(\\frac{dg}{dx} \\biggr)_0 (X -\\mu_X)+\\frac{1}{2} \\biggl(\\frac{d^2 g}{dx^2} \\biggr)_0 (X - \\mu_X)^2.\n",
    "$$\n",
    "\n",
    "By taking the expectation we get the second-order approximation of the mean\n",
    "\n",
    "$$\n",
    "\\mu_Y \\cong g(\\mu_X)+\\frac{1}{2} \\biggl(\\frac{d^2 g}{dx^2}_0 \\biggr) \\sigma_X^2\n",
    "$$\n",
    "\n",
    "and by taking the expectation of the squared difference we obtain the second-order approximation of the variance\n",
    "\n",
    "$$\n",
    "\\sigma_Y^2 \\cong \\biggl(\\frac{dg}{dx} \\biggr)_0^2 \\sigma_X^2 + \\biggl(\\frac{dg}{dx} \\biggr)_0 \\biggl(\\frac{d^2 g}{dx^2} \\biggr)_0 \\gamma_X \\sigma_X^3 + \\frac{1}{4} \\biggl(\\frac{d^2 g}{dx^2} \\biggr)_0^2 (\\kappa_X -1) \\sigma_X^4,\n",
    "$$\n",
    "\n",
    "where $\\gamma_X = \\frac{E[(X - \\mu_X)^3]}{\\sigma_X^3}$ is the coefficient of skewness and $\\kappa_X = \\frac{E[(X - \\mu_X)^4]}{\\sigma_X^4}$, which are the third and fourth central moments of $X$, respectively. \n",
    "\n",
    "Note that these higher moments can be obtained if the distribution of $X$ is known. If they are not known, they can be approximated by assuming a suitable distribution. For example, if $X$ is known or assumed to be normal, then $\\gamma_X = 0$ and $\\kappa_X = 3$."
   ]
  },
  {
   "cell_type": "markdown",
   "metadata": {},
   "source": [
    "#### *Multiple functions of multiple random variables*\n",
    "\n",
    "The methods described above can be extended to the case of multiple functions of multiple random variables.\n",
    "\n",
    "The Taylor-series expansion of each of the functions $Y_k = g_k (X_1, X_2, ..., X_n)$ around the mean point $\\bf{M_X}$ is\n",
    "\n",
    "$$\n",
    "Y_k = g_{k0} + \\sum_{i=1}^{n} g_{k,i}' (X_i - \\mu_i) + \\frac{1}{2!} \\sum_{i=1}^{n} \\sum_{j=1}^{n} g_{k,ij}'' (X_i - \\mu_i)(X_j - \\mu_j)+...,\n",
    "$$\n",
    "\n",
    "where\n",
    "\n",
    "$$\n",
    "g_{k0} = g_k (x_1, ..., x_n)\\biggl|_{X=M_X}\n",
    "$$\n",
    "\n",
    "$$\n",
    "g_{k,i}' = \\frac{\\partial{g_k (x_1, ..., x_n)}}{\\partial x_i}\\biggl|_{X=M_X}\n",
    "$$\n",
    "\n",
    "$$\n",
    "g_{k,ij}'' = \\frac{\\partial^2{g_k (x_1, ..., x_n)}}{\\partial x_i \\partial x_j}\\biggl|_{X=M_X}.\n",
    "$$\n",
    "\n",
    "*First-order approximations*\n",
    "\n",
    "First-order approximations are obtained by retaining up to the first-order terms in the series expansion. After the truncation, expectation of the polynomial expressions are carried out to obtain the approximation formulas. The covariance of two random variables Yk and Yl is obtained by expanding the functions for both random variables and then taking the expectation of $(Y_k - \\mu_{Y_k})(Y_l - \\mu_{Y_l})$.\n",
    "\n",
    "We have the following approximations for the mean\n",
    "\n",
    "$$\n",
    "\\mu_{Y_k} \\cong g_{k0},\n",
    "$$\n",
    "\n",
    "variance\n",
    "\n",
    "$$\n",
    "\\sigma_{Y_k}^2 \\cong \\sum_{i=1}^{n} \\sum_{j=1}^{n} g_{k,i}'g_{k,j}' \\rho_{ij} \\sigma_i \\sigma_j\n",
    "\\\\\n",
    "= \\sum_{i=1}^{n} g_{k,i}'^2 \\sigma_i^2 + 2 \\sum_{i=1}^{n-1} \\sum_{j=i+1}^{n} g_{k,i}'g_{k,j}' \\rho_{ij} \\sigma_i \\sigma_j,\n",
    "$$\n",
    "\n",
    "and covariance\n",
    "\n",
    "$$\n",
    "Cov[Y_k, Y_l] \\cong \\sum_{i=1}^{n} \\sum_{j=1}^{n} g_{k,i}'g_{l,j}' \\rho_{ij} \\sigma_i \\sigma_j\n",
    "\\\\\n",
    "= \\sum_{i=1}^{n} g_{k,i}'g_{l,j}' \\sigma_i^2 + \\underset{i \\neq j}{\\sum_{i=1}^{n} \\sum_{j=1}^{n}} g_{k,i}'g_{l,j}' \\rho_{ij} \\sigma_i \\sigma_j.\n",
    "$$"
   ]
  },
  {
   "cell_type": "markdown",
   "metadata": {},
   "source": [
    "### 4 - Distribution of functions\n",
    "\n",
    "We are now going to focus on deriving the joint probability distribution of a set of dependent random variables $Y_k = g_k(X_1, X_2, ..., X_n), \\hspace{1mm} k=1,2,...,m$, when the probability distribution of the set of independent random variables $\\textbf{X}=(X_1, X_2, ..., X_n)$ is given.\n",
    "\n",
    "We start considering a single function of a single random variable\n",
    "\n",
    "$$\n",
    "Y=g(X).\n",
    "$$\n",
    "\n",
    "The above relationship represents a transformation rule, or mapping, from the outcome space of $X$ to the outcome space of $Y$. For each outcome $x$ of $X$, the corresponding outcome of $Y$ is uniquely given by $y=g(x)$. However, for a given $Y=y$, the corresponding outcome of $X$ may not be unique.\n",
    "\n",
    "We first consider the case where the transformation $y=g(x)$ represents a one-to-one mapping such that for each $x$ there is one and only one $y$, and for each $y$ there is one and only one $x$. Obviously the transformation is reversible in this case. Furthermore,\n",
    "one can easily show that the derivative $dy/dx$ cannot assume a zero value and, therefore, it must maintain a constant algebraic sign for all $x$. Let $x=h(y)$ represent the inverse transformation. If $X$ is a discrete random variable, then the PMF of $Y$ is given by\n",
    "\n",
    "$$\n",
    "p_Y(y)=p_X[h(y)].\n",
    "$$\n",
    "\n",
    "This is obvious by noting that, due to the one-to-one nature of the mapping, the probability of $Y$ taking on the value $y$ is the same as $X$ taking on the value $x=h(y)$. Furthermore, letting $F_X(x)$ denote the CDF of $X$, we can write for the CDF of $Y$\n",
    "\n",
    "$$\n",
    "F_Y(y)=P(Y \\leq y)\n",
    "\\\\\n",
    "\\hspace{15mm}=P[g(X) \\leq y].\n",
    "$$\n",
    "\n",
    "If $g(X)$ increases with $X$, i.e., if $dy/dx>0$, then the event $\\left\\{ g(X) \\leq y \\right \\}$ will occur if and only if $X \\leq h(y)$. In that case $P[g(X) \\leq y]=F_X [h(y)]$, which is the CDF of $X$ evaluated at $x=h(y)$. On the other hand, if $g(X)$ decreases with $X$, i.e., if $dy/dx<0$, then the event $\\{g(X) \\leq y\\}$ will occur if and only if $X \\ge h(y)$. In that case $P[g(X) \\leq y]=P[X \\ge h(y)]=1-F_X [h(y)]$, which is the complementary CDF of $X$ evaluated at $h(y)$. Thus, we can write\n",
    "\n",
    "$$\n",
    "F_Y(y)=F_X[h(y)] \\hspace{17mm} \\text{if} \\hspace{1mm} dy/dx>0\n",
    "\\\\\n",
    "\\hspace{11mm} = 1 - F_X[h(y)] \\hspace{11mm}  \\text{if} \\hspace{1mm} dy/dx<0.\n",
    "$$\n",
    "\n",
    "\n",
    "The relation between the two CDFs is valid for both discrete and continuous random variables. When $X$ is a continuous random variable, the PDF of $Y$ can be obtained by taking derivatives with respect to $y$ on both sides of the previous equation for $F_Y(y)$. Using the chain rule of differentiation, we obtain\n",
    "\n",
    "$$\n",
    "f_Y(y)=f_X[h(y)] \\frac{dh(y)}{dy} \\hspace{17mm} \\text{if} \\hspace{1mm} dy/dx>0\n",
    "\\\\\n",
    "\\hspace{10mm} = - f_X[h(y)] \\frac{dh(y)}{dy} \\hspace{14mm}  \\text{if} \\hspace{1mm} dy/dx<0.\n",
    "$$\n",
    "\n",
    "Noting that $dh(y)/dy$ has the same algebraic sign as $dy/dx$, the above two expressions can be combined to read\n",
    "\n",
    "$$\n",
    "f_Y(y)=f_X[h(y)] \\biggl|\\frac{dh(y)}{dy}\\biggr|.\n",
    "$$\n",
    "\n",
    "Now consider the $m$ functions \n",
    "\n",
    "$$\n",
    "Y_k = g_k(X_1, X_2, ..., X_n), \\hspace{2mm} k=1,...,m\n",
    "$$\n",
    "\n",
    "of random variables $\\textbf{X}=(X_1, X_2, ..., X_n)$. We first derive the joint distribution of $\\textbf{Y}=(Y_1, Y_2, ..., Y_m)$ when $m=n$, i.e., the same number of dependent and independent random variables. Suppose the mapping in the above equation for $Y_k$ is one-to-one, i.e., for each outcome $\\bf{x}$ of $\\bf{X}$ there is one and only one outcome $\\bf{y}$ of $\\bf{Y}$, and vice versa. In that case, for a given $\\textbf{y}=(y_1,y_2,...,y_n)$, the equations $y_k=g_k(x_1,x_2,...,x_n), \\hspace{2mm} k=1,..,n$, can be solved for $x_1, x_2, ..., x_n$. Let these inverse relations be\n",
    "\n",
    "$$\n",
    "x_k = h_k(y_1, y_2, ..., y_n), \\hspace{2mm} k=1,..,n.\n",
    "$$\n",
    "\n",
    "Clearly the probability that $\\bf{Y}$ is in an infinitesimal neighborhood of $\\bf{y}$ is equal to the probability of $\\bf{X}$ being in the corresponding infinitesimal neighborhood of $\\textbf{x}=(x_1,x_2,...,x_n)$. If the random variables are discrete, the joint PMF of $\\bf{Y}$ is given in terms of the joint PMF of $\\bf{X}$ by\n",
    "\n",
    "$$\n",
    "p_{\\textbf{Y}}(y_1, y_2, ..., y_n)=p_{\\textbf{X}}(x_1,x_2,...,x_n),\n",
    "$$\n",
    "\n",
    "where the arguments on the right-hand side are functions of $\\bf{y}$, as given in the above equation for $x_k$. If the variables are continuous, then we can write\n",
    "\n",
    "$$\n",
    "f_{\\textbf{Y}}(y_1, y_2, ..., y_n)dy_1 dy_2 ... dy_n = f_{\\textbf{X}}dx_1 dx_2 ... dx_n,\n",
    "$$\n",
    "\n",
    "where $dy_1 dy_2 ... dy_n$ defines the differential volume in the space of $\\bf{Y}$ that corresponds to the differential volume $dx_1 dx_2 ... dx_n$ in the space of $\\bf{X}$. It is well known that the ratio of these two volumes, $dy_1 dy_2 ... dy_n / dx_1 dx_2 ... dx_n$, is equal to the absolute value of the determinant of the Jacobian of the $\\bf x \\to y$ transformation, which is the matrix of partial derivatives $\\partial y_i / \\partial x_j$\n",
    "\n",
    "$$\n",
    "\\bf{J_{y,x}} = \\begin{bmatrix}\n",
    "                   \\frac{\\partial y_1}{\\partial x_1} & \\frac{\\partial y_1}{\\partial x_2} & ... & \\frac{\\partial y_1}{\\partial x_n}  \\\\[0.3em]\n",
    "                   \\frac{\\partial y_2}{\\partial x_1} & \\frac{\\partial y_2}{\\partial x_2} & ... & \\frac{\\partial y_2}{\\partial x_n} \\\\[0.3em]\n",
    "                   \\vdots & \\vdots & \\ddots & \\vdots \\\\ \n",
    "                   \\frac{\\partial y_n}{\\partial x_1} & \\frac{\\partial y_n}{\\partial x_2} & ... & \\frac{\\partial y_n}{\\partial x_n}\n",
    "                   \\end{bmatrix}.\n",
    "$$\n",
    "\n",
    "Using this relation in the previous equation for $p_{\\textbf{Y}}$, the PDF od $\\bf{Y}$ is obtained as\n",
    "\n",
    "$$\n",
    "f_{\\textbf{Y}}(y_1, y_2, ..., y_n)=f_{\\textbf{X}}(x_1,x_2,...,x_n) \\biggl|\\text{det} \\hspace{1mm} \\bf{J_{y,x}}\\biggr|^{-1},\n",
    "$$\n",
    "\n",
    "where the arguments on the right-hand side are functions of $\\bf{y}$, as in the function for $x_k$. Note that the Jacobian $\\bf{J_{y,x}}$ must also be expressed in terms of $y$ by use of the equation for $x_k$. It is also worth noting that $\\bf{J_{y,x}^{-1}}=\\bf{J_{x,y}}$. This relation is useful when it is easier to compute the Jacobian of the inverse transform."
   ]
  }
 ],
 "metadata": {
  "kernelspec": {
   "display_name": "base",
   "language": "python",
   "name": "python3"
  },
  "language_info": {
   "codemirror_mode": {
    "name": "ipython",
    "version": 3
   },
   "file_extension": ".py",
   "mimetype": "text/x-python",
   "name": "python",
   "nbconvert_exporter": "python",
   "pygments_lexer": "ipython3",
   "version": "3.9.16"
  },
  "orig_nbformat": 4
 },
 "nbformat": 4,
 "nbformat_minor": 2
}
