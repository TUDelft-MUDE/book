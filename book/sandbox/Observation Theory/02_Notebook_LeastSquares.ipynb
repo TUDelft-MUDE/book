{
 "cells": [
  {
   "cell_type": "markdown",
   "metadata": {},
   "source": [
    "<figure>\n",
    "  <IMG SRC=\"https://gitlab.tudelft.nl/mude/public/-/raw/main/tu-logo/TU_P1_full-color.png\" WIDTH=200 ALIGN=\"right\">\n",
    "</figure>\n",
    "<figure>\n",
    "  <IMG SRC=\"https://gitlab.tudelft.nl/mude/public/-/raw/main/mude-logo/MUDE_Logo-small.png\" WIDTH=200 ALIGN=\"right\">\n",
    "</figure>\n",
    "\n",
    "# CEGM1000 Modelling, Uncertainty and Data for Engineers\n",
    "    \n",
    "## Sensing and observation theory"
   ]
  },
  {
   "cell_type": "markdown",
   "metadata": {},
   "source": [
    "In this notebook you will fit several models to a time series of height observations of a point on a glacier, to assess whether it is melting. \n",
    "\n",
    "**Learning objectives:**\n",
    "- set-up an observation model\n",
    "- apply least-squares estimation\n",
    "- assess the estimation results considering redundancy, squared norm of residuals, under- and overfitting"
   ]
  },
  {
   "cell_type": "markdown",
   "metadata": {},
   "source": [
    "You have 12 monthly measurements of the height of a point on a glacier. The measurements are obtained from a satellite laser altimeter.\n",
    "\n",
    "- Time [months]: $[0, 1, 2, \\ldots, 11]$\n",
    "- Observed heights [meters]: $[102.4, 98.2, 97.5, 97.9, 99.7, 100.7, 98.3, 94.2, 90.9, 86.1, 81.2, 76.9]$\n",
    "\n",
    "We will consider three different models, with the following observation equations:\n",
    "\n",
    "- Model 1: constant velocity, $\\mathbb{E}\\left( Y_i \\right) = x_0 + x_1 t_i$\n",
    "- Model 2: eight order polynomial, $\\mathbb{E}\\left( Y_i \\right) =x_0 + x_1 t_i + x_2 t_i^2 +\\ldots+ x_8 t_i^8 = \\sum_{p=0}^8 x_p t_i^p $\n",
    "- Model 3: constant velocity + annual signal, $\\mathbb{E}\\left( Y_i \\right) = x_0 + x_1 t_i + x_2 cos \\Big(\\frac{2 \\pi t_i}{12} \\Big)$"
   ]
  },
  {
   "cell_type": "code",
   "execution_count": 10,
   "metadata": {},
   "outputs": [],
   "source": [
    "import numpy as np\n",
    "import matplotlib.pyplot as plt\n",
    "from scipy.stats import norm\n",
    "%matplotlib inline"
   ]
  },
  {
   "cell_type": "markdown",
   "metadata": {},
   "source": [
    "## 0. Observed heights and times of observations\n",
    "\n",
    "Times of observations, observed heights and number of observations are given:"
   ]
  },
  {
   "cell_type": "code",
   "execution_count": 11,
   "metadata": {},
   "outputs": [],
   "source": [
    "# times of observation [months]\n",
    "t = np.arange(12)\n",
    "\n",
    "# observed heights [m]\n",
    "y = [102.4, 98.2, 97.5, 97.9, 99.7, 100.7, 98.3, 94.2, 90.9, 86.1, 81.2, 76.9]\n",
    "\n",
    "# number of observations\n",
    "m = len(t)"
   ]
  },
  {
   "cell_type": "markdown",
   "metadata": {},
   "source": [
    "## Observation model\n",
    "\n",
    "Our **functional model** is to be defined in a form\n",
    "$$\n",
    "\\mathbb{E}\\left(Y\\right) = \\mathbb{E}(\\begin{bmatrix}Y_1\\\\Y_2\\\\ \\vdots \\\\ Y_m \\end{bmatrix})= \\mathrm{A}\\cdot \\begin{bmatrix}x_1\\\\x_2\\\\ \\vdots \\\\ x_n \\end{bmatrix} = \\mathrm{A}\\cdot \\mathrm{x}\n",
    "$$\n",
    "The functional model can also be written as:\n",
    "$$ Y = \\mathrm{A}\\cdot \\mathrm{x} + \\epsilon\\;\\text{with}\\; \\epsilon \\sim N(0,\\Sigma_{\\epsilon}) $$\n",
    "The random errors $\\epsilon$ are thus assumed to be normally distributed with zero mean and covariance matrix $\\Sigma_{\\epsilon}$, which describes the *precision* of our observations, and is referred to as the **stochastic model**. For now we will not use the information about the stochastic model.\n",
    "\n",
    "### Exercise 1. Create design matrices for the three models and determine redundancy for each\n",
    "\n",
    "With ```column_stack``` you can combine arrays (column vectors) to create a matrix."
   ]
  },
  {
   "cell_type": "code",
   "execution_count": 12,
   "metadata": {},
   "outputs": [
    {
     "name": "stdout",
     "output_type": "stream",
     "text": [
      "Redundancy of linear trend model: 10\n",
      "Redundancy of 8th order polynomial model: 3\n",
      "Redundancy of linear trend + annual signal model: 9\n"
     ]
    }
   ],
   "source": [
    "A_1 = np.column_stack((np.ones(m), t))\n",
    "A_2 = np.column_stack((A_1, t**2, t**3, t**4, t**5, t**6, t**7, t**8))\n",
    "A_3 = np.column_stack((np.ones(m), t, np.cos(2*np.pi*t/12)))\n",
    "\n",
    "red_1 = m - np.shape(A_1)[1]\n",
    "red_2 = m - np.shape(A_2)[1]\n",
    "red_3 = m - np.shape(A_3)[1]\n",
    "\n",
    "print(f'Redundancy of linear trend model: {red_1}')\n",
    "print(f'Redundancy of 8th order polynomial model: {red_2}')\n",
    "print(f'Redundancy of linear trend + annual signal model: {red_3}')"
   ]
  },
  {
   "cell_type": "markdown",
   "metadata": {},
   "source": [
    "## Least-squares\n",
    "\n",
    "The least-squares principle fits the model such that the sum of squared errors (residuals) is minimized, i.e., it finds the $\\mathrm{x}=\\begin{bmatrix} x_1 & x_2 & \\ldots & x_n \\end{bmatrix}^T$ by solving the following minimization problem:\n",
    "$$\n",
    "\\underset{x}{\\min} \\| \\mathrm{y} - \\mathrm{A}\\mathrm{x} \\|^2 = (\\mathrm{y} - \\mathrm{A}\\mathrm{x})^T(\\mathrm{y} - \\mathrm{A}\\mathrm{x}) = \\underset{i=1}{\\overset{m}\\sum} \\epsilon_i^2\n",
    "$$\n",
    "Note that we use a small letter $\\mathrm{y}$ here, since we are now using the actual observed values (i.e., a realization of $Y$).\n",
    "\n",
    "The solution $\\hat{\\mathrm{x}}$ is obtained as:\n",
    "$$\n",
    "\\hat{\\mathrm{x}} = \\left(\\mathrm{A}^T\\mathrm{A} \\right)^{-1} \\mathrm{A}^T\\mathrm{y}\n",
    "$$\n",
    "Hence, $\\hat{\\mathrm{x}}$ is the <b>estimate</b> of $\\mathrm{x}$ which gives the smallest possible sum of squared residuals."
   ]
  },
  {
   "cell_type": "markdown",
   "metadata": {},
   "source": [
    "### Exercise 2. Find the least squares solution for each of the models\n",
    "\n",
    "You can use the NumPy function ```linalg.inv``` to compute the inverse of a matrix. Recall that for a matrix product $\\mathrm{A}\\cdot \\mathrm{B} $ you can use ```A @ B```."
   ]
  },
  {
   "cell_type": "code",
   "execution_count": 13,
   "metadata": {},
   "outputs": [
    {
     "name": "stdout",
     "output_type": "stream",
     "text": [
      "[104.57435897  -1.98321678]\n"
     ]
    }
   ],
   "source": [
    "xhat_1 = np.linalg.inv(A_1.T @ A_1) @ A_1.T @ y\n",
    "xhat_2 = np.linalg.inv(A_2.T @ A_2) @ A_2.T @ y\n",
    "xhat_3 = np.linalg.inv(A_3.T @ A_3) @ A_3.T @ y\n",
    "print(xhat_1)\n",
    "# or, if using np.dot for the matrix product instead of @:\n",
    "#xhat1 = np.linalg.solve(np.dot(np.transpose(A1), A1), np.dot(np.transpose(A1), y))\n",
    "#xhat2 = np.linalg.solve(np.dot(np.transpose(A2), A2), np.dot(np.transpose(A2), y))"
   ]
  },
  {
   "cell_type": "markdown",
   "metadata": {},
   "source": [
    "### Exercise 3. Evaluate the residuals\n",
    "\n",
    "Calculate the squared norm of residuals for each of the models, and also make a plot of the individual residuals for each model."
   ]
  },
  {
   "cell_type": "code",
   "execution_count": 14,
   "metadata": {},
   "outputs": [
    {
     "name": "stdout",
     "output_type": "stream",
     "text": [
      "Squared norm of residuals model 1: 176.066\n",
      "Squared norm of residuals model 2: 0.713\n",
      "Squared norm of residuals model 3: 9.998\n"
     ]
    },
    {
     "data": {
      "image/png": "[encoded data removed]",
      "text/plain": [
       "<Figure size 432x288 with 1 Axes>"
      ]
     },
     "metadata": {
      "needs_background": "light"
     },
     "output_type": "display_data"
    }
   ],
   "source": [
    "# Calculated the squared norm of residuals for the 3 models\n",
    "eTe_1 = (y - A_1 @ xhat_1).T @ (y - A_1 @ xhat_1)\n",
    "eTe_2 = (y - A_2 @ xhat_2).T @ (y - A_2 @ xhat_2)\n",
    "eTe_3 = (y - A_3 @ xhat_3).T @ (y - A_3 @ xhat_3)\n",
    "\n",
    "print(f'Squared norm of residuals model 1: {eTe_1:.3f}')\n",
    "print(f'Squared norm of residuals model 2: {eTe_2:.3f}')\n",
    "print(f'Squared norm of residuals model 3: {eTe_3:.3f}')\n",
    "# ALTERNATIVES to compute the squared norms\n",
    "# eTe_1 = np.linalg.norm(y - A_1 @ xhat_1)**2\n",
    "# eTe_1 = np.dot(np.transpose(y - np.dot(A1, xhat1)), (y - np.dot(A1, xhat1)))\n",
    "\n",
    "# Calculate residuals\n",
    "res_1 = y - A_1 @ xhat_1\n",
    "res_2 = y - A_2 @ xhat_2\n",
    "res_3 = y - A_3 @ xhat_3\n",
    "\n",
    "# Plot the residuals for the 3 models\n",
    "plt.figure()\n",
    "plt.plot(t, res_1, '+r', label='model 1')\n",
    "plt.plot(t, res_2, '+c', label='model 2')\n",
    "plt.plot(t, res_3, '+b', label='model 3')\n",
    "plt.xlim(-0.2, 11.2)\n",
    "plt.xlabel('time [months]')\n",
    "plt.ylabel('residual [meters]')\n",
    "plt.grid()\n",
    "plt.legend(loc='best')\n",
    "plt.show()"
   ]
  },
  {
   "cell_type": "markdown",
   "metadata": {},
   "source": [
    "<div class=\"alert alert-block alert-warning\"> \n",
    "    \n",
    "### Do the residuals (see plot) behave as expected for each of the models\n",
    "    \n",
    "...\n",
    "No, you would expect them to fluctuate randomly around zero, but especially for model 1 you can see a clear residual signal, which is an indication that the model is too simplistic.  \n",
    "    \n",
    "### Discuss why the squared norm of residuals is quite different for the 3 models:\n",
    "...\n",
    "The squared norm for model 1 is very large, due to the annual signal that is not accounted for. The squared norm for model 2 is very small, so it results in a very good fit (due to the high order of the polynomial). Model 3 results in a somewhat larger squared norm than model 2 - this is due to the additional parameters in model 2, which will result in a better fit (i.e., it allows to better capture the actual height variation over time).\n",
    "    \n",
    "\n",
    "\n",
    "</div>"
   ]
  },
  {
   "cell_type": "markdown",
   "metadata": {},
   "source": [
    "### Exercise 4. Plot the observations and the three fitted models in one figure:"
   ]
  },
  {
   "cell_type": "code",
   "execution_count": 15,
   "metadata": {},
   "outputs": [
    {
     "data": {
      "image/png": "[encoded data removed]",
      "text/plain": [
       "<Figure size 432x288 with 1 Axes>"
      ]
     },
     "metadata": {
      "needs_background": "light"
     },
     "output_type": "display_data"
    }
   ],
   "source": [
    "yhat_1 = A_1 @ xhat_1\n",
    "yhat_2 = A_2 @ xhat_2\n",
    "yhat_3 = A_3 @ xhat_3\n",
    "\n",
    "plt.figure()\n",
    "plt.plot(t, y, 'kx', label='observations')\n",
    "plt.plot(t, yhat_1, color='r', label='model 1')\n",
    "plt.plot(t, yhat_2, color='c', label='model 2')\n",
    "plt.plot(t, yhat_3, color='b', label='model 3')\n",
    "plt.xlim(-0.2, (m-1)+0.2)\n",
    "plt.xlabel('time [months]')\n",
    "plt.ylabel('height [meters]')\n",
    "plt.legend(loc='best')\n",
    "plt.show()"
   ]
  },
  {
   "cell_type": "code",
   "execution_count": 16,
   "metadata": {
    "scrolled": true
   },
   "outputs": [
    {
     "data": {
      "image/png": "[encoded data removed]",
      "text/plain": [
       "<Figure size 432x288 with 1 Axes>"
      ]
     },
     "metadata": {
      "needs_background": "light"
     },
     "output_type": "display_data"
    }
   ],
   "source": [
    "yhat_1 = A_1 @ xhat_1\n",
    "yhat_2 = A_2 @ xhat_2\n",
    "yhat_3 = A_3 @ xhat_3\n",
    "\n",
    "plt.figure()\n",
    "plt.plot(t, y, 'kx', label='observations')\n",
    "plt.plot(t, yhat_1, color='r', label='null hyp.')\n",
    "plt.plot(t, yhat_3, color='b', label='alternative hyp.')\n",
    "plt.xlim(-0.2, (m-1)+0.2)\n",
    "plt.xlabel('time [months]')\n",
    "plt.ylabel('height [meters]')\n",
    "plt.legend(loc='best')\n",
    "plt.show()"
   ]
  },
  {
   "attachments": {},
   "cell_type": "markdown",
   "metadata": {},
   "source": [
    "<div class=\"alert alert-block alert-warning\"> \n",
    "    \n",
    "### What would happen if you would fit a 11th order polynomial?\n",
    "...This would result in a perfect fit: $\\mathrm{A}$ becomes a full-rank square matrix, such that $\\hat{\\mathrm{x}} = \\mathrm{A}^{-1} \\mathrm{y}$ and the residuals become 0.\n",
    "\n",
    "### One of the models is *underfitting*. Try to reason what is meant by this and which model this applies to.\n",
    "...Model 1 obviously does not capture the annual signal, so it is does not accurately describe the relation between observations and height change. This is referred to as underfitting.\n",
    "       \n",
    "### One of the models is *overfitting*. Try to reason what is meant by this and which model this applies to.  \n",
    "...Model 2 is overfitting - it results in very small residuals since we include a lot of parameters, but what is the physical interpretation? Including higher orders will result in an even better fit (ultimately the perfect fit as discussed above). A big problem is that most likely this model will not be able to predict the height change for the future. This is illustrated in the figure below, where we predict the height for the coming 2 months, and see how the polynomial model predicts a very unrealistic increase in height.\n",
    "\n",
    "### How could we assess whether model 3 is a good choice (this is a topic we will discuss later, but try to think for yourself how it could be done).\n",
    "...You would somehow have to compare the size of the residuals with the precision as described by $\\Sigma_{\\epsilon}$. \n",
    "</div>"
   ]
  },
  {
   "attachments": {},
   "cell_type": "markdown",
   "metadata": {},
   "source": [
    "```{admonition} What would happen if you'd fit a 11th order polynomial?\n",
    ":class: dropdown\n",
    "This would result in a perfect fit: $\\mathrm{A}$ becomes a full-rank square matrix, such that $\\hat{\\mathrm{x}} = \\mathrm{A}^{-1} \\mathrm{y}$ and the residuals become 0.\n",
    "```"
   ]
  },
  {
   "cell_type": "code",
   "execution_count": 17,
   "metadata": {},
   "outputs": [
    {
     "data": {
      "image/png": "[encoded data removed]",
      "text/plain": [
       "<Figure size 432x288 with 1 Axes>"
      ]
     },
     "metadata": {
      "needs_background": "light"
     },
     "output_type": "display_data"
    }
   ],
   "source": [
    "# create array with times\n",
    "t_pred = np.arange(14)\n",
    "m_pred = len(t_pred)\n",
    "\n",
    "# create the A-matrices for the given times\n",
    "A_pred_1 = np.column_stack((np.ones(m_pred), t_pred))\n",
    "A_pred_2 = np.column_stack((A_pred_1, t_pred**2, t_pred**3, t_pred**4, t_pred**5, t_pred**6, t_pred**7, t_pred**8))\n",
    "A_pred_3 = np.column_stack((np.ones(m_pred), t_pred, np.cos(2*np.pi*t_pred/12)))\n",
    "\n",
    "# calculate predicted heights\n",
    "model_1 = A_pred_1 @ xhat_1\n",
    "model_2 = A_pred_2 @ xhat_2\n",
    "model_3 = A_pred_3 @ xhat_3\n",
    "\n",
    "# plot the predicted heights bases on the three models\n",
    "plt.figure()\n",
    "plt.plot(t_pred, model_1, color='r', label='model 1')\n",
    "plt.plot(t_pred, model_2, color='c', label='model 2')\n",
    "plt.plot(t_pred, model_3, color='b', label='model 3')\n",
    "plt.xlim(-0.2, (m_pred-1)+0.2)\n",
    "plt.xlabel('time [months]')\n",
    "plt.ylabel('predicted height [meters]')\n",
    "plt.legend(loc='best')\n",
    "plt.show()"
   ]
  }
 ],
 "metadata": {
  "kernelspec": {
   "display_name": "Python 3 (ipykernel)",
   "language": "python",
   "name": "python3"
  },
  "language_info": {
   "codemirror_mode": {
    "name": "ipython",
    "version": 3
   },
   "file_extension": ".py",
   "mimetype": "text/x-python",
   "name": "python",
   "nbconvert_exporter": "python",
   "pygments_lexer": "ipython3",
   "version": "3.9.12"
  },
  "latex_envs": {
   "LaTeX_envs_menu_present": true,
   "autoclose": false,
   "autocomplete": true,
   "bibliofile": "biblio.bib",
   "cite_by": "apalike",
   "current_citInitial": 1,
   "eqLabelWithNumbers": true,
   "eqNumInitial": 1,
   "hotkeys": {
    "equation": "Ctrl-E",
    "itemize": "Ctrl-I"
   },
   "labels_anchors": false,
   "latex_user_defs": false,
   "report_style_numbering": false,
   "user_envs_cfg": false
  },
  "vscode": {
   "interpreter": {
    "hash": "cf78f3d1bc82cb39ac7a1165ed20acb9158792c8f97b380f92edad57bf927ea3"
   }
  }
 },
 "nbformat": 4,
 "nbformat_minor": 2
}
