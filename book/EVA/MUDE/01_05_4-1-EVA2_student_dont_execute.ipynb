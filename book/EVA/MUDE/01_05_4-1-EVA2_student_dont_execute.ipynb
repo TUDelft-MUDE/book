{
 "cells": [
  {
   "attachments": {},
   "cell_type": "markdown",
   "metadata": {},
   "source": [
    "# Extreme Value Analysis 2 (Assignment)"
   ]
  },
  {
   "attachments": {},
   "cell_type": "markdown",
   "metadata": {},
   "source": [
    "## Objective"
   ]
  },
  {
   "cell_type": "markdown",
   "metadata": {},
   "source": [
    "Fit the adequate parametric continuous distribution function for the identified extreme observations and assess its goodness of fit."
   ]
  },
  {
   "attachments": {},
   "cell_type": "markdown",
   "metadata": {},
   "source": [
    "## Introduction"
   ]
  },
  {
   "cell_type": "markdown",
   "metadata": {},
   "source": [
    "Once the extreme observation of our loading variables are sampled for the historical database, we can adress the fitting of the parametric distribution which will allow us to infer the needed extreme values, although we may not have observed them yet. We will follow the next steps:\n",
    "\n",
    "0. Load libraries, data and run previously developed code\n",
    "1. Calculating the empirical distribution function \n",
    "2. Fitting the Generalized Extreme Value parametric distribution\n",
    "3. Assessing goodness of fit"
   ]
  },
  {
   "attachments": {},
   "cell_type": "markdown",
   "metadata": {},
   "source": [
    "## 0. Load libraries, data and run previously developed code"
   ]
  },
  {
   "cell_type": "markdown",
   "metadata": {},
   "source": [
    "Install dependences if needed"
   ]
  },
  {
   "cell_type": "code",
   "execution_count": null,
   "metadata": {},
   "outputs": [],
   "source": [
    "!pip install --upgrade pandas numpy scipy statsmodels matplotlib datetime\n",
    "%matplotlib inline"
   ]
  },
  {
   "cell_type": "markdown",
   "metadata": {},
   "source": [
    "Import necessary libraries (include more if needed)."
   ]
  },
  {
   "cell_type": "code",
   "execution_count": null,
   "metadata": {},
   "outputs": [],
   "source": [
    "import pandas as pd\n",
    "import numpy as np\n",
    "from scipy import stats\n",
    "import matplotlib.pyplot as plt\n",
    "import matplotlib\n",
    "import datetime"
   ]
  },
  {
   "cell_type": "markdown",
   "metadata": {},
   "source": [
    "We are going to use the same dataset as Wednesday. Here, we are going to import it from our local folder directly. Ensure that the file \"Buoy.csv\" is located in the same folder that your notebook."
   ]
  },
  {
   "cell_type": "code",
   "execution_count": null,
   "metadata": {},
   "outputs": [],
   "source": [
    "data = pd.read_csv(\"Buoy.csv\", sep = ';')\n",
    "data.head()"
   ]
  },
  {
   "cell_type": "markdown",
   "metadata": {},
   "source": [
    "We saw in the previous notebook that we needed to give the first column an appropriate format and remove mistaken measurements of the buoy. Remember that the first column of the database corresponds to the date and time of each measurement, while the second column corresponds to the hourly measured significant wave height ($H_s$)."
   ]
  },
  {
   "cell_type": "code",
   "execution_count": null,
   "metadata": {},
   "outputs": [],
   "source": [
    "data['Date (GMT)'] = pd.to_datetime(data['Date (GMT)'])\n",
    "\n",
    "data = data[data['Hs(m)'] >= 0]\n",
    "\n",
    "data.set_axis([np.linspace(0, len(data)-1, len(data), dtype=int)], axis='index', inplace=True)\n",
    "fig, axs=plt.subplots(1, 1)\n",
    "axs.plot(data['Date (GMT)'], data['Hs(m)'], 'k', label='${H_s(m)}$')\n",
    "axs.set_title('Significant wave height time series')\n",
    "axs.set_xlabel('Date')\n",
    "axs.set_ylabel('${H_s (m)}$')\n",
    "fig.set_size_inches(15, 4)\n",
    "axs.grid()"
   ]
  },
  {
   "cell_type": "markdown",
   "metadata": {},
   "source": [
    "In the previous notebook, you also developed a code to sample extreme observations using Yearly Maxima.\n",
    "\n",
    "**Task #0: Go back to the previous notebook on Extreme Value Analysis and get the function to perform yearly maxima. Apply it to the buoy data.**"
   ]
  },
  {
   "cell_type": "code",
   "execution_count": null,
   "metadata": {},
   "outputs": [],
   "source": [
    "#Copy the function here (It is in Brightspace)\n",
    "\n",
    "yearly_maxima_list = yearly_maxima(data)\n",
    "yearly_maxima_list"
   ]
  },
  {
   "cell_type": "markdown",
   "metadata": {},
   "source": [
    "And we are ready to go with further steps on Extreme Value Analysis!"
   ]
  },
  {
   "attachments": {},
   "cell_type": "markdown",
   "metadata": {},
   "source": [
    "## 1. Calculating the empirical distribution function"
   ]
  },
  {
   "cell_type": "markdown",
   "metadata": {},
   "source": [
    "Before fitting a parametric distribution, we need to calculate the empirical distribution function from the identified extreme observations."
   ]
  },
  {
   "cell_type": "markdown",
   "metadata": {},
   "source": [
    "**Task #1: Calculate the empirical cumulative distribution function**. Define a function which calculates the cumulative empirical distribution function from data. The function must take as input the identified extremes. The output of the function must be a dataframe with two columns: F_x and Hs(m).\n",
    "\n",
    "*Important: you have to code the function yourself, not used a prebuilt function from a package.*\n",
    "\n",
    "*Suggested steps*:\n",
    "- Sort the observations of the variable\n",
    "- Calculate the length (size) of your observations, *n*\n",
    "- Assign non-exceedance probabilities to each observation, *p=i/(n+1)*, where *i* is the rank\n",
    "- Store the probabilities and sorted observations in a DataFrame using: \n",
    "\n",
    "`ecdf = pd.DataFrame({'F_x':p_data, 'Hs(m)':sorted_data})`\n",
    "\n",
    "where p_data are the probabilities and sorted_data your sorted observations."
   ]
  },
  {
   "cell_type": "code",
   "execution_count": null,
   "metadata": {},
   "outputs": [],
   "source": [
    "def calculate_ecdf(data):\n",
    "    #add your code here\n",
    "    ecdf = pd.DataFrame({'F_x':p_data, 'Hs(m)':sorted_data})\n",
    "    return ecdf"
   ]
  },
  {
   "cell_type": "markdown",
   "metadata": {},
   "source": [
    "Let's apply your function to the extremes you sampled using Yearly Maxima."
   ]
  },
  {
   "cell_type": "code",
   "execution_count": null,
   "metadata": {},
   "outputs": [],
   "source": [
    "ecdf = calculate_ecdf(yearly_maxima_list['Hs(m)'])\n",
    "ecdf.head()"
   ]
  },
  {
   "cell_type": "markdown",
   "metadata": {},
   "source": [
    "Let's see how it looks!"
   ]
  },
  {
   "cell_type": "code",
   "execution_count": null,
   "metadata": {},
   "outputs": [],
   "source": [
    "fig, axs = plt.subplots(1, 1)\n",
    "axs.scatter(ecdf['Hs(m)'], ecdf['F_x'], 40, 'k', label = 'Empirical cdf')\n",
    "axs.set_title('Empirical cumulative distribution function')\n",
    "axs.set_ylabel('F(x)')\n",
    "axs.set_xlabel('${H_s (m)}$')\n",
    "fig.set_size_inches(6, 6)\n",
    "axs.grid()\n",
    "axs.legend()"
   ]
  },
  {
   "attachments": {},
   "cell_type": "markdown",
   "metadata": {},
   "source": [
    "## 2. Fitting the Generalized Extreme Value parametric distribution"
   ]
  },
  {
   "cell_type": "markdown",
   "metadata": {},
   "source": [
    "Once we have the empirical cumulative distribution function, we can fit a parametric distribution function.\n",
    "\n",
    "But first a quick refresher on what you saw in the theoretical videos. We are interested in modelling the stochastic behavior of the maximum values within a sequence $X_1, X_2, ..., X_n$, namely $M_n=max(X_1, X_2, ..., X_n)$.\n",
    "\n",
    "For large n, the distribution function of $M_n$ converges to $G(x)$, which belongs to the Generalized Extreme Value (GEV) family distribution, regardless the original distribution of X.\n",
    "\n",
    "Therefore, we have to fit a GEV distribution to the our set of extreme observations."
   ]
  },
  {
   "cell_type": "markdown",
   "metadata": {},
   "source": [
    "**Task #2: fit a GEV distribution to the extreme observations obtained with Yearly Maxima**. Define a function which fits the GEV distribution to the empirical distribution function previously obtained, using Maximum Loglikelihood. The set of extreme observations must be the input. The output of the function must be a list with the fitted parameters.\n",
    "\n",
    "*Hint: Use SciPy library. You can go to the documentation [here](https://docs.scipy.org/doc/scipy/).*"
   ]
  },
  {
   "cell_type": "code",
   "execution_count": null,
   "metadata": {},
   "outputs": [],
   "source": [
    "def fit_GEV(data): \n",
    "    #Add your code here\n",
    "    return GEV_param"
   ]
  },
  {
   "cell_type": "markdown",
   "metadata": {},
   "source": [
    "Let's apply your function to your data!"
   ]
  },
  {
   "cell_type": "code",
   "execution_count": null,
   "metadata": {},
   "outputs": [],
   "source": [
    "GEV_param = fit_GEV(yearly_maxima_list['Hs(m)'])\n",
    "GEV_param"
   ]
  },
  {
   "cell_type": "markdown",
   "metadata": {},
   "source": [
    "Let's see how the fit looks!"
   ]
  },
  {
   "cell_type": "code",
   "execution_count": null,
   "metadata": {},
   "outputs": [],
   "source": [
    "GEV_H = np.linspace(min(yearly_maxima_list['Hs(m)']), max(yearly_maxima_list['Hs(m)']),100)\n",
    "GEV_p = stats.genextreme.cdf(GEV_H, GEV_param[0], GEV_param[1], GEV_param[2])\n",
    "\n",
    "fig, axs = plt.subplots(1, 1)\n",
    "axs.scatter(ecdf['Hs(m)'], ecdf['F_x'], 40, 'k', label = 'Empirical cdf')\n",
    "axs.plot(GEV_H, GEV_p, 'r', label = 'Fitted GEV')\n",
    "axs.set_title('Empirical cumulative distribution function')\n",
    "axs.set_ylabel('F(x)')\n",
    "axs.set_xlabel('${H_s (m)}$')\n",
    "fig.set_size_inches(6, 6)\n",
    "axs.grid()\n",
    "axs.legend()"
   ]
  },
  {
   "cell_type": "markdown",
   "metadata": {},
   "source": [
    "Do you think is a good fit? We will address this question in the next section."
   ]
  },
  {
   "attachments": {},
   "cell_type": "markdown",
   "metadata": {},
   "source": [
    "## 3. Assessing goodness of fit"
   ]
  },
  {
   "cell_type": "markdown",
   "metadata": {},
   "source": [
    "After fitting a parametric distribution function, the same questions always appears: is it a good approximation to my observations? To help us answering this question, we have goodness of fit techniques."
   ]
  },
  {
   "attachments": {},
   "cell_type": "markdown",
   "metadata": {},
   "source": [
    "### 3.1. Kolmogorov-Smirnov hypothesis test"
   ]
  },
  {
   "cell_type": "markdown",
   "metadata": {},
   "source": [
    "As you saw in the videos, Kolmogorov-Smirnov test is a goodness of fit hypothesis test based on the maximum distance between the empirical cumulative distribution function and the parametric distribution function.\n",
    "\n",
    "**Task #3. Calculate the p-value obtained from the Kolmogorov-Smirnov test to assess the goodness of fit of GEV distribution to the extreme observations. What does it mean assuming a significance level $\\alpha=0.05$?**\n",
    "\n",
    "*Hint: Use Scipy library. You can go to the documentation [here](https://docs.scipy.org/doc/scipy/).*"
   ]
  },
  {
   "cell_type": "code",
   "execution_count": null,
   "metadata": {},
   "outputs": [],
   "source": [
    "#Add your code here"
   ]
  },
  {
   "cell_type": "code",
   "execution_count": null,
   "metadata": {},
   "outputs": [],
   "source": [
    "'''\n",
    "Your answer\n",
    "'''"
   ]
  },
  {
   "cell_type": "markdown",
   "metadata": {},
   "source": [
    "Graphical methods are useful tools, since allow us to represent our data and confirm the results of our analysis at a glance."
   ]
  },
  {
   "cell_type": "markdown",
   "metadata": {},
   "source": [
    "QQ-plot is a very common graphical method which compares the empirical quantiles (typically in x-axis) with those obtained using the fitted parametric distribution (typically in y-axis).\n",
    "\n",
    "**Task #4. Fill the code below to represent the QQ-plot to assess the goodness of fit of GEV distribution to the extreme observations.**"
   ]
  },
  {
   "cell_type": "code",
   "execution_count": null,
   "metadata": {},
   "outputs": [],
   "source": [
    "empirical_quantiles = #from ecdf\n",
    "pred_quantiles = #use Scipy library to predict quantiles for the probabilities in ecdf\n",
    "\n",
    "fig, axs = plt.subplots(1, 1)\n",
    "axs.scatter(empirical_quantiles, pred_quantiles, 40, 'k')\n",
    "axs.plot([1.5, 5.5], [1.5,5.5])\n",
    "axs.set_title('QQ-plot')\n",
    "axs.set_ylabel('Theoretical quantiles')\n",
    "axs.set_xlabel('Empirical quantiles')\n",
    "fig.set_size_inches(6, 6)\n",
    "axs.grid()"
   ]
  },
  {
   "cell_type": "markdown",
   "metadata": {},
   "source": [
    "Another commonly used graphical method is the probability plot or probability paper. In this method, the grid of one axis (typically x-axis) is adapted to a theoretical distribution function, so when that theoretical distribution is plotted, a line is obtained. Considering here the GEV distribution whose equation is\n",
    "\n",
    "$F(x)=exp\\{-[1+\\xi \\frac{x- \\mu}{\\sigma}]^{-1/\\xi}\\}$, being $(1+\\xi \\frac{x- \\mu}{\\sigma})>0$\n",
    "\n",
    "where $\\mu, \\sigma$ and $\\xi$ are the location, scale and shape parameters, respectively. We can see that there is not explicit transformation to obtain a linear relationship between F(x) and $\\frac{x- \\mu}{\\sigma}$. Thus, we will apply Gumbel paper, since the obtained $\\xi$ is low, although $\\xi \\ne 0$. Remember that Gumber distribution is derived from GEV distribution when $\\xi \\rightarrow 0$, leading to the equation\n",
    "\n",
    "$F(x)=exp\\{-exp[-\\frac{x- \\mu}{\\sigma}]\\}$\n",
    "\n",
    "By rearranging the previous expression, we can reach\n",
    "\n",
    "$-\\ln(-\\ln F(x))=\\frac{x- \\mu}{\\sigma}$\n",
    "\n",
    "which defines the Gumbel probability paper"
   ]
  },
  {
   "cell_type": "markdown",
   "metadata": {},
   "source": [
    "**Task #5. Fill the code below to represent the Gumbel probability plot to assess the goodness of fit of GEV distribution to the extreme observations.**"
   ]
  },
  {
   "cell_type": "code",
   "execution_count": null,
   "metadata": {},
   "outputs": [],
   "source": [
    "obs_prob_plot_x = #Transformation of empirical F(x)\n",
    "obs_prob_plot_y = #Corresponding observations of the variable\n",
    "\n",
    "theor_prob_plot_x = -np.log(-np.log(GEV_p))\n",
    "theor_prob_plot_y = GEV_H\n",
    "\n",
    "fig, axs = plt.subplots(1, 1)\n",
    "axs.scatter(obs_prob_plot_x, obs_prob_plot_y, 40, 'k', label = 'Empirical cdf')\n",
    "axs.plot(theor_prob_plot_x, theor_prob_plot_y, 'r', label = 'Fitted GEV')\n",
    "axs.set_title('Gumbel probability plot')\n",
    "axs.set_xlabel('$-\\ln(-\\ln F(x))$')\n",
    "axs.set_ylabel('${H_s (m)}$')\n",
    "fig.set_size_inches(6, 6)\n",
    "axs.grid()\n",
    "axs.legend()"
   ]
  },
  {
   "attachments": {},
   "cell_type": "markdown",
   "metadata": {},
   "source": [
    "### 3.3. Is it a good fit?"
   ]
  },
  {
   "cell_type": "markdown",
   "metadata": {},
   "source": [
    "Goodness of fit techniques support us in the decision process to determine if a probability distribution is a good approximation to our observations. Now, it is your turn to apply your critical thinking to determine if GEV distribution is a good fit to the extreme observations.\n",
    "\n",
    "**Task #6. Is GEV distribution a good model for the extreme observations? Explain your answer.**"
   ]
  },
  {
   "cell_type": "code",
   "execution_count": null,
   "metadata": {},
   "outputs": [],
   "source": [
    "'''\n",
    "Your answer here\n",
    "'''"
   ]
  }
 ],
 "metadata": {
  "kernelspec": {
   "display_name": "Python 3.9.15 ('gurobi')",
   "language": "python",
   "name": "python3"
  },
  "language_info": {
   "codemirror_mode": {
    "name": "ipython",
    "version": 3
   },
   "file_extension": ".py",
   "mimetype": "text/x-python",
   "name": "python",
   "nbconvert_exporter": "python",
   "pygments_lexer": "ipython3",
   "version": "3.9.15"
  },
  "varInspector": {
   "cols": {
    "lenName": 16,
    "lenType": 16,
    "lenVar": 40
   },
   "kernels_config": {
    "python": {
     "delete_cmd_postfix": "",
     "delete_cmd_prefix": "del ",
     "library": "var_list.py",
     "varRefreshCmd": "print(var_dic_list())"
    },
    "r": {
     "delete_cmd_postfix": ") ",
     "delete_cmd_prefix": "rm(",
     "library": "var_list.r",
     "varRefreshCmd": "cat(var_dic_list()) "
    }
   },
   "types_to_exclude": [
    "module",
    "function",
    "builtin_function_or_method",
    "instance",
    "_Feature"
   ],
   "window_display": false
  },
  "vscode": {
   "interpreter": {
    "hash": "098d4ab94707d4f72ea30c2acaf235a8192ee135ed70edd9eae5ffbad5e55958"
   }
  }
 },
 "nbformat": 4,
 "nbformat_minor": 4
}
