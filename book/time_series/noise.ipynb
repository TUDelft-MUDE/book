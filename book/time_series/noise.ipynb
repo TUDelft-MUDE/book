{
 "cells": [
  {
   "cell_type": "markdown",
   "metadata": {},
   "source": [
    "(noiseandstoch)=\n",
    "# Noise and stochastic model\n",
    "The code on this page can be used interactively: click {fa}`rocket` --> {guilabel}`Live Code` in the top right corner, then wait until the message {guilabel}`Python interaction ready!` appears.\n",
    "\n",
    "In the previous section you have learned about the different components that can be present in a time series. Removing all these component, i.e. the functional model, we will be left with the residual term $\\epsilon(t)$. In this section we will take a closer look at the difference between signal and noise, and introduce other types of noise than the traditional white noise.\n",
    "\n",
    "## Additional concepts\n",
    "\n",
    "In [Signal Processing](SP) the data is just considered to be the signal of interest, whereas here we assume the data is \"contaminated\" with noise, i.e.\n",
    "\n",
    "$$Y = \\text{signal} + \\text{noise} $$\n",
    "\n",
    "Time series analysis means understanding patterns and, hence, extracting the **signal of interest** from the noisy data.\n",
    "\n",
    "### Signal and noise\n",
    "\n",
    "How can we describe both signal and noise?\n",
    "\n",
    "* **Signal** - the meaningful information that we want to detect: deterministic characteristics by means of mathematical expressions to capture for example trend, seasonality and offsets.\n",
    "\n",
    "* **Noise** - random and undesired fluctuation that interferes with the signal: stochastic process are needed to describe this. Parts of the time-correlated noise  needs to be accounted for in prediction, see later {ref}`AR`. \n",
    "\n",
    "The example in {numref}`signal_noise` shows that the *signal* can be described by $\\cos(2\\pi t f) + \\sin(2\\pi t f)$. The stochastic model (assuming independent normally distributed observations) would be a scaled identity matrix with variance equal to 1 (middle panel) and 9 (bottom panel), respectively. The signal of interest has been entirely hidden in the background noise in the bottom panel. Techniques from signal processing can be used to detect the frequency.\n",
    "\n",
    "```{figure} ./figs/signal_noise.png\n",
    ":name: signal_noise\n",
    ":width: 600px\n",
    ":align: center\n",
    "\n",
    "Example of a time series (top graph) affected by noise with different strengths (middle and bottom figures). Note the different scales on the vertical axes.\n",
    "```\n",
    "\n",
    "#### Signal to noise ratio\n",
    "In signal processing the signal to noise ratio is commonly used to report on the amount of noise present in the model. If we analyze the model $Y = signal + noise$, then Y is a random variable with $E[Y] = E[signal] = \\mu$, and its variance $D(Y) = D(noise) = \\sigma^2$. Using this the signal to noise ratio is often defined as:\n",
    "\n",
    "$$ SNR = \\frac{\\mu}{\\sigma}$$\n",
    "<!-- or alternatively as:\n",
    "\n",
    "$$ SNR = \\frac{\\mu^2}{\\sigma^2}$$ -->\n",
    "\n",
    "The signal to noise ratio is a measure of how much the signal stands out from the noise. The higher the signal to noise ratio, the more the signal stands out from the noise. Better equipment or more data can increase the signal to noise ratio.\n",
    "\n",
    "## Different types of noise\n",
    "In the ideal case, when the signal is removed, you are left with white noise. A white noise stochastic model has the following properties:\n",
    "\n",
    "$$\n",
    "\\mathbb{E}(Y) =  \\mathbb{E} \\left[\\begin{array}{c} y_1 \\\\ y_2 \\\\ \\vdots \\\\ y_m \\end{array}\\right] = \\left[\\begin{array}{c} 0 \\\\ 0 \\\\ \\vdots \\\\ 0 \\end{array}\\right]\n",
    "$$\n",
    "\n",
    "and \n",
    "\n",
    "$$\n",
    "\\mathbb{D}(Y) =  \\Sigma_{Y} = \\sigma^2 \\left[\\begin{array}{ccc} 1 & 0 & \\ldots{} & 0 \\\\ 0 & 1 & \\ldots{} & 0 \\\\ \\vdots & \\vdots & \\ddots & \\vdots \\\\ 0 & 0 & \\ldots{} & 1 \\end{array}\\right]\n",
    "$$\n",
    "Most notable, all observations are uncorrelated (off-diagonal elements of the covariance matrix are equal to 0). When we compute the PSD, the resulting density will be flat over the entire range of frequencies. In other words, a white noise process has equal energy over all frequencies, just like white light. We will show this in the interactive plot at the bottom of this page.\n",
    "\n",
    "### Colored noise\n",
    "In time series it is not guarantied that the individual observations are uncorrelated. At the bottom of this page you will find an interactive plot. You can select four different types of noise: white, pink, red and blue. The noise processes are plotted in combination with the PSD. The PSD #TODO(add ref to psd)is a measure of the power of the signal at different frequencies. The white noise process has a flat PSD, while the other noise processes have a different shape. The pink noise process has a PSD that decreases with frequency, the red noise process has a PSD that decreases quadratically  with frequency, and the blue noise process has a PSD that increases with frequency. \n",
    "\n"
   ]
  },
  {
   "cell_type": "code",
   "execution_count": 20,
   "metadata": {
    "tags": [
     "auto-execute-page",
     "thebe-remove-input-init"
    ]
   },
   "outputs": [],
   "source": [
    "## create a white noise signal and plot it\n",
    "import numpy as np  \n",
    "import matplotlib.pyplot as plt\n",
    "import ipywidgets as widgets\n",
    "\n",
    "# create a white noise signal\n",
    "np.random.seed(0)\n",
    "N = 1000\n",
    "x = np.random.randn(N)\n",
    "\n",
    "# Function to generate pink noise\n",
    "def pink_noise(N):\n",
    "    uneven = N % 2\n",
    "    X = np.random.randn(N//2+1+uneven) + 1j * np.random.randn(N//2+1+uneven)\n",
    "    S = np.sqrt(np.arange(len(X)) + 1.)  # +1 to avoid divide by zero\n",
    "    y = (np.fft.irfft(X/S)).real\n",
    "    if uneven:\n",
    "        y = y[:-1]\n",
    "    return y\n",
    "\n",
    "# Function to generate red (brown) noise\n",
    "def red_noise(N):\n",
    "    return np.cumsum(np.random.randn(N))\n",
    "\n",
    "# Function to generate blue noise\n",
    "def blue_noise(N):\n",
    "    uneven = N % 2\n",
    "    X = np.random.randn(N//2+1+uneven) + 1j * np.random.randn(N//2+1+uneven)\n",
    "    S = np.sqrt(np.arange(len(X)))  # no +1 here\n",
    "    y = (np.fft.irfft(X*S)).real\n",
    "    if uneven:\n",
    "        y = y[:-1]\n",
    "    return y\n",
    "# BEGIN: white_noise function\n",
    "def white_noise(N):\n",
    "    return np.random.randn(N)\n",
    "\n",
    "\n",
    "# Generate different noise signals\n",
    "pink = pink_noise(N)\n",
    "red = red_noise(N)\n",
    "blue = blue_noise(N)\n",
    "x = white_noise(N)\n"
   ]
  },
  {
   "cell_type": "code",
   "execution_count": 21,
   "metadata": {
    "tags": [
     "thebe-remove-input-init",
     "auto-execute-page"
    ]
   },
   "outputs": [
    {
     "data": {
      "application/vnd.jupyter.widget-view+json": {
       "model_id": "fd052dd2ce6a4a3087fe78cee870785d",
       "version_major": 2,
       "version_minor": 0
      },
      "text/plain": [
       "interactive(children=(Dropdown(description='Noise Type:', index=3, options=('Pink Noise', 'Red Noise', 'Blue N…"
      ]
     },
     "execution_count": 21,
     "metadata": {},
     "output_type": "execute_result"
    }
   ],
   "source": [
    "noise_options = ['Pink Noise', 'Red Noise', 'Blue Noise', 'White Noise']\n",
    "\n",
    "# Create a dropdown menu for noise types\n",
    "dropdown = widgets.Dropdown(\n",
    "    options=noise_options,\n",
    "    value='White Noise',\n",
    "    description='Noise Type:',\n",
    ")\n",
    "\n",
    "# Function to update the plot based on selected noise type\n",
    "def update_plot_dropdown(noise_type):\n",
    "\n",
    "    plt.figure(figsize=(12, 4))\n",
    "    plt.subplot(2, 1, 1)\n",
    "    \n",
    "    if noise_type == 'Pink Noise':\n",
    "        plt.plot(pink, label='Pink Noise')\n",
    "    elif noise_type == 'Red Noise':\n",
    "        plt.plot(red, label='Red Noise')\n",
    "    elif noise_type == 'Blue Noise':\n",
    "        plt.plot(blue, label='Blue Noise')\n",
    "    elif noise_type == 'White Noise':\n",
    "        plt.plot(x, label='White Noise')\n",
    "    \n",
    "    plt.title(f'{noise_type} Signal')\n",
    "    plt.xlabel('Time Index')\n",
    "    plt.ylabel('Amplitude')\n",
    "    plt.legend()\n",
    "    plt.grid()\n",
    "    \n",
    "    plt.subplot(2, 1, 2)\n",
    "    if noise_type == 'Pink Noise':\n",
    "        plt.psd(pink, NFFT=2048, Fs=1, color='r', label='Pink Noise')\n",
    "    elif noise_type == 'Red Noise':\n",
    "        plt.psd(red, NFFT=2048, Fs=1, color='r', label='Red Noise')\n",
    "    elif noise_type == 'Blue Noise':\n",
    "        plt.psd(blue, NFFT=2048, Fs=1, color='r', label='Blue Noise')\n",
    "    elif noise_type == 'White Noise':\n",
    "        plt.psd(x, NFFT=2048, Fs=1, color='r', label='White Noise')\n",
    "\n",
    "    # plt.yscale('log')\n",
    "    plt.show()\n",
    "\n",
    "widgets.interactive(update_plot_dropdown, noise_type=dropdown)"
   ]
  },
  {
   "cell_type": "markdown",
   "metadata": {},
   "source": [
    "```{note}\n",
    "If you are interested, you can read more about the different types of noise in the [Wikipedia article](https://en.wikipedia.org/wiki/Colors_of_noise). In here you can also listen to the different types of noise, which might give you a better understanding of the differences.\n",
    "```"
   ]
  }
 ],
 "metadata": {
  "kernelspec": {
   "display_name": "TAMude",
   "language": "python",
   "name": "python3"
  },
  "language_info": {
   "codemirror_mode": {
    "name": "ipython",
    "version": 3
   },
   "file_extension": ".py",
   "mimetype": "text/x-python",
   "name": "python",
   "nbconvert_exporter": "python",
   "pygments_lexer": "ipython3",
   "version": "3.12.5"
  }
 },
 "nbformat": 4,
 "nbformat_minor": 2
}
