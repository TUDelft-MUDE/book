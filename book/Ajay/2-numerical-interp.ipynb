{
 "cells": [
  {
   "cell_type": "markdown",
   "metadata": {},
   "source": [
    "# Interpolation and Numerical Integration"
   ]
  },
  {
   "cell_type": "markdown",
   "metadata": {},
   "source": [
    "**Important things to retain from this block:**\n",
    "* Understanding how to compute a polynomial reconstruction of a function given some points\n",
    "* Knowing how to apply different discrete integration techniques\n",
    "* Having a slight idea on how the truncation errors change from technique to technique (and keeping in mind the difference between their order of magnitude for Riemann integration and for the two other techniques)\n",
    "```"
   ]
  },
  {
   "cell_type": "markdown",
   "metadata": {},
   "source": [
    "## Lagrange Interpolation"
   ]
  },
  {
   "cell_type": "markdown",
   "metadata": {},
   "source": [
    "Imagine we have a function on the mesh, where we know $n$ points from it, such that\n",
    "\n",
    "$$f\\cong(f_1,f_2,...,f_n)$$\n",
    "\n",
    "where $f_k = f(x_k)$ with $k=1,2,...,n$. We can build a polynomial reconstruction of the function according to\n",
    "\n",
    "$$P_{n-1}(x) = \\sum_{k=1}^nf_k\\dfrac{(x-x_1)...(x-x_{k-1})(x-x_{k+1})...(x-x_n)}{(x_k-x_1)...(x_k-x_{k-1})(x_k-x_{k+1})...(x_k-x_n)}$$\n",
    "\n",
    "with interpolation errors given by\n",
    "\n",
    "$$f(x) - P_{n-1}(x,f) = \\frac{1}{n!}f^{(n)}(\\xi)(x-x_1)...(x-x_n)$$\n",
    "\n",
    "Of course, when we have more and more known points, we will only need lower orders of interpolation, as a linear fit to two really close points, for example, would usually fit quite well our data."
   ]
  },
  {
   "cell_type": "markdown",
   "metadata": {},
   "source": [
    "## Discrete Integration"
   ]
  },
  {
   "cell_type": "markdown",
   "metadata": {},
   "source": [
    "For an integration of a general arbitrary function $f(x)$ over an interval $(a,b)$, we can use polynomial representation. How does discrete integration work then?\n",
    "\n",
    "* First, we split the interval of integration (a,b) on several partial intervals, such that\n",
    "\n",
    "$$a=x_1<x_2<...<x_{n+1}=b$$\n",
    "\n",
    "* Then, we replace $f(x)$ by the interpolation polynomial that we got between two consecutive points $(x_i, x_{i+1})$ and calculate the integral over it (the area under the interpolation polynomial), $J(x_i,x_{i+1};f)$\n",
    "\n",
    "* We do this for all the consecutive partial intervals in which we have divided our integration region\n",
    "\n",
    "* Sum up all the contributions and find the value for $J(a,b;f)$!"
   ]
  },
  {
   "cell_type": "markdown",
   "metadata": {},
   "source": [
    "### Left Riemann Integration\n",
    "\n",
    "One of the possible ways of computing integration discretely is by computing the so-called Riemann integral. To do so, we can either do it by left or right Riemann integration. The differences are significantly easy to perceive, as the **left** integration basically assumes the value of the function in the lower end point of the partial interval under analysis, and the **right** does exactly the opposite.\n",
    "\n",
    "Therefore, we get the left Riemann integration formula given by\n",
    "\n",
    "$$J(a, b; f) = \\int_{a}^{b} f(x) \\, dx \\approx \\Delta x \\sum_{i=0}^{n-1} f(i \\cdot \\Delta x), \\quad \\Delta x = \\frac{b - a}{n}\n",
    "$$\n",
    "\n",
    "### Right Riemann Integration\n",
    "\n",
    "<img src=\"right_riemann.png\" width=250px></img>\n",
    "\n",
    ![](right_riemann.png)
    "In an analogous way, we can trivially get the formula for the right Riemann integration as (note the difference in the starting and end point of the summation):\n",
    "\n",
    "$$J(a, b; f) = \\int_{a}^{b} f(x) \\, dx \\approx \\Delta x \\sum_{i=0}^{n-1} f((i+1) \\cdot \\Delta x), \\quad \\Delta x = \\frac{b - a}{n}$$\n",
    "\n",
    "### Midpoint Rule\n",
    "\n",
    "<img src=\"midpoint.png\" width=250px></img>\n",
    "\n",
    "By the midpoint rule, as the name says, we get the value of the midpoint between the two end points of each partial interval, such that:\n",
    "\n",
    "$$J(a, b; f) = \\int_{a}^{b} f(x) \\, dx \\approx \\sum_{i=1}^{n} f(x_{mi}) \\cdot \\Delta x, \\quad \\Delta x = \\frac{b - a}{n}, \\quad x_{mi} = \\left(i - \\frac{1}{2}\\right) \\Delta x\n",
    "$$\n",
    "\n",
    "### Trapezoidal Rule\n",
    "\n",
    "<img src=\"trapezoidal.png\" width=275px></img>\n",
    "\n",
    "As the name says, it consists in nothing more than computing the area of a trapezoid, where the bases are the values assumed by the function in the end points of each of the partial intervals, and its height is just the difference between two consecutive points. Therefore:\n",
    "\n",
    "$$J(a, b; f) = \\int_{a}^{b} f(x) \\, dx \\approx \\sum_{i=1}^{n} \\frac{f(x_{i-1}) + f(x_i)}{2} \\cdot \\Delta x, \\quad \\Delta x = \\frac{b - a}{n}, \\quad x_i = i \\cdot \\Delta x\n",
    "$$\n",
    "\n",
    "\n",
    "### Simpson’s Rule\n",
    "\n",
    "<img src=\"Simpson's.png\" width=400px height = 400px></img>\n",
    "\n",
    "Simpson’s rule computes the integral of the function f(x) by piecewise fitting parabolas through every set of three consecutive function points and adding the areas under them (see p1(x) and p2(x) in the figure). In formula form:\n",
    "\n",
    "\n",
    "$$J(a, b; f) = \\int_{a}^{b} f(x) \\, dx \\approx \\sum_{i=1}^{\\frac{n}{2}} \\frac{f(x_{2i-2}) + 4f(x_{2i-1}) + f(x_{2i})}{3} \\Delta x, \\quad \\Delta x = \\frac{b - a}{n}, \\quad x_i = i \\cdot \\Delta x\n",
    "$$\n",
    "\n",
    "\n",
    "### Gauss’s Rule\n",
    "\n",
    "This rule, also called Gauss integration, is used by Finite Element applications, such as ABAQUS, Ansys and Diana, to perform integrations over finite elements to compute internal forces (the forces generated by the materials the finite elements consist of to balance the external applied forces). \n",
    "The rule computes the integral of polynomial functions f in the domain [-1,1]. Therefore, the lower and upper bound a and b of the integral must be first linearly mapped onto the [-1,1] domain.\n",
    "After the mapping has been performed the integral can be computed by evaluating the function f in specific points, Gauss points. Then those function values are multiplied with their corresponding weights and summed.\n",
    "The Gauss points are the roots of the Gauss-Legendre polynomial of a certain order n. For every of these roots the corresponding weight can be calculated.\n",
    "\n",
    "$$J(a, b; f) = \\int_{-1}^{1} f(x) \\, dx \\approx \\sum_{i=1}^{N} w_i \\cdot f(x_i)$$\n",
    "\n",
    "where $x_i$ are the Gauss points and $w_i$ the corresponding weights.\n",
    "A table of Gauss points and weights is now presented. The variable $n$ indicates the order of the Gauss-Legendre polynomial used.\n",
    "\n",
    "<img src=\"table.png\" width=500px, height=500px></img>\n",
    "\n"
   ]
  },
  {
   "cell_type": "markdown",
   "metadata": {},
   "source": [
    "### Truncation Errors\n",
    "\n",
    "Following the formula presented above for the truncation errors\n",
    "\n",
    "$$f(x)-P_{n-1}(x;f(x)) = \\frac{1}{n!}f^{(n)}(\\xi)(x-x_1)...(x-x_n)$$\n",
    "\n",
    "then the errors associated with each of the methods previously presented are given by:\n",
    "\n",
    "**Left Riemann Integration**\n",
    "$$|J(x_i,x_{i+1};f_i)-f(x_i)\\Delta x|\\leq\\frac{1}{2}|f'(x)|\\Delta x$$\n",
    "\n",
    "**Right Riemann Integration**\n",
    "$$|J(x_i,x_{i+1};f_i)-f(x_i)\\Delta x|\\leq\\frac{1}{2}|f'(x)|\\Delta x$$\n",
    "\n",
    "**Midpoint Rule**\n",
    "$$\\left|J(x_i,x_{i+1};f_i)-f\\left(x_i+\\frac{\\Delta x}{2}\\right)\\Delta x\\right|\\leq\\frac{1}{24}|f''(x)|\\Delta x^2$$\n",
    "\n",
    "**Trapezoidal Rule**\n",
    "$$\\left|J(x_i,x_{i+1};f_i)-\\frac{f(x_{i+1})+f(x_i)}{2}\\Delta x\\right|\\leq\\frac{1}{12}|f''(x)|\\Delta x^2$$\n",
    "\n",
    "**Simpson’s Rule**\n",
    "$$\\left| J(x_{2i-2}, x_{2i-1}, x_{2i}; f_i) - \\frac{f(x_{2i-2}) + 4f(x_{2i-1}) + f(x_{2i})}{3} \\Delta x \\right| \\leq \\frac{1}{180} |f^{(4)}(x)| \\Delta x^2\n",
    "$$\n",
    "\n",
    "As we can see, for the left and right Riemann integration techniques we find errors $\\sim \\dfrac{1}{n}$, while for the midpoint and trapezoidal rules, we find them $\\sim\\dfrac{1}{n^2}$\n",
    "\n",
    "\n",
    "\n",
    "\n",
    "\n",
    "\n"
   ]
  },
  {
   "cell_type": "code",
   "execution_count": null,
   "metadata": {},
   "outputs": [],
   "source": []
  }
 ],
 "metadata": {
  "kernelspec": {
   "display_name": "Python 3 (ipykernel)",
   "language": "python",
   "name": "python3"
  },
  "language_info": {
   "codemirror_mode": {
    "name": "ipython",
    "version": 3
   },
   "file_extension": ".py",
   "mimetype": "text/x-python",
   "name": "python",
   "nbconvert_exporter": "python",
   "pygments_lexer": "ipython3",
   "version": "3.9.12"
  }
 },
 "nbformat": 4,
 "nbformat_minor": 2
}
