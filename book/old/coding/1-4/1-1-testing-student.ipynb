{
 "cells": [
  {
   "attachments": {},
   "cell_type": "markdown",
   "metadata": {
    "id": "007deVPLKGZ_"
   },
   "source": [
    "# Notebook 1.4-2-1: Debugging in Python: exceptions, assertions and logging"
   ]
  },
  {
   "cell_type": "markdown",
   "metadata": {
    "id": "3Px0hzakKGaC"
   },
   "source": [
    "## Contents\n",
    "- [Introduction](#Introduction)\n",
    "- [Why are we doing testing](#Why-are-we-doing-testing)\n",
    "- [What is debugging](#What-is-debugging)\n",
    "- [Types of errors](#Types-of-errors)\n",
    "- [Raising errors](#Raising-errors)\n",
    "- [Handling errors](#try_except)\n",
    "- [Assertions](#Assertions)\n",
    "- [Logging](#Logging)\n",
    "- [Exercises](#Exercises)\n",
    "- [References and used resources](#References-and-used-resources)"
   ]
  },
  {
   "cell_type": "markdown",
   "metadata": {
    "id": "MsaSx-l2KGaD"
   },
   "source": [
    "## Introduction\n",
    "Welcome to the workshop on software testing with Python - debugging, assertions, errors and exceptions.\n",
    "\n",
    "Some of the sections are marked as **\\[Optional\\]**. Those parts are not mandatory to study and if you wish, you may skip them."
   ]
  },
  {
   "cell_type": "markdown",
   "metadata": {
    "id": "c1GYTSzyKGaD"
   },
   "source": [
    "## Why are we doing testing\n",
    "Testing our code is necessary, because we as humans all make mistakes. Some of our mistakes may not be that important, but some can be dangeours and harmful. There are numerous examples of the latter such as the explosion of the Ariane 5 rocket or the problem with NASA’s Mars Climate Orbiter. You can read more on these examples [here](https://medium.com/swlh/some-of-the-most-famous-bugs-in-software-history-bb16a2ee3f8e). Testing our code for hidden flaws is the first step towards ensuring that the programs we write are robust.\n",
    "\n",
    "<p align=\"center\">\n",
    "<img src=\"https://static.wixstatic.com/media/cfc1ef_55f398d6fbdb418ea4970567251efe6a.png/v1/fill/w_680,h_476,al_c,q_95/cfc1ef_55f398d6fbdb418ea4970567251efe6a.webp\" width=\"40%\" \n",
    "     alt=\"Mars Climate Orbiter disaster - cartoon\"/>\n",
    "</p>     \n",
    "<figcaption align = \"left\"><b>A depiction of the NASA's Mars Climate Orbiter disaster. The incongruence in the units used by scientists at NASA (metric unit) and Lockheed Martin (US customary units) led the space probe too close to the planet. It was either destroyed in the atmosphere or escaped the planet's vicinity and entered an orbit around the Sun. (Source: Unleesh.com).</b></figcaption>"
   ]
  },
  {
   "cell_type": "markdown",
   "metadata": {},
   "source": [
    "## What is debugging\n",
    "\n",
    "Debugging is the process of identifying code-related problems (bugs) by analysing the behaviour of the program we have written. Testing and debugging are complementary to one another. Testing is used to identify a bug, while debugging is used to fix a bug."
   ]
  },
  {
   "cell_type": "markdown",
   "metadata": {
    "id": "A38ex8i9KGaE"
   },
   "source": [
    "## Types of errors\n",
    "Essentially there are 3 types of errors:\n",
    "- Syntax errors\n",
    "- Exceptions\n",
    "- Logical errors"
   ]
  },
  {
   "cell_type": "markdown",
   "metadata": {
    "id": "a7Ky1orxKGaE"
   },
   "source": [
    "### Syntax errors\n",
    "Syntax errors are the most common for beginner developers. When an error happenes, Python parser will show in which line it is and point to it in the code with an arrow `^`. Run the code snippet below for an example:"
   ]
  },
  {
   "cell_type": "code",
   "execution_count": null,
   "metadata": {
    "id": "XtUcAiekKGaF",
    "scrolled": true
   },
   "outputs": [],
   "source": [
    "if 5 > 3:\n",
    "    print(\"5 is bigger than 3\")\n",
    "else\n",
    "    print(\"3 is bigger than 5\")"
   ]
  },
  {
   "cell_type": "markdown",
   "metadata": {
    "id": "lR__HQhAKGaG"
   },
   "source": [
    "### Exceptions\n",
    "Exceptions are errors that appear during the code execution. Developers can create exceptions themselves as well and raise them during code execution. Below you will find several examples of exceptions:\n",
    "\n"
   ]
  },
  {
   "cell_type": "code",
   "execution_count": null,
   "metadata": {
    "colab": {
     "base_uri": "https://localhost:8080/",
     "height": 166
    },
    "id": "cQ6ICUajKGaG",
    "outputId": "3a576f96-76de-4143-9beb-0155a59c8545"
   },
   "outputs": [],
   "source": [
    "16 / 0"
   ]
  },
  {
   "cell_type": "code",
   "execution_count": null,
   "metadata": {
    "colab": {
     "base_uri": "https://localhost:8080/",
     "height": 166
    },
    "id": "5bRsO_ZZKGaH",
    "outputId": "91911d8a-0d0d-49fa-a6a1-db0c79cf4e40"
   },
   "outputs": [],
   "source": [
    "2 + \"3\""
   ]
  },
  {
   "cell_type": "code",
   "execution_count": null,
   "metadata": {
    "colab": {
     "base_uri": "https://localhost:8080/",
     "height": 166
    },
    "id": "RJJc0hkfKGaH",
    "outputId": "8b54f38b-157a-4a58-e6b9-53e94a9e5766"
   },
   "outputs": [],
   "source": [
    "2 * pi * r ** 2"
   ]
  },
  {
   "cell_type": "markdown",
   "metadata": {
    "id": "_vz7WivxlPdM"
   },
   "source": [
    "As you see in the examples above, we have encountered 3 different types of exceptions - `ZeroDivisionError`, `TypeError` and `NameError`. A nice thing about Python is that it tells us the specific type of exception we are dealing it. This is very helpful for the developers to figure out the cause of the raised exceptions. \n",
    "\n",
    "For more exception types, you can have a look at the official Python [documentation](https://docs.python.org/3/library/exceptions.html#exception-hierarchy). Keep in mind, that you are not required to understand the cause of every exception, but rather the importance of having different types of exceptions."
   ]
  },
  {
   "cell_type": "markdown",
   "metadata": {
    "id": "OCPsJhogKGaH"
   },
   "source": [
    "### Logical errors\n",
    "Logical errors are generally the most difficult to discover, because they can be invisible to the developer. Logical errors can exist without raising an exception or an error. Particular examples of logical errors are:\n",
    "- using the wrong variable name\n",
    "- indenting a block to the wrong level\n",
    "- using integer division instead of floating-point division\n",
    "- getting operator precedence wrong\n",
    "- making a mistake in a boolean expression\n",
    "- forgetting to add an `else` statement to an `if` clause\n",
    "- off-by-one, and other numerical errors"
   ]
  },
  {
   "cell_type": "markdown",
   "metadata": {
    "id": "EHZ2Lw8lwIIu"
   },
   "source": [
    "Here is a brief example of using integer division instead of floating-point division:\n",
    "\n",
    "Consider you have to compute speed from distance and time using the basic formula $speed=\\frac{distance}{time}$. Here is the correct version, using floating-point division:"
   ]
  },
  {
   "cell_type": "code",
   "execution_count": null,
   "metadata": {
    "colab": {
     "base_uri": "https://localhost:8080/"
    },
    "id": "-Lf0ZcPyewGK",
    "outputId": "a4702af5-28ad-4bcf-84ce-c76052e87009"
   },
   "outputs": [],
   "source": [
    "distance = 10            # m\n",
    "time = 3.63              # s\n",
    "\n",
    "speed = distance / time    # m/s\n",
    "print('Speed = ', speed)"
   ]
  },
  {
   "cell_type": "markdown",
   "metadata": {
    "id": "yK1zMKjMg7uj"
   },
   "source": [
    "If we use integer division by mistake, the result is incorrect:"
   ]
  },
  {
   "cell_type": "code",
   "execution_count": null,
   "metadata": {
    "colab": {
     "base_uri": "https://localhost:8080/"
    },
    "id": "LNW9_o0RfD5H",
    "outputId": "8a332324-c52f-461c-c07a-acfbd0f0aaff"
   },
   "outputs": [],
   "source": [
    "distance = 10            # m\n",
    "time = 3.63              # s\n",
    "\n",
    "speed = distance // time    # m/s\n",
    "print('Speed = ', speed)"
   ]
  },
  {
   "cell_type": "markdown",
   "metadata": {},
   "source": [
    "The difference between the 2 results is nearly 0.75, which can be very high depending on its use."
   ]
  },
  {
   "cell_type": "markdown",
   "metadata": {
    "id": "NtwnyevOKGaI"
   },
   "source": [
    "## Raising errors\n",
    "When writing good code, it is beneficial to raise exceptions yourself if you are provided with incorrect input. <br>\n",
    "Consider the example method `calculate_weight` below, which calculates the weight of an object, given that we know its density and volume:\n"
   ]
  },
  {
   "cell_type": "code",
   "execution_count": null,
   "metadata": {
    "id": "4lIKrgdHKGaI"
   },
   "outputs": [],
   "source": [
    "def calculate_weight(density, volume):\n",
    "    \"\"\"\n",
    "    Calculates weight of an object, given its density and volume.\n",
    "\n",
    "    Args:\n",
    "        density (int): Density of an object.\n",
    "        volume (int): Volume of an object.\n",
    "\n",
    "    Returns:\n",
    "        int: Weight of an object.\n",
    "    \"\"\"\n",
    "    return density * volume"
   ]
  },
  {
   "cell_type": "code",
   "execution_count": null,
   "metadata": {
    "colab": {
     "base_uri": "https://localhost:8080/"
    },
    "id": "Fm-3aNPGKGaJ",
    "outputId": "e3337b84-093d-481a-8665-f9f0b973bb87"
   },
   "outputs": [],
   "source": [
    "calculate_weight(3, 10)"
   ]
  },
  {
   "cell_type": "code",
   "execution_count": null,
   "metadata": {
    "colab": {
     "base_uri": "https://localhost:8080/"
    },
    "id": "63lepR2bKGaJ",
    "outputId": "6af6c25b-6fcb-4c60-8df0-88424535ecfe"
   },
   "outputs": [],
   "source": [
    "calculate_weight(-4, 5)"
   ]
  },
  {
   "cell_type": "markdown",
   "metadata": {
    "id": "K_JIFPyyKGaJ"
   },
   "source": [
    "If we provide invalid input such as negative density or volume, the method will still give us an answer, because it is following a formula. However, using that incorrect calculation can be harmful in applications. Therefore, we can raise exceptions ourselves using the keyword `raise`:"
   ]
  },
  {
   "cell_type": "code",
   "execution_count": null,
   "metadata": {
    "id": "YONMVLNBKGaJ"
   },
   "outputs": [],
   "source": [
    "def calculate_weight(density, volume):\n",
    "    \"\"\"\n",
    "    Calculates weight of an object, given its density and volume.\n",
    "\n",
    "    Args:\n",
    "        density (int): Density of an object.\n",
    "        volume (int): Volume of an object.\n",
    "\n",
    "    Returns:\n",
    "        int: Weight of an object.\n",
    "\n",
    "    Raises:\n",
    "        ValueError: if density or volume are negative values.\n",
    "    \"\"\"\n",
    "    if density < 0:\n",
    "        raise ValueError(\n",
    "            \"Invalid density. Density parameter can only take positive numbers\"\n",
    "        )\n",
    "    if volume < 0:\n",
    "        raise ValueError(\n",
    "            \"Invalid volume. Volume parameter can only take positive numbers\"\n",
    "        )\n",
    "    return density * volume"
   ]
  },
  {
   "cell_type": "code",
   "execution_count": null,
   "metadata": {
    "colab": {
     "base_uri": "https://localhost:8080/"
    },
    "id": "FUNKyi3yKGaK",
    "outputId": "baa26382-6cf7-4986-9c6e-07383351d96c"
   },
   "outputs": [],
   "source": [
    "calculate_weight(75, 5)"
   ]
  },
  {
   "cell_type": "code",
   "execution_count": null,
   "metadata": {
    "colab": {
     "base_uri": "https://localhost:8080/",
     "height": 288
    },
    "id": "Ea05bmnAKGaK",
    "outputId": "2aedb939-8647-4829-f6e9-37398ed0db2b"
   },
   "outputs": [],
   "source": [
    "calculate_weight(-4, 50)"
   ]
  },
  {
   "cell_type": "markdown",
   "metadata": {
    "id": "MNGDXMhlKGaK"
   },
   "source": [
    "## Handling errors: the `try - except` block <a id='try_except'></a>\n",
    "If exceptions are not handled properly, the application will crash during execution as we have seen in the examples above. As a result, handling exceptions is important, because we want to minimise application crashes.\n",
    "\n",
    "To handle exceptions, we can make use of `try - except` block, where we can catch exceptions and handle them in the way we wish. Thus, if an exception is *raised*, the application is not going to crash:"
   ]
  },
  {
   "cell_type": "code",
   "execution_count": null,
   "metadata": {
    "colab": {
     "base_uri": "https://localhost:8080/"
    },
    "id": "gSLDcuT0KGaK",
    "outputId": "1f779feb-93d5-4e8a-84dc-bef9d3d5cd0b"
   },
   "outputs": [],
   "source": [
    "weight = 0\n",
    "density = -40\n",
    "volume = 5\n",
    "\n",
    "try:\n",
    "    weight = calculate_weight(density, volume)\n",
    "except ValueError:\n",
    "    print(\"An exception occurred!\")"
   ]
  },
  {
   "cell_type": "markdown",
   "metadata": {
    "id": "4yh3DAL9KGaL"
   },
   "source": [
    "Note that if we do not handle the correct exception, one will still be raised. Therefore, it is very important that we catch the correct one based on our knowledge of which error can occur."
   ]
  },
  {
   "cell_type": "code",
   "execution_count": null,
   "metadata": {
    "id": "4akaUxJAKGaL"
   },
   "outputs": [],
   "source": [
    "weight = 0\n",
    "density = -40\n",
    "volume = 5\n",
    "\n",
    "try:\n",
    "    weight = calculate_weight(density, volume)\n",
    "except NameError:\n",
    "    print(\"An exception occurred!\")"
   ]
  },
  {
   "cell_type": "markdown",
   "metadata": {
    "id": "1-4ZSTVqKGaL"
   },
   "source": [
    "If we do not know what exception will be raised, we can use `except Exception`, which will handle any exception raised by the code inside the `try` clause block. (`Exception` is the super class that comprises all types of exceptions and errors; for the purpose of this activity, think of it as a generic error.):"
   ]
  },
  {
   "cell_type": "code",
   "execution_count": null,
   "metadata": {
    "id": "V1LEFgpJKGaM"
   },
   "outputs": [],
   "source": [
    "weight = 0\n",
    "density = -40\n",
    "volume = 5\n",
    "\n",
    "try:\n",
    "    weight = calculate_weight(density, volume)\n",
    "except Exception:\n",
    "    print(\"An exception occurred!\")"
   ]
  },
  {
   "cell_type": "markdown",
   "metadata": {},
   "source": [
    "## [Optional]: `else` and `finally`"
   ]
  },
  {
   "cell_type": "markdown",
   "metadata": {
    "id": "budDbUkUKGaM"
   },
   "source": [
    "There are 2 more clauses that we can add to our `try-except` block, namely `else` and `finally`:\n",
    "- `else` will be executed only if no exception is raised by the code in the `try` clause block. This is useful in case we want some code to be executed after successful completion of the `try` clause. For example, printing a message or sending a response to somebody.\n",
    "- `finally` will be executed all the time, regardless of whether an exception was raised or not. In practice this is mostly used to finish a process. For example, if you are reading from a file, it is customary to close the file when you finish reading from it.\n",
    "\n",
    "Study the example below, which shows the execution of `except` and `finally` clauses:"
   ]
  },
  {
   "cell_type": "code",
   "execution_count": null,
   "metadata": {
    "colab": {
     "base_uri": "https://localhost:8080/"
    },
    "id": "RnQCHCTvKGaM",
    "outputId": "7041f007-3f82-46b2-950f-8300e0ce16bb"
   },
   "outputs": [],
   "source": [
    "weight = 0\n",
    "density = -40\n",
    "volume = 5\n",
    "\n",
    "try:\n",
    "    weight = calculate_weight(density, volume)\n",
    "except Exception:\n",
    "    print(\"An exception occurred!\")\n",
    "else:\n",
    "    print(\n",
    "        f\"The weight of an object with density of {density} kg/m^3 and \"\n",
    "        f\"volume of {volume} m^3 is {weight} kg.\"\n",
    "    )\n",
    "finally:\n",
    "    print(\"Calculation finished!\")"
   ]
  },
  {
   "cell_type": "markdown",
   "metadata": {
    "id": "iD2ppphEKGaM"
   },
   "source": [
    "We will now use valid input to our function `calculate_weight` to show the execution of `try` and `else` clauses:"
   ]
  },
  {
   "cell_type": "code",
   "execution_count": null,
   "metadata": {
    "colab": {
     "base_uri": "https://localhost:8080/"
    },
    "id": "mWR17MQUKGaM",
    "outputId": "718a7c81-9aa5-4170-f1e8-22978ede9858"
   },
   "outputs": [],
   "source": [
    "weight = 0\n",
    "density = 7870\n",
    "volume = 40\n",
    "\n",
    "try:\n",
    "    weight = calculate_weight(density, volume)\n",
    "except Exception:\n",
    "    print(\"An exception occurred!\")\n",
    "else:\n",
    "    print(\n",
    "        f\"The weight of an object with density of {density} kg/m^3 and \"\n",
    "        f\"volume of {volume} m^3 is {weight} kg.\"\n",
    "    )\n",
    "finally:\n",
    "    print(\"Calculation finished!\")"
   ]
  },
  {
   "cell_type": "markdown",
   "metadata": {
    "id": "R8u5QgQ8KGaN"
   },
   "source": [
    "It is also possible to interact with any exception object. Have a look at the example below, where `e` is the object of the raised exception:"
   ]
  },
  {
   "cell_type": "code",
   "execution_count": null,
   "metadata": {
    "colab": {
     "base_uri": "https://localhost:8080/"
    },
    "id": "92nUVRGTKGaN",
    "outputId": "9d397614-6c34-4bf4-f733-6474c34846a7"
   },
   "outputs": [],
   "source": [
    "weight = 0\n",
    "density = -40\n",
    "volume = 5\n",
    "\n",
    "try:\n",
    "    weight = calculate_weight(density, volume)\n",
    "except ValueError as e:\n",
    "    print(f\"An exception occurred: {e}\")"
   ]
  },
  {
   "cell_type": "markdown",
   "metadata": {
    "id": "tAPJ5RBLKGaN"
   },
   "source": [
    "It is possible to have multiple `except` statements in case you are expecting more than 1 type of exceptions to be raised. If an exception is raised, the first `except` clause that catches it will be evaluated.\n",
    "\n",
    "You may be wondering why should we handle multiple exceptions. Depending on the exception raised, we can set up different behaviour for our application. For example, if a `ZeroDivisionError`, the issue is most likely in the user providing arguments, so we could inform them about it specifically. However, if a `ValueError` is thrown, it may be related to our logic. In that case we should be able to investigate the cause of it. Handling different types of exceptions will be useful in the coming section: [Logging](#Logging)."
   ]
  },
  {
   "cell_type": "code",
   "execution_count": null,
   "metadata": {
    "colab": {
     "base_uri": "https://localhost:8080/"
    },
    "id": "CUdRB8lhKGaN",
    "outputId": "a506c063-be03-450a-8d0e-8ad91702a68d"
   },
   "outputs": [],
   "source": [
    "weight = 0\n",
    "density = -40\n",
    "volume = 5\n",
    "\n",
    "try:\n",
    "    weight = calculate_weight(density, volume)\n",
    "except ZeroDivisionError:\n",
    "    print(\"Division by zero exception was raised!\")\n",
    "except ValueError:\n",
    "    print(\"Value error exception was raised!\")\n",
    "except TypeError:\n",
    "    print(\"Type error exception was raised!\")"
   ]
  },
  {
   "cell_type": "markdown",
   "metadata": {
    "id": "UZBxJ8aVKGaN"
   },
   "source": [
    "## Assertions\n",
    "The main purpose of *assertions* is to catch logical errors: we need checks that verify that our code is working correctly.\n",
    "\n",
    "Assertions can be defined by the keyword `assert`. They take an expression that evaluates to a boolean and if its value is `False`, then an `AssertionError` is raised. We can set a message for the raised exception by providing it in the assertion.\n",
    "\n",
    "You can think of assertion statements `assert <condition>, <message>` as equivalent to:\n",
    "```python\n",
    "if not condition:\n",
    "  raise AssertionError(message)\n",
    "```"
   ]
  },
  {
   "cell_type": "markdown",
   "metadata": {
    "id": "oE0M7msBKGaO"
   },
   "source": [
    "Assertions are very useful for *unit testing* your code. A *unit* can be seen as the smallest piece of code that can be individually tested. In our case, this would mean testing a Python function.\n",
    "\n",
    "It is advisable to make one or multiple test functions that test your code and run those functions every time you make a modification to the *codebase* (i.e., all the code you develop). This can ensure that any new modifications to the existing code do not damage the previous functionalities.\n",
    "\n",
    "Below you can find a few examples, where we have correct assertions. Therefore, no exception is occurring. Note that setting a message is not mandatory, but highly recommended for debugging purposes:"
   ]
  },
  {
   "cell_type": "code",
   "execution_count": null,
   "metadata": {
    "id": "Oun9Es81KGaN"
   },
   "outputs": [],
   "source": [
    "assert calculate_weight(30, 10) == 300\n",
    "assert calculate_weight(70, 4) == 280, \"The weight of an object with density of 70 kg/m^3 and volume of 4 m^3 should be 280 kg.\"\n",
    "assert calculate_weight(12, 500) == 6000, \"The weight of an object with density of 12 kg/m^3 and volume of 500 m^3 should be 6000 kg.\""
   ]
  },
  {
   "cell_type": "markdown",
   "metadata": {
    "id": "QbgLd-lXKGaN"
   },
   "source": [
    "Below, there is an example of a failing assertion for a function converting Kelvin to Celsius. This assertion should trigger the developer into adjusting the value of the zero_point."
   ]
  },
  {
   "cell_type": "code",
   "execution_count": null,
   "metadata": {},
   "outputs": [],
   "source": [
    "def kelvin_to_celsius(kelvin_temperature):\n",
    "    \"\"\"\n",
    "    Conerts [K] into [°C]\n",
    "\n",
    "    Args:\n",
    "        kelvin_temperature (float): Temperature in [K]\n",
    "\n",
    "    Returns:\n",
    "        float: Temperature in [°C].\n",
    "    \"\"\"\n",
    "    zero_point = 273\n",
    "    return kelvin_temperature-zero_point\n",
    "\n",
    "assert kelvin_to_celsius(0)==-273.15, \"0 Kelvin are equal to -273.15 Celsius\""
   ]
  },
  {
   "cell_type": "markdown",
   "metadata": {
    "id": "3cWjOMlEKGaO"
   },
   "source": [
    "When writing tests we should focus on covering \"boundary\" values. Those are values that are part of a condition statement. For example, in the statement `if weight > 0`, the boundary value is 0. <br>\n",
    "\n",
    "By a rule of thumb, it is customary, to have at least 4 tests for every condition:\n",
    "- one that is on the boundary of condition and evaluates it to `True` (i.e. setting `weight` to 1)\n",
    "- one that is on the boundary and evaluates it to `False` (i.e. setting `weight` to 0)\n",
    "- one that is not on the boundary and evaluates to `True` (i.e. setting `weight` to 100)\n",
    "- one that is not on the boundary and evaluates to `False` (i.e. setting `weight` to -70)\n",
    "\n",
    "Moreover, you should try testing with different types as well. For example, floats or strings to observe the behaviour of your code. Finally, you could also consider testing edge cases, such as: infinity, zero, NAN, empty strings, etc."
   ]
  },
  {
   "cell_type": "markdown",
   "metadata": {
    "id": "jpUmYkFrKGaO"
   },
   "source": [
    "Below you can find several examples of tests for boundary values:\n",
    "\n",
    "Exercise: Try to change any of the values for density and volume to cause an assertion to fail. What do you observe?"
   ]
  },
  {
   "cell_type": "code",
   "execution_count": null,
   "metadata": {
    "id": "pnlOg39vKGaO"
   },
   "outputs": [],
   "source": [
    "def test_calculate_weight():\n",
    "    assert calculate_weight(0, 3) == 0, \"The weight of an object with density of 0 kg/m^3 and volume of 3 m^3 should be 0 kg.\"\n",
    "    assert calculate_weight(50, 0) == 0, \"The weight of an object with density of 50 kg/m^3 and volume of 0 m^3 should be 0 kg.\"\n",
    "    assert calculate_weight(0, 0) == 0, \"The weight of an object with density of 0 kg/m^3 and volume of 0 m^3 should be 0 kg.\"\n",
    "    \n",
    "    assert calculate_weight(100, 1) == 100, \"The weight of an object with density of 100 kg/m^3 and volume of 1 m^3 should be 100 kg.\"\n",
    "    assert calculate_weight(45, 2) == 90, \"The weight of an object with density of 45 kg/m^3 and volume of 2 m^3 should be 90 kg.\"\n",
    "\n",
    "test_calculate_weight()"
   ]
  },
  {
   "cell_type": "markdown",
   "metadata": {
    "id": "p3zDFF48d1Pl"
   },
   "source": [
    "Suppose that we are dealing with floating point numbers in our calculations and we would like to run test on them. Try running the code below and think whether the result makes sense:"
   ]
  },
  {
   "cell_type": "code",
   "execution_count": null,
   "metadata": {
    "colab": {
     "base_uri": "https://localhost:8080/",
     "height": 166
    },
    "id": "SgCnuRKBd1l4",
    "outputId": "6df2658c-6bf1-46fb-e54b-19e81d939ef5"
   },
   "outputs": [],
   "source": [
    "assert 0.1 + 0.2 == 0.3"
   ]
  },
  {
   "cell_type": "markdown",
   "metadata": {
    "id": "rFECJ4h-eaWO"
   },
   "source": [
    "The assertion above fails due to the fact that we are dealing with floating point numbers. For example, we might be using `0.3` in our calculations, but in practice, `0.30004` could be used instead due to the way floating point numbers are stored in memory. (If interested, have a look at the following link: https://0.30000000000000004.com/).\n",
    "\n",
    "To mitigate this issue, when making assertions for floating point numbers, you can calculate the absolute value of the difference between the expected and actual values and verify that this difference is smaller than some epsilon value:"
   ]
  },
  {
   "cell_type": "code",
   "execution_count": null,
   "metadata": {},
   "outputs": [],
   "source": [
    "epsilon = 1e-6 # exponential notation for 0.000001\n",
    "assert abs((0.1 + 0.2) - 0.3) < epsilon"
   ]
  },
  {
   "cell_type": "markdown",
   "metadata": {
    "id": "Ke8gufr-KGaP"
   },
   "source": [
    "## Logging\n",
    "Logging can be used for debugging. For example, you can have a program report at every step what it is calculating and print this information to the output. At first glance, logging may appear to be very similar to simply using `print` statements, but it comes with a lot of benefits. For example, it is possible to use timestamps with the messages you create and it is also possible to group messages by type. Furthermore, logging can let the user specify a file, where the logging information can be stored. This can be useful in case of an application crash to identify the cause of it by examining the logs.<br><br>\n",
    "The Python `logging` library supports 5 different types of messages:\n",
    "- `debug`: very detailed information used for localizing errors\n",
    "- `info`: confirmation that things are working as expected\n",
    "- `warning`: something unexpected happened, but the program will keep going\n",
    "- `error`: something has gone badly wrong, but the program hasn’t hurt anything\n",
    "- `critical`: potential loss of data, security breach, etc\n",
    "\n",
    "You can find below examples of all 5 types of messages, where the logs are printed in the output:"
   ]
  },
  {
   "cell_type": "code",
   "execution_count": null,
   "metadata": {
    "colab": {
     "base_uri": "https://localhost:8080/"
    },
    "id": "VwZPPWA-KGaP",
    "outputId": "ed66e90f-76f0-4dc0-e436-8a5dea8980d0"
   },
   "outputs": [],
   "source": [
    "import logging\n",
    "\n",
    "# Initial setup of logging\n",
    "# You do not need to explicitly understand the line below\n",
    "logging.basicConfig(\n",
    "    format=\"%(asctime)s | %(levelname)s: %(message)s\", level=logging.NOTSET\n",
    ")\n",
    "\n",
    "# Get logger object\n",
    "log = logging.getLogger()\n",
    "\n",
    "# Log different type of messages\n",
    "log.debug(\"Debugging message.\")\n",
    "log.info(\"Information message.\")\n",
    "log.warning(\"Warning that something happened.\")\n",
    "log.error(\"An error occurred, which may cause problems.\")\n",
    "log.critical(\"A critical error happened!\")"
   ]
  },
  {
   "cell_type": "markdown",
   "metadata": {
    "id": "yZ5zSlY6KGaQ"
   },
   "source": [
    "As a developer, you can select that only certain information is logged. For example, the code snippet below will log only messages with severity of a `WARNING` or higher (e.g., `ERROR`, or `CRITICAL`); this is done via the `log.setLevel` command:"
   ]
  },
  {
   "cell_type": "code",
   "execution_count": null,
   "metadata": {
    "colab": {
     "base_uri": "https://localhost:8080/"
    },
    "id": "2bEndKgsKGaQ",
    "outputId": "27f1fc8d-989f-412a-bba8-c3c089998490"
   },
   "outputs": [],
   "source": [
    "# Set level of logging\n",
    "log.setLevel(logging.WARNING)\n",
    "\n",
    "log.debug('Debugging message.')\n",
    "log.info('Information message.')\n",
    "log.warning('Warning that something happened.')\n",
    "log.error('An error occurred, which may cause problems.')\n",
    "log.critical('A critical error happened!')"
   ]
  },
  {
   "cell_type": "markdown",
   "metadata": {
    "id": "JY-hGdG-KGaQ"
   },
   "source": [
    "Make use of logging in places you consider crucial for your application. For example, if an exception is raised somewhere, instead of crashing an application, you could log the problem. Of course, if the exception is critical enough, you should raise it. \n",
    "\n",
    "Here is a brief example of logging exceptions depending on their severity:"
   ]
  },
  {
   "cell_type": "code",
   "execution_count": null,
   "metadata": {
    "colab": {
     "base_uri": "https://localhost:8080/"
    },
    "id": "PHAvy5b5KGaQ",
    "outputId": "65aa2d3c-4a3c-429f-d214-2901127fac05"
   },
   "outputs": [],
   "source": [
    "weight=0\n",
    "density=-40\n",
    "volume=5\n",
    "\n",
    "try:\n",
    "    weight=calculate_weight(density, volume)\n",
    "except ValueError as e:\n",
    "    log.error(e)\n",
    "except ZeroDivisionError as e:\n",
    "    log.warn(e)"
   ]
  },
  {
   "cell_type": "markdown",
   "metadata": {
    "id": "hE6P0-mKKGaR"
   },
   "source": [
    "**\\[Optional\\]** It is also possible to save logs in a file, so that you can use the logs for debugging purposes. Note that the file used for logging will not get overwritten. The new logs will be appended to the previous ones:"
   ]
  },
  {
   "cell_type": "code",
   "execution_count": null,
   "metadata": {
    "id": "aC5x-sCbKGaR"
   },
   "outputs": [],
   "source": [
    "# Run this code block only once! Otherwise, you will create multiple file logger instances!\n",
    "\n",
    "# Set file to use for logging\n",
    "file_handler = logging.FileHandler(\"log.txt\")\n",
    "# Set format of log messages\n",
    "file_handler.setFormatter(logging.Formatter(\"%(asctime)s | %(levelname)s: %(message)s\"))\n",
    "# Set the file to be used for logging, additionally to the console output\n",
    "log.addHandler(file_handler)"
   ]
  },
  {
   "cell_type": "markdown",
   "metadata": {
    "id": "BPiLPiKnKGaR"
   },
   "source": [
    "Try changing the level of logging below. Next run the following code snippets and observe the contents of `log.txt` using different logging priorities."
   ]
  },
  {
   "cell_type": "code",
   "execution_count": null,
   "metadata": {
    "id": "PFJQA5_FKGaR"
   },
   "outputs": [],
   "source": [
    "# Set the level of logging to DEBUG and above\n",
    "log.setLevel(logging.DEBUG)"
   ]
  },
  {
   "cell_type": "code",
   "execution_count": null,
   "metadata": {
    "colab": {
     "base_uri": "https://localhost:8080/"
    },
    "id": "usZ2zf9BKGaR",
    "outputId": "fc4ecf1d-0dd3-4f5a-d861-d8c303e23002",
    "scrolled": true
   },
   "outputs": [],
   "source": [
    "log.debug('Debugging message.')\n",
    "log.info('Information message.')\n",
    "log.warning('Warning that something happened.')\n",
    "log.error('An error occurred, which may cause problems.')\n",
    "log.critical('A critical error happened!')"
   ]
  },
  {
   "cell_type": "markdown",
   "metadata": {
    "id": "CNOHQYrfkCm3"
   },
   "source": [
    "We can easily read the contents of a file using the `more` shell command. To execute commands for the underlying operating system running our Jupyter notebook, we need to add `!` at the beginning of the line. If the `more` command does not work, try `cat` (linux/mac environments) or `type` (windows)."
   ]
  },
  {
   "cell_type": "code",
   "execution_count": null,
   "metadata": {
    "colab": {
     "base_uri": "https://localhost:8080/"
    },
    "id": "LKK5BRl_KGaR",
    "outputId": "869a084f-2aca-4a96-f492-477b9bc7aa15",
    "scrolled": true
   },
   "outputs": [],
   "source": [
    "!more log.txt"
   ]
  },
  {
   "cell_type": "markdown",
   "metadata": {
    "id": "yEzf8w7VI_cs"
   },
   "source": [
    "## Exercises"
   ]
  },
  {
   "cell_type": "markdown",
   "metadata": {
    "id": "d55jyw0NYUqX"
   },
   "source": [
    "You are given the method `calculate_area` to calculate the *shuttering area* of a concrete rectangular column. The shuttering is a temporary arrangement done for vertical surfaces to support the wet concrete till it attains the desired strength (source: [Civilread.com](https://civilread.com/how-to-calculate-shuttering-area/)). <br><br>\n",
    "\n",
    "1. Write assertions in `test_calculate_area` that can verify that method `calculate_area` is free of bugs. Make sure you include meaningful messages in case a test fails. Consult section [Assertions](#Assertions) again and try to write tests that test the boundary values of the `if` statement. For example, tests that evaluate the condition to `True` and/or `False`."
   ]
  },
  {
   "cell_type": "code",
   "execution_count": null,
   "metadata": {
    "id": "BEl-ll1oI-w5"
   },
   "outputs": [],
   "source": [
    "def calculate_area(height, length, breadth):\n",
    "    \"\"\"\n",
    "    Calculates shuttering area of a concrete rectangular column.\n",
    "\n",
    "    Args:\n",
    "        height (int): Height of the column.\n",
    "        length (int): Length of the column.\n",
    "        breadth (int): Breadth of the column.\n",
    "\n",
    "    Returns:\n",
    "        int: The area or -1 if the input is invalid.\n",
    "    \"\"\"\n",
    "    if height <= 0 or length <= 0 or breadth <= 0:\n",
    "        return -1\n",
    "    else:\n",
    "        return (2 * breadth + 2 * length) * height\n",
    "\n",
    "\n",
    "def test_calculate_area():\n",
    "    # Write your tests here\n",
    "    pass\n",
    "\n",
    "\n",
    "test_calculate_area()"
   ]
  },
  {
   "cell_type": "markdown",
   "metadata": {},
   "source": [
    "2. Have a look again at the `calculate_area` method below. If incorrect output is provided to it, the method will return `-1`. Instead of that, we would like to raise a `ValueError`. Modify the method to raise this exception on incorrect output. Furthermore, update the documentation of the method to account for this change."
   ]
  },
  {
   "cell_type": "code",
   "execution_count": null,
   "metadata": {},
   "outputs": [],
   "source": [
    "def calculate_area(height, length, breadth):\n",
    "    \"\"\"\n",
    "    Calculates shuttering area of a concrete rectangular column.\n",
    "\n",
    "    Args:\n",
    "        height (int): Height of the column.\n",
    "        length (int): Length of the column.\n",
    "        breadth (int): Breadth of the column.\n",
    "\n",
    "    Returns:\n",
    "        int: The area or -1 if the input is invalid.\n",
    "    \"\"\"\n",
    "    if height <= 0 or length <= 0 or breadth <= 0:\n",
    "        return -1\n",
    "    else:\n",
    "        return (2 * breadth + 2 * height) * length"
   ]
  },
  {
   "cell_type": "markdown",
   "metadata": {
    "id": "JRln44iSa_Jm"
   },
   "source": [
    "3. **[Optional]** Copy over your tests from the answer to qustion 1 in the code snippet below. Notice that the method `calculate_area` has slightly been modified and now contains 2 logical errors.\n",
    "\n",
    "What are these errors? \n",
    "\n",
    "Do any of your assertions fail because of this change? If yes, this means the tests you have made are capable of catching some logical errors. If not, try writing some more tests!"
   ]
  },
  {
   "cell_type": "code",
   "execution_count": null,
   "metadata": {
    "id": "K3wc1CD9gGTv"
   },
   "outputs": [],
   "source": [
    "def calculate_area(height, length, breadth):\n",
    "    \"\"\"\n",
    "    Calculates shuttering area of a concrete rectangular column.\n",
    "\n",
    "    Args:\n",
    "        height (int): Height of the column.\n",
    "        length (int): Length of the column.\n",
    "        breadth (int): Breadth of the column.\n",
    "\n",
    "    Returns:\n",
    "        int: The area or -1 if the input is invalid.\n",
    "    \"\"\"\n",
    "    if height < 0 or length <= 0 or breadth <= 0:\n",
    "        return -1\n",
    "    else:\n",
    "        return (2 * breadth + 2 * height) * length\n",
    "\n",
    "\n",
    "def test_calculate_area():\n",
    "    # Copy over your tests here\n",
    "    pass\n",
    "\n",
    "\n",
    "test_calculate_area()"
   ]
  },
  {
   "cell_type": "markdown",
   "metadata": {},
   "source": [
    "4. **[Optional]** You are provided with the following method, where we calculate the density of an object given its mass and volume. Fill in the empty `else`, `except`, and `finally` clauses with appropriate debug log messages. Think of fitting severity of logging for each."
   ]
  },
  {
   "cell_type": "code",
   "execution_count": null,
   "metadata": {},
   "outputs": [],
   "source": [
    "import logging\n",
    "\n",
    "# Initial setup of logging\n",
    "logging.basicConfig(\n",
    "    format=\"%(asctime)s | %(levelname)s: %(message)s\", level=logging.NOTSET\n",
    ")\n",
    "\n",
    "# Get logger object\n",
    "log = logging.getLogger()\n",
    "\n",
    "\n",
    "def calculate_density(mass, volume):\n",
    "    \"\"\"\n",
    "    Calculates the density of an object.\n",
    "\n",
    "    Args:\n",
    "        mass (int): Mass in grams.\n",
    "        volume (int): Volume in centimeters^3.\n",
    "        \n",
    "    Returns:\n",
    "        int: The density in grams/centimeters^3.\n",
    "        \n",
    "    Raises:\n",
    "        ZeroDivisionError: if volume = 0.\n",
    "    \"\"\"\n",
    "    density = 0\n",
    "    try:\n",
    "        density = mass / volume\n",
    "    except ZeroDivisionError:\n",
    "        \n",
    "    else:\n",
    "        \n",
    "    finally:\n",
    "        \n",
    "    return density\n",
    "        \n",
    "print(f\"The density is {calculate_density(20, 10)}g/cm^3.\")\n",
    "print(f\"The density is {calculate_density(50, 0)}g/cm^3.\")"
   ]
  },
  {
   "cell_type": "markdown",
   "metadata": {
    "id": "ZIatXyvFKGaS"
   },
   "source": [
    "## References and used resources\n",
    "- https://carpentries-lab.github.io/python-aos-lesson/08-defensive/index.html\n",
    "- https://python-textbok.readthedocs.io/en/1.0/Errors_and_Exceptions.html\n",
    "- https://docs.python.org/3/tutorial/errors.html\n",
    "- https://coderefinery.github.io/testing/"
   ]
  }
 ],
 "metadata": {
  "colab": {
   "collapsed_sections": [],
   "name": "PythonTestingBasics.ipynb",
   "provenance": []
  },
  "kernelspec": {
   "display_name": "Python 3",
   "language": "python",
   "name": "python3"
  },
  "language_info": {
   "codemirror_mode": {
    "name": "ipython",
    "version": 3
   },
   "file_extension": ".py",
   "mimetype": "text/x-python",
   "name": "python",
   "nbconvert_exporter": "python",
   "pygments_lexer": "ipython3",
   "version": "3.8.8"
  }
 },
 "nbformat": 4,
 "nbformat_minor": 1
}
