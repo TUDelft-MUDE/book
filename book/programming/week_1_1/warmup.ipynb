{
 "cells": [
  {
   "cell_type": "markdown",
   "metadata": {},
   "source": [
    "(week_1_1_warmup)=\n",
    "# Warm-Up: Jupyter Notebooks and Python Dictionaries\n",
    "\n",
    "```{custom_download_link} download/warmup.ipynb\n",
    ":text: \"Download Notebook\"\n",
    ":replace_default: \"True\"\n",
    "```\n",
    "\n",
    "In this section we use a Jupyter Notebook to briefly review and practice with dictionaries, a fundamental Python data type that is _extremely_ useful, but you probably don't remember from prior courses.\n",
    "\n",
    "The code on this page can be used interactively: click {fa}`rocket` --> {guilabel}`Live Code` in the top right corner, then wait until the message {guilabel}`Python interaction ready!` appears.\n",
    "\n",
    "When this page is activated a special version of Python will be loaded into your web browser that enables you to interact with this page as if it were a Jupyter Notebook. Note that package import does not work the same as it would on a \"normal\" computer, so the necessary imports have already been prepared for you.\n",
    "\n",
    "The download button {fa}`download` provides a `*.ipynb` file which you can run on your computer to make sure you have Python and Jupyter installed correctly in your IDE. \n",
    "\n",
    "```{warning}\n",
    "The contents of this page will be updated by the Wednesday, September 4 In-Class Session to include a few brief tips for using Jupyter Notebooks and Python dictionaries.\n",
    "\n",
    "For now, enjoy the interactive Python page! You can also test your Python session using the download page button (as described above), but note that this file will also be updated when the page is.\n",
    "```"
   ]
  },
  {
   "cell_type": "code",
   "execution_count": null,
   "metadata": {},
   "outputs": [],
   "source": [
    "engineers = {\n",
    "    'Nikola Tesla': 1856,\n",
    "    'Thomas Edison': 1847,\n",
    "    'Albert Einstein': 1879,\n",
    "    'Isaac Newton': 1643,\n",
    "    'Leonardo da Vinci': 1452,\n",
    "}\n",
    "\n",
    "for engineer, birth_year in engineers.items():\n",
    "    print(f'{engineer} was born in {birth_year}.')"
   ]
  }
 ],
 "metadata": {
  "kernelspec": {
   "display_name": "mude",
   "language": "python",
   "name": "python3"
  },
  "language_info": {
   "codemirror_mode": {
    "name": "ipython",
    "version": 3
   },
   "file_extension": ".py",
   "mimetype": "text/x-python",
   "name": "python",
   "nbconvert_exporter": "python",
   "pygments_lexer": "ipython3",
   "version": "3.11.4"
  }
 },
 "nbformat": 4,
 "nbformat_minor": 2
}
