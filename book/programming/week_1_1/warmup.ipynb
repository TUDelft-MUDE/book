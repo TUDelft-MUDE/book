{
 "cells": [
  {
   "cell_type": "markdown",
   "metadata": {},
   "source": [
    "(week_1_1_warmup)=\n",
    "# Warm-Up: Jupyter Notebooks and Python Dictionaries\n",
    "\n",
    "```{custom_download_link} test.md\n",
    ":text: \"Custom text\"\n",
    ":replace_default: \"True\"\n",
    "```\n",
    "\n",
    "```{note}\n",
    "Coming soon!\n",
    "```\n",
    "\n",
    "````{admonition} Interactive Python Page\n",
    ":class: tip\n",
    "\n",
    "The code on this page can be used interactively: click {fa}`rocket` --> {guilabel}`Live Code` in the top right corner, then wait until the message {guilabel}`Python interaction ready!` appears.\n",
    "\n",
    "When this page is activated a special version of Python will be loaded into your web browser that enables you to interact with this page as if it were a Jupyter Notebook. Note that package import does not work the same as it would on a \"normal\" computer, so the necessary imports have already been prepared for you.\n",
    "\n",
    "The download button {fa}`download` provides a `*.ipynb` file which you can run on your computer to make sure you have Python and Jupyter installed correctly in your IDE. \n",
    "\n",
    "````"
   ]
  },
  {
   "cell_type": "code",
   "execution_count": 1,
   "metadata": {},
   "outputs": [
    {
     "name": "stdout",
     "output_type": "stream",
     "text": [
      "Nikola Tesla was born in 1856.\n",
      "Thomas Edison was born in 1847.\n",
      "Albert Einstein was born in 1879.\n",
      "Isaac Newton was born in 1643.\n",
      "Leonardo da Vinci was born in 1452.\n"
     ]
    }
   ],
   "source": [
    "engineers = {\n",
    "    'Nikola Tesla': 1856,\n",
    "    'Thomas Edison': 1847,\n",
    "    'Albert Einstein': 1879,\n",
    "    'Isaac Newton': 1643,\n",
    "    'Leonardo da Vinci': 1452,\n",
    "}\n",
    "\n",
    "for engineer, birth_year in engineers.items():\n",
    "    print(f'{engineer} was born in {birth_year}.')"
   ]
  }
 ],
 "metadata": {
  "kernelspec": {
   "display_name": "mude",
   "language": "python",
   "name": "python3"
  },
  "language_info": {
   "codemirror_mode": {
    "name": "ipython",
    "version": 3
   },
   "file_extension": ".py",
   "mimetype": "text/x-python",
   "name": "python",
   "nbconvert_exporter": "python",
   "pygments_lexer": "ipython3",
   "version": "3.11.4"
  }
 },
 "nbformat": 4,
 "nbformat_minor": 2
}
