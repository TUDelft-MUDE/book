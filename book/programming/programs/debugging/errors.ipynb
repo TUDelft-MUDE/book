{
 "cells": [
  {
   "cell_type": "markdown",
   "id": "c77688f7-07b3-4ec9-824a-ed054a9de592",
   "metadata": {
    "id": "A38ex8i9KGaE"
   },
   "source": [
    "# Errors\n",
    "\n",
    "You have probably encountered errors before in your code---no one is perfect! But have you ever spent time reading through the error message to help you figure out what went wrong? This Section will give you some information that will help interpret these sometimes cryptic message to more efficiently identify the problem and fix it.\n",
    "\n",
    "Essentially there are 3 types of errors, each of which is described below:\n",
    "- Syntax errors\n",
    "- Exceptions\n",
    "- Logical errors"
   ]
  },
  {
   "cell_type": "markdown",
   "id": "6fef01b8-d17b-4b85-b0a4-29a0a928be2a",
   "metadata": {
    "id": "a7Ky1orxKGaE"
   },
   "source": [
    "### Syntax errors\n",
    "Syntax errors are the most common for beginner developers. When an error happenes, Python parser will show in which line it is and point to it in the code with an arrow `^`. Run the code snippet below for an example:"
   ]
  },
  {
   "cell_type": "code",
   "execution_count": null,
   "id": "cb066969-1e78-48c3-960b-6d2636fe9293",
   "metadata": {
    "id": "XtUcAiekKGaF",
    "scrolled": true
   },
   "outputs": [],
   "source": [
    "if 5 > 3:\n",
    "    print(\"5 is bigger than 3\")\n",
    "else\n",
    "    print(\"3 is bigger than 5\")"
   ]
  },
  {
   "cell_type": "markdown",
   "id": "9a5290e2-3f87-4c41-86d8-68619873b584",
   "metadata": {
    "id": "lR__HQhAKGaG"
   },
   "source": [
    "### Exceptions\n",
    "Exceptions are errors that appear during the code execution. Developers can create exceptions themselves as well and raise them during code execution. Below you will find several examples of exceptions:\n",
    "\n"
   ]
  },
  {
   "cell_type": "code",
   "execution_count": null,
   "id": "9c58af8c-dee2-4272-b74e-97f768834003",
   "metadata": {
    "colab": {
     "base_uri": "https://localhost:8080/",
     "height": 166
    },
    "id": "cQ6ICUajKGaG",
    "outputId": "3a576f96-76de-4143-9beb-0155a59c8545"
   },
   "outputs": [],
   "source": [
    "16 / 0"
   ]
  },
  {
   "cell_type": "code",
   "execution_count": null,
   "id": "feed0f3c-f8c1-47c8-9bd6-fbb7fd9d1c9a",
   "metadata": {
    "colab": {
     "base_uri": "https://localhost:8080/",
     "height": 166
    },
    "id": "5bRsO_ZZKGaH",
    "outputId": "91911d8a-0d0d-49fa-a6a1-db0c79cf4e40"
   },
   "outputs": [],
   "source": [
    "2 + \"3\""
   ]
  },
  {
   "cell_type": "code",
   "execution_count": null,
   "id": "b887f7de-6771-4e65-aa8f-aa40bae43efa",
   "metadata": {
    "colab": {
     "base_uri": "https://localhost:8080/",
     "height": 166
    },
    "id": "RJJc0hkfKGaH",
    "outputId": "8b54f38b-157a-4a58-e6b9-53e94a9e5766"
   },
   "outputs": [],
   "source": [
    "2 * pi * r ** 2"
   ]
  },
  {
   "cell_type": "markdown",
   "id": "3ffc5274-8024-4c85-9a9f-4482ec9ecf69",
   "metadata": {
    "id": "_vz7WivxlPdM"
   },
   "source": [
    "As you see in the examples above, we have encountered 3 different types of exceptions - `ZeroDivisionError`, `TypeError` and `NameError`. A nice thing about Python is that it tells us the specific type of exception we are dealing it. This is very helpful for the developers to figure out the cause of the raised exceptions. \n",
    "\n",
    "For more exception types, you can have a look at the official Python [documentation](https://docs.python.org/3/library/exceptions.html#exception-hierarchy). Keep in mind, that you are not required to understand the cause of every exception, but rather the importance of having different types of exceptions."
   ]
  },
  {
   "cell_type": "markdown",
   "id": "32b16abc-c538-4556-8795-ccf12900659a",
   "metadata": {
    "id": "OCPsJhogKGaH"
   },
   "source": [
    "### Logical errors\n",
    "Logical errors are generally the most difficult to discover, because they can be invisible to the developer. Logical errors can exist without raising an exception or an error. Particular examples of logical errors are:\n",
    "- using the wrong variable name\n",
    "- indenting a block to the wrong level\n",
    "- using integer division instead of floating-point division\n",
    "- getting operator precedence wrong\n",
    "- making a mistake in a boolean expression\n",
    "- forgetting to add an `else` statement to an `if` clause\n",
    "- off-by-one, and other numerical errors"
   ]
  },
  {
   "cell_type": "markdown",
   "id": "4f2b0e4b-e70f-4b5a-99d6-e192f3304ca8",
   "metadata": {
    "id": "EHZ2Lw8lwIIu"
   },
   "source": [
    "Here is a brief example of using integer division instead of floating-point division:\n",
    "\n",
    "Consider you have to compute speed from distance and time using the basic formula $speed=\\frac{distance}{time}$. Here is the correct version, using floating-point division:"
   ]
  },
  {
   "cell_type": "code",
   "execution_count": null,
   "id": "ed79b777-3cbf-4ab0-867e-f734cc7d6b9b",
   "metadata": {
    "colab": {
     "base_uri": "https://localhost:8080/"
    },
    "id": "-Lf0ZcPyewGK",
    "outputId": "a4702af5-28ad-4bcf-84ce-c76052e87009"
   },
   "outputs": [],
   "source": [
    "distance = 10            # m\n",
    "time = 3.63              # s\n",
    "\n",
    "speed = distance / time    # m/s\n",
    "print('Speed = ', speed)"
   ]
  },
  {
   "cell_type": "markdown",
   "id": "dd08998b-0fff-4f46-8b23-ceabdcf3f06e",
   "metadata": {
    "id": "yK1zMKjMg7uj"
   },
   "source": [
    "If we use integer division by mistake, the result is incorrect:"
   ]
  },
  {
   "cell_type": "code",
   "execution_count": null,
   "id": "f7c602d5-a6d9-4eb1-b6fd-5e18a94763ae",
   "metadata": {
    "colab": {
     "base_uri": "https://localhost:8080/"
    },
    "id": "LNW9_o0RfD5H",
    "outputId": "8a332324-c52f-461c-c07a-acfbd0f0aaff"
   },
   "outputs": [],
   "source": [
    "distance = 10            # m\n",
    "time = 3.63              # s\n",
    "\n",
    "speed = distance // time    # m/s\n",
    "print('Speed = ', speed)"
   ]
  },
  {
   "cell_type": "markdown",
   "id": "815ff171-ada6-429d-8c1e-d9e37823da62",
   "metadata": {},
   "source": [
    "The difference between the 2 results is nearly 0.75, which can be very high depending on its use."
   ]
  }
 ],
 "metadata": {
  "kernelspec": {
   "display_name": "Python 3 (ipykernel)",
   "language": "python",
   "name": "python3"
  },
  "language_info": {
   "codemirror_mode": {
    "name": "ipython",
    "version": 3
   },
   "file_extension": ".py",
   "mimetype": "text/x-python",
   "name": "python",
   "nbconvert_exporter": "python",
   "pygments_lexer": "ipython3",
   "version": "3.9.17"
  },
  "widgets": {
   "application/vnd.jupyter.widget-state+json": {
    "state": {},
    "version_major": 2,
    "version_minor": 0
   }
  }
 },
 "nbformat": 4,
 "nbformat_minor": 5
}
