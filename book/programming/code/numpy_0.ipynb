{
 "cells": [
  {
   "cell_type": "markdown",
   "metadata": {},
   "source": [
    "# Numpy: A Quick Introduction\n",
    "\n",
    "Introduction\n",
    "\n",
    "[theory](https://tudelft-citg.github.io/learn-python/05/Theory/01.html)\n",
    "[quick reference](https://tudelft-citg.github.io/learn-python/05/In_a_Nutshell/01.html)\n",
    "\n",
    "Exercises: [airpplane velocity](https://tudelft-citg.github.io/learn-python/05/Exercises/01.html) and [bending moment](https://tudelft-citg.github.io/learn-python/05/Exercises/02.html)."
   ]
  }
 ],
 "metadata": {
  "language_info": {
   "name": "python"
  },
  "orig_nbformat": 4
 },
 "nbformat": 4,
 "nbformat_minor": 2
}
