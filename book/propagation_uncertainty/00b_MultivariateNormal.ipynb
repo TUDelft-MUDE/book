{
 "cells": [
  {
   "cell_type": "markdown",
   "metadata": {},
   "source": [
    "# Multivariate normal distribution\n",
    "\n",
    "If all $X_i$ in the random vector $X= [\\begin{array}{llll} X_1 & X_2 & \\ldots &X_m \\end{array}]^T$ are normally distributed, then $X$ will have the *multivariate normal distribution*, for which the PDF is given as:\n",
    "\n",
    "$$\n",
    "f_{X} (x) = \\frac{1}{\\sqrt{\\det(2\\pi \\Sigma_{X})}} \\exp(-\\frac{1}{2}(x-\\mu_X)^T \\Sigma_{X}^{-1}(x-\\mu_X) )\n",
    "$$\n",
    "\n",
    "which is determined by the expectation $\\mu_X$ and covariance matrix $\\Sigma_X$.\n",
    "\n",
    "Notation: $X\\sim N(\\mu_X,\\Sigma_X)$\n",
    "\n",
    "An example of the bivariate normal PDF is shown in {numref}`normal2D`; in this example $ \\sigma_{X_1}=1$ and $\\sigma_{X_2}=2$ and $\\rho(X_1,X_2)=0.7$.\n",
    "\n",
    "```{figure} figures/01_bivariatenormal.png\n",
    "---\n",
    "height: 350px\n",
    "name: normal2D\n",
    "---\n",
    "Example of bivariate normal PDF and corresponding scatterplot with 2000 realizations.\n",
    "```"
   ]
  },
  {
   "cell_type": "markdown",
   "metadata": {},
   "source": [
    "## Play with bivariate normal PDF\n",
    "\n",
    "In this small demo you can create plots of the bivariate normal PDF, including a scatter plot of generated realizations, where you can play with the values of the mean, standard deviations and correlation coefficient. Adjust the values by dragging the handles for the mean (red), standard deviations (blue and yellow), and correlation (green) in the left subplot. Observe how the distribution changes, and how each parameter affects the covariance matrix."
   ]
  },
  {
   "cell_type": "markdown",
   "metadata": {},
   "source": [
    "<iframe src=\"../_static/elements/element_2D_Gaussian.html\" width=\"900\" height=\"300\" frameborder=\"0\"></iframe>"
   ]
  }
 ],
 "metadata": {
  "kernelspec": {
   "display_name": "py311",
   "language": "python",
   "name": "python3"
  },
  "language_info": {
   "codemirror_mode": {
    "name": "ipython",
    "version": 3
   },
   "file_extension": ".py",
   "mimetype": "text/x-python",
   "name": "python",
   "nbconvert_exporter": "python",
   "pygments_lexer": "ipython3",
   "version": "3.11.4"
  },
  "orig_nbformat": 4
 },
 "nbformat": 4,
 "nbformat_minor": 2
}
