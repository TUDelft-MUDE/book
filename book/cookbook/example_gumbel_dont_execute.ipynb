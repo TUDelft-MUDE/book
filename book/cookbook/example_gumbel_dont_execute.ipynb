{
 "cells": [
  {
   "cell_type": "markdown",
   "metadata": {},
   "source": [
    "# Gumbel Distribution Exercise"
   ]
  },
  {
   "cell_type": "code",
   "execution_count": null,
   "metadata": {
    "tags": [
     "thebe-init"
    ]
   },
   "outputs": [],
   "source": [
    "%pip install ipywidgets\n",
    "\n",
    "import matplotlib.pyplot as plt\n",
    "from math import log, e\n",
    "import numpy as np\n",
    "from example_gumbel import check_example"
   ]
  },
  {
   "cell_type": "code",
   "execution_count": null,
   "metadata": {
    "tags": [
     "thebe-init"
    ]
   },
   "outputs": [],
   "source": [
    "x_1 = 4\n",
    "p_e_1 = 0.7523186963342055\n",
    "x_2 = 10\n",
    "p_e_2 = 0.17211051260760846"
   ]
  },
  {
   "cell_type": "code",
   "execution_count": null,
   "metadata": {
    "tags": []
   },
   "outputs": [],
   "source": [
    "def gumbel_2_points(x_1, p_e_1, x_2, p_e_2): \n",
    "    \"\"\"Compute Gumbel distribution parameters from two points of the CDF.\n",
    "        Arguments:\n",
    "            x_1   (float): point one\n",
    "            p_e_1 (float): probability of exceedance for point one\n",
    "            x_2   (float): point two\n",
    "            p_e_2 (float): probability of exceedance for point two\n",
    "    \"\"\"\n",
    "\n",
    "    # YOUR CODE GOES HERE #\n",
    "    beta = _\n",
    "    mu = _\n",
    "    #######################\n",
    "    return mu, beta"
   ]
  },
  {
   "cell_type": "code",
   "execution_count": null,
   "metadata": {},
   "outputs": [],
   "source": [
    "mu, beta = gumbel_2_points(x_1, p_e_1, x_2, p_e_2)\n",
    "\n",
    "print(f\"Your mu: {mu}\\nYour beta: {beta}\")\n",
    "\n",
    "gumbel_distribution = lambda x: e**(-e**(-(x-mu)/beta))\n",
    "\n",
    "plt.title(\"Gumbel distribution\")\n",
    "plt.ylabel(\"Cumulative probability\")\n",
    "plt.grid(color='black', linestyle='-', linewidth=0.1)\n",
    "plt.plot(x_1, 1-p_e_1, 'ro')\n",
    "plt.annotate(\"Point 1\", (x_1 + 0.4, 1-p_e_1-0.03))\n",
    "plt.plot(x_2, 1-p_e_2, 'ro')\n",
    "plt.annotate(\"Point 2\", (x_2 + 0.4, 1-p_e_2-0.03))\n",
    "x_axis = np.arange(0, 20, 0.1)\n",
    "plt.plot(x_axis, np.vectorize(gumbel_distribution)(x_axis))\n",
    "plt.show()"
   ]
  },
  {
   "cell_type": "code",
   "execution_count": null,
   "metadata": {},
   "outputs": [],
   "source": [
    "def find_x_with_probability_p(p): \n",
    "    \"\"\" Compute point in the gumbel distribution for which the CDF is p\n",
    "        Use the global variables mu and beta defined above!\n",
    "    \"\"\"\n",
    "    # YOUR CODE GOES HERE #\n",
    "    p = _\n",
    "    #######################\n",
    "    return p"
   ]
  },
  {
   "cell_type": "code",
   "execution_count": null,
   "metadata": {
    "tags": [
     "thebe-remove-input-init"
    ]
   },
   "outputs": [],
   "source": [
    "check_example(globals())"
   ]
  }
 ],
 "metadata": {
  "kernelspec": {
   "display_name": "Python 3 (ipykernel)",
   "language": "python",
   "name": "python3"
  },
  "language_info": {
   "codemirror_mode": {
    "name": "ipython",
    "version": 3
   },
   "file_extension": ".py",
   "mimetype": "text/x-python",
   "name": "python",
   "nbconvert_exporter": "python",
   "pygments_lexer": "ipython3",
   "version": "3.11.2"
  }
 },
 "nbformat": 4,
 "nbformat_minor": 2
}
