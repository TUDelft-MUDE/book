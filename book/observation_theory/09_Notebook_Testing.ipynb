{
 "cells": [
  {
   "cell_type": "markdown",
   "metadata": {},
   "source": [
    "```{custom_download_link} 09_Notebook_Testing_download.ipynb\n",
    ":text: \".ipynb\"\n",
    ":replace_default: \"True\"\n",
    "```\n",
    "\n",
    "```{custom_download_link} 09_Notebook_Testing.zip\n",
    ":text: \".zip (with solution)\"\n",
    ":replace_default: \"False\"\n",
    "```"
   ]
  },
  {
   "cell_type": "markdown",
   "metadata": {},
   "source": [
    "## Notebook exercise: which melting model is better?\n",
    "\n",
    "In this interactive notebook two models are fitted to a time series of height observations of a  point on a glacier. \n",
    "\n",
    "It is the same problem as we used in the notebook in the chapter on Weighted least-squares.\n",
    "\n",
    "You will apply a statistical test to decide between two different models to describe the ice melt as function of time.\n",
    "\n",
    "Click {fa}`rocket` --> {guilabel}`Live Code` on the top right corner of this screen and then wait until all cells are executed."
   ]
  },
  {
   "cell_type": "markdown",
   "metadata": {},
   "source": [
    "You have 12 monthly measurements of the height of a point on a glacier. The measurements are obtained from a satellite laser altimeter.\n",
    "\n",
    "- Time [months]: ```t``` $=[0, 1, 2, \\ldots, 11]$\n",
    "- Observed heights [meters]: ```y``` $=[102.4, 98.2, 97.5, 97.9, 99.7, 100.7, 98.3, 94.2, 90.9, 86.1, 81.2, 76.9]$\n",
    "\n",
    "We will consider three different models, with the following observation equations:\n",
    "\n",
    "- Model 1: constant velocity, $\\mathbb{E}\\left( Y_i \\right) = x_0 + x_1 t_i$\n",
    "- Model 2: constant velocity + annual signal, $\\mathbb{E}\\left( Y_i \\right) = x_0 + x_1 t_i + x_2 cos \\Big(\\frac{2 \\pi t_i}{12} \\Big)$\n",
    "\n",
    "The observation are independent and have a precision of 1 m.\n",
    "\n",
    "<b>The first part of the code is hidden in the interactive version in the book.</b>"
   ]
  },
  {
   "cell_type": "code",
   "execution_count": null,
   "metadata": {
    "tags": [
     "thebe-remove-input-init"
    ]
   },
   "outputs": [],
   "source": [
    "import numpy as np\n",
    "import matplotlib.pyplot as plt\n",
    "from scipy.stats import norm\n",
    "from scipy.stats.distributions import chi2\n",
    "%matplotlib inline\n",
    "\n",
    "import micropip\n",
    "await micropip.install(\"ipywidgets\")\n",
    "import ipywidgets as widgets\n",
    "from IPython.display import display\n",
    "import operator\n",
    "\n",
    "def check_answer(variable_name, expected, comparison = operator.eq):\n",
    "    output = widgets.Output()\n",
    "    button = widgets.Button(description=\"Check answer\")\n",
    "    def _inner_check(button):\n",
    "        with output:\n",
    "            if comparison(globals()[variable_name], expected):\n",
    "                output.outputs = [{'name': 'stdout', 'text': 'Correct!', 'output_type': 'stream'}]\n",
    "            else:\n",
    "                output.outputs = [{'name': 'stdout', 'text': 'Incorrect!', 'output_type': 'stream'}]\n",
    "    button.on_click(_inner_check)\n",
    "    display(button, output)"
   ]
  },
  {
   "cell_type": "code",
   "execution_count": null,
   "metadata": {
    "tags": [
     "thebe-remove-input-init"
    ]
   },
   "outputs": [],
   "source": [
    "\n",
    "t = np.arange(12)\n",
    "y = np.array([102.4, 98.2, 97.5, 97.9, 99.7, 100.7, \n",
    "               98.3, 94.2, 90.9, 86.1, 81.2, 76.9])\n",
    "m = len(t)\n",
    "\n",
    "alpha = 0.025\n",
    "\n",
    "A_1 = np.column_stack((np.ones(m), t))\n",
    "A_2 = np.column_stack((np.ones(m), t, np.cos(2*np.pi*t/12)))\n",
    "\n",
    "xhat_1 = np.linalg.inv(A_1.T @ A_1) @ A_1.T @ y\n",
    "xhat_2 = np.linalg.inv(A_2.T @ A_2) @ A_2.T @ y\n",
    "yhat_1 = A_1 @ xhat_1\n",
    "yhat_2 = A_2 @ xhat_2\n",
    "ehat_1 = y - A_1 @ xhat_1\n",
    "ehat_2 = y - A_2 @ xhat_2\n",
    "\n",
    "eTe_1 = ehat_1.T @ ehat_1\n",
    "eTe_2 = ehat_2.T @ ehat_2"
   ]
  },
  {
   "cell_type": "markdown",
   "metadata": {},
   "source": [
    "### Plot with observations and the fitted models\n",
    "\n",
    "The squared norm of residuals is equal to $\\hat{\\epsilon}^T \\Sigma_Y^{-1} \\hat{\\epsilon}$."
   ]
  },
  {
   "cell_type": "code",
   "execution_count": null,
   "metadata": {
    "tags": [
     "thebe-remove-input-init"
    ]
   },
   "outputs": [],
   "source": [
    "print(f'Squared norm of residuals for model 1: {eTe_1:.3f}')\n",
    "print(f'Squared norm of residuals for model 2: {eTe_2:.3f}')\n",
    "\n",
    "plt.figure()\n",
    "plt.plot(t, y, 'kx', label='observations')\n",
    "plt.plot(t, yhat_1, color='r', label='model 1')\n",
    "plt.plot(t, yhat_2, color='b', label='model 2')\n",
    "plt.xlim(-0.2, (m-1)+0.2)\n",
    "plt.xlabel('time [months]')\n",
    "plt.ylabel('height [meters]')\n",
    "plt.legend(loc='best')\n",
    "plt.show()"
   ]
  },
  {
   "cell_type": "markdown",
   "metadata": {},
   "source": [
    "### Apply the generalized likelihood ratio test\n",
    "The null hypothesis is that the linear trend model is applicable; the alternative hypothesis is that the linear trend + annual signal model is correct. Implement the test to decide whether the null hypothesis is accepted, or rejected in favor of the alternative hypothesis. Use a false alarm probability of 0.025.\n",
    "\n",
    "#### Generalized likelihood ratio test:\n",
    "\n",
    "Accept alternative hypothesis and reject null hypothesis if: $\n",
    "T_q = \\hat{\\epsilon}^T\\Sigma_Y^{-1}\\hat{\\epsilon}-\\hat{\\epsilon}_a^T\\Sigma_Y^{-1}\\hat{\\epsilon}_a > k_{\\alpha}$\n",
    "\n",
    "First calculate the threshold value ```k``` $=k_{\\alpha}$. Recall that $T_q \\sim \\chi^2(q,0)$, where $q$ is the number of *extra* parameters in the alternative hypothesis. You can use\n",
    "<a href=\"https://docs.scipy.org/doc/scipy/reference/generated/scipy.stats.chi2.html\" target=\"_blank\">chi2.ppf</a> from SciPy. \n",
    "\n",
    "Then calculate the test statistic value ```Tq```. The squared norms of residuals of model 1 and 2 have already been calculated above (code is hidden) and have variable names ```eTe_1``` and ```eTe_2```. You will also need to add the 'test' in the ```if``` statement.\n"
   ]
  },
  {
   "cell_type": "code",
   "execution_count": null,
   "metadata": {},
   "outputs": [],
   "source": [
    "alpha = 0.025\n",
    "k = ?"
   ]
  },
  {
   "cell_type": "code",
   "execution_count": null,
   "metadata": {
    "tags": [
     "thebe-remove-input-init"
    ]
   },
   "outputs": [],
   "source": [
    "check_answer(\"k\",chi2.ppf(1 - alpha, 1), np.array_equiv)"
   ]
  },
  {
   "cell_type": "code",
   "execution_count": null,
   "metadata": {},
   "outputs": [],
   "source": [
    "Tq = ?\n",
    "\n",
    "if ?:\n",
    "    print(f'Test statistic = {Tq:.2f}\\n')\n",
    "    print(f'Threshold value = {k:.2f}\\n')\n",
    "    print('Null hypothesis rejected, Alternative hypothesis accepted')\n",
    "else:\n",
    "    print(f'Test statistic = {Tq:.2f}\\n')\n",
    "    print(f'Threshold value = {k:.2f}\\n')\n",
    "    print('Null hypothesis accepted')    "
   ]
  },
  {
   "cell_type": "code",
   "execution_count": null,
   "metadata": {
    "tags": [
     "thebe-remove-input-init"
    ]
   },
   "outputs": [],
   "source": [
    "check_answer(\"Tq\",eTe_1 - eTe_2, np.array_equiv)"
   ]
  },
  {
   "cell_type": "markdown",
   "metadata": {},
   "source": [
    "<b>As we could have guessed from the figure, model 2 (linear trend + annual signal) provides a much better fit. In many practical situations it may be less obvious whether a model fits significantly better than the null hypothesis, and the general likelihood test provides a statistical test to assess this.</b>"
   ]
  },
  {
   "cell_type": "markdown",
   "metadata": {},
   "source": [
    "### Challenge: \n",
    "\n",
    "Try to come up with another model with at most 4 parameters, and then:\n",
    "1. set-up the $\\mathrm{A}$-matrix, \n",
    "2. apply BLUE, \n",
    "3. compute the sum of squared residuals $\\hat{\\epsilon}^T \\Sigma_Y^{-1} \\hat{\\epsilon}$ for that model\n",
    "4. apply the GLRT with model 2 as null hypothesis, and your model as alternative hypothesis."
   ]
  },
  {
   "cell_type": "markdown",
   "metadata": {},
   "source": [
    " ```{admonition} Solutions\n",
    ":class: tip, dropdown\n",
    "\n",
    "<code> k = chi2.ppf(1 - alpha, 1)</code>\n",
    "\n",
    "<code> Tq = eTe_1 - eTe_2 </code>\n",
    "\n",
    "<code> Tq > k: </code>\n",
    "\n",
    "```\n",
    "\n"
   ]
  },
  {
   "cell_type": "markdown",
   "metadata": {},
   "source": []
  }
 ],
 "metadata": {
  "kernelspec": {
   "display_name": "Python 3 (ipykernel)",
   "language": "python",
   "name": "python3"
  },
  "language_info": {
   "codemirror_mode": {
    "name": "ipython",
    "version": 3
   },
   "file_extension": ".py",
   "mimetype": "text/x-python",
   "name": "python",
   "nbconvert_exporter": "python",
   "pygments_lexer": "ipython3",
   "version": "3.11.3"
  },
  "latex_envs": {
   "LaTeX_envs_menu_present": true,
   "autoclose": false,
   "autocomplete": true,
   "bibliofile": "biblio.bib",
   "cite_by": "apalike",
   "current_citInitial": 1,
   "eqLabelWithNumbers": true,
   "eqNumInitial": 1,
   "hotkeys": {
    "equation": "Ctrl-E",
    "itemize": "Ctrl-I"
   },
   "labels_anchors": false,
   "latex_user_defs": false,
   "report_style_numbering": false,
   "user_envs_cfg": false
  },
  "vscode": {
   "interpreter": {
    "hash": "cf78f3d1bc82cb39ac7a1165ed20acb9158792c8f97b380f92edad57bf927ea3"
   }
  }
 },
 "nbformat": 4,
 "nbformat_minor": 2
}
