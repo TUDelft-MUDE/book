{
 "cells": [
  {
   "cell_type": "markdown",
   "id": "03a34858",
   "metadata": {},
   "source": [
    "```{custom_download_link} 07_Notebook_NLSQ.zip\n",
    ":text: \".zip (with solution)\"\n",
    ":replace_default: \"False\"\n",
    "```"
   ]
  },
  {
   "cell_type": "code",
   "execution_count": null,
   "id": "golden-artist",
   "metadata": {
    "tags": [
     "thebe-remove-input-init"
    ]
   },
   "outputs": [],
   "source": [
    "import numpy as np\n",
    "import matplotlib.pyplot as plt\n",
    "%matplotlib inline"
   ]
  },
  {
   "cell_type": "markdown",
   "id": "level-municipality",
   "metadata": {},
   "source": [
    "\n",
    "## Notebook Gauss-Newton iteration for a point on a circle\n",
    "\n",
    "If you want to download the notebook, select the .zip after clicking on {fa}`download`.\n",
    "\n",
    "Click {fa}`rocket` --> {guilabel}`Live Code` on the top right corner of this screen and then wait until all cells are executed.\n",
    "\n",
    "In this exercise we will consider the following problem:\n",
    "\n",
    "we have a point on a circle with known radius $r=2$ meters. We are interested in the unknown angle $x=\\alpha$. We do have an observation of both the $u$- and $v$-coordinate. Our observations are $u=1.4957$ and $v=1.5048$ m.\n",
    "\n",
    "![](https://files.mude.citg.tudelft.nl/07_circle.png)\n",
    "    \n",
    "By completing the code below you will perform the Gauss-Newton iteration to obtain an estimate for the angle. Note that we express the angle in radians.\n",
    "\n",
    "Our functional model is given by:\n",
    "\n",
    "$$\n",
    "\\mathbb{E}(Y)=\\begin{bmatrix}2\\cos x\\\\ 2 \\sin x\\end{bmatrix}\n",
    "$$\n",
    "\n",
    "We assume that both observables have a precision of 5 mm.\n",
    "\n",
    "The observation vector <code>y</code> and <code>inv_Sigma_Y</code>$=\\Sigma_Y^{-1}$ are already defined.\n",
    "\n",
    "You are asked to derive what the Jacobian matrix is and complete the code to compute:\n",
    "    \n",
    "<code>y_comp</code> $=q(x_{[i]})$ \n",
    "    \n",
    "<code>dy</code> $=\\Delta y_{[i]}$ \n",
    "    \n",
    "<code>J</code>$=J_{[i]}$ \n",
    "\n",
    "Change the value of the initial value <code>x_init</code> to see the effect in the figures.\n",
    "    \n",
    "In this case we will not use a stop criterion for the iteration, but simply stop after <code>N=10</code> iterations."
   ]
  },
  {
   "cell_type": "code",
   "execution_count": null,
   "id": "dc366d1c",
   "metadata": {},
   "outputs": [],
   "source": [
    "y = np.array([1.4957, 1.5048]) \n",
    "var_Y = 5e-3**2\n",
    "inv_Sigma_Y = 1/var_Y * np.eye(2)\n",
    "\n",
    "x_init = 2\n",
    "\n",
    "N = 10\n",
    "dx_i = np.zeros(N) # initialize the dx_i vector\n",
    "x_i = np.zeros(N+1) # initialize the x_i vector\n",
    "x_i[0] = x_init \n",
    "\n",
    "for i in np.arange(N):\n",
    "    y_comp = np.array([ ? , ? ]) \n",
    "    dy = ?\n",
    "    J = np.array([ ? , ? ]) \n",
    "    \n",
    "    # note that (J.T @ inv_Sigma_Y @ J) is a scalar, therefore we \n",
    "    # use 1/(...) instead of np.linalg.inv(...)\n",
    "    dx_i[i] = 1/(J.T @ inv_Sigma_Y @ J) * J.T @ inv_Sigma_Y @ dy \n",
    "    x_i[i+1] = x_i[i] + dx_i[i] \n",
    "\n",
    "# set final estimate equal to the last value in x_i and evaluate its precision\n",
    "xhat = x_i[-1]\n",
    "sigma_xhat = np.sqrt(1/(J.T @ inv_Sigma_Y @ J))\n",
    "\n",
    "print(f'The final estimate for the angle is: {xhat:.3f} radians\\n')\n",
    "print(f'The precision of the estimated angle is: {sigma_xhat:.2e} radians')\n",
    "\n",
    "fig, ax = plt.subplots(1, 2, figsize = (16, 6))\n",
    "ax[0].plot(dx_i, 'r-o')\n",
    "ax[0].set_xlabel('iteration number $i$', fontsize = 15)\n",
    "ax[0].set_ylabel('$\\Delta \\hat{x}_{[i]}$ [rad]', fontsize = 15)\n",
    "ax[0].grid()\n",
    "ax[1].plot(x_i, 'r-o')\n",
    "ax[1].set_xlabel('iteration number $i$', fontsize = 15)\n",
    "ax[1].set_ylabel('$x_{[i]}$ [rad]', fontsize = 15)\n",
    "ax[1].grid()"
   ]
  },
  {
   "cell_type": "markdown",
   "id": "acting-judge",
   "metadata": {},
   "source": [
    "The left-side figure shows for each iteration the value of $\\Delta \\hat{x}_{[i]}$, which should become smaller and smaller if all goes well. On the right-hand side you see how $x_{[i]}$ is updated in each iteration step, where the final value will be used as our estimate $\\hat{x}=x_{[10]}$."
   ]
  },
  {
   "cell_type": "markdown",
   "id": "ba15c580",
   "metadata": {},
   "source": [
    "```{admonition} Solutions\n",
    ":class: tip, dropdown\n",
    "\n",
    "<code>y_comp = np.array([ 2 * np.cos(x_i[i]) , 2 * np.sin(x_i[i]) ]) </code>  \n",
    "\n",
    "<code>dy = y - y_comp</code>  \n",
    "\n",
    "<code>J = np.array([ -2 * np.sin(x_i[i]) , 2 * np.cos(x_i[i]) ]) </code>  \n",
    "\n",
    "```"
   ]
  }
 ],
 "metadata": {
  "kernelspec": {
   "display_name": "Python 3 (ipykernel)",
   "language": "python",
   "name": "python3"
  },
  "language_info": {
   "codemirror_mode": {
    "name": "ipython",
    "version": 3
   },
   "file_extension": ".py",
   "mimetype": "text/x-python",
   "name": "python",
   "nbconvert_exporter": "python",
   "pygments_lexer": "ipython3",
   "version": "3.11.3"
  }
 },
 "nbformat": 4,
 "nbformat_minor": 5
}
